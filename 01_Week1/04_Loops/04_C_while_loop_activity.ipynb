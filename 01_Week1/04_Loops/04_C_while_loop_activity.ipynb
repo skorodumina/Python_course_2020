{
 "cells": [
  {
   "cell_type": "markdown",
   "metadata": {},
   "source": [
    "This is the same activity as with for loops with some additions. You can always write a for loop in the form of a while loop, but not vice versa. "
   ]
  },
  {
   "cell_type": "markdown",
   "metadata": {},
   "source": [
    "# 1\n",
    "Create a list of numbers (e.g. `myList = [1,2,3,4]`). Write a `while` loop that loops through the numbers in your list, and print each number by adding a print statement inside the loop. The variable that you use to do the looping (whatever is between `for` and `in`), can be named anything that you want. "
   ]
  },
  {
   "cell_type": "code",
   "execution_count": null,
   "metadata": {},
   "outputs": [],
   "source": []
  },
  {
   "cell_type": "markdown",
   "metadata": {},
   "source": [
    "# 2\n",
    "Take your code from problem 1, and instead of simply printing the number on each loop iteration, add 1 to the value and then print it. "
   ]
  },
  {
   "cell_type": "code",
   "execution_count": null,
   "metadata": {},
   "outputs": [],
   "source": []
  },
  {
   "cell_type": "markdown",
   "metadata": {},
   "source": [
    "# 3\n",
    "Replace your list of numbers from problem 1 (no adding, just printing) with a list of strings (e.g. `myList = ['hello','how','are','you']`) and run the same code to verify that you understand what the loop is doing. "
   ]
  },
  {
   "cell_type": "code",
   "execution_count": null,
   "metadata": {},
   "outputs": [],
   "source": []
  },
  {
   "cell_type": "markdown",
   "metadata": {},
   "source": [
    "# 4\n",
    "Start a `while` loop with `while True:`, this will always be the case, so the loop will run forever. However, you can still check conditions inside of the loop and use a `break` statement to leave it. Use the same loop from problem 1, use this different form of `while True:` and a `break` statement. "
   ]
  },
  {
   "cell_type": "code",
   "execution_count": null,
   "metadata": {},
   "outputs": [],
   "source": []
  }
 ],
 "metadata": {
  "kernelspec": {
   "display_name": "Python 3",
   "language": "python",
   "name": "python3"
  },
  "language_info": {
   "codemirror_mode": {
    "name": "ipython",
    "version": 3
   },
   "file_extension": ".py",
   "mimetype": "text/x-python",
   "name": "python",
   "nbconvert_exporter": "python",
   "pygments_lexer": "ipython3",
   "version": "3.6.8"
  }
 },
 "nbformat": 4,
 "nbformat_minor": 2
}
