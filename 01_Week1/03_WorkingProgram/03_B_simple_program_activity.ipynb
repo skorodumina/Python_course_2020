{
 "cells": [
  {
   "cell_type": "markdown",
   "metadata": {},
   "source": [
    "This is a more complicated program, and it also provides much less in the way of guidelines. There is a solution notebook for this activity since there is no code here, which you can use if you need a hint or to check your answers. "
   ]
  },
  {
   "cell_type": "markdown",
   "metadata": {},
   "source": [
    "# 1a\n",
    "I need some code that lets a user guess a letter that I have chosen from the alphabet. \n",
    "The code should ask for a guess from the user, and then print back the guess with\n",
    "some phrase like, `You guessed: x`"
   ]
  },
  {
   "cell_type": "code",
   "execution_count": null,
   "metadata": {},
   "outputs": [],
   "source": []
  },
  {
   "cell_type": "markdown",
   "metadata": {},
   "source": [
    "# 1b\n",
    "Take your code from problem 1a, and put it inside of a function called `ask_user_for_next_letter`. You don't have to change anything, just make it so that instead of simply running the cell and having it ask for input, a user has to call the function to get the prompt to give it a guess."
   ]
  },
  {
   "cell_type": "code",
   "execution_count": null,
   "metadata": {},
   "outputs": [],
   "source": []
  },
  {
   "cell_type": "markdown",
   "metadata": {},
   "source": [
    "# 2a\n",
    "Now I need some code that prints the letters in a word one-by-one. Start by defining some word as a string (e.g. `myWord='python'`). Then use a `for` loop to go through each letter in the word, and print it. The letters will (probably) appear on separate lines."
   ]
  },
  {
   "cell_type": "code",
   "execution_count": null,
   "metadata": {},
   "outputs": [],
   "source": []
  },
  {
   "cell_type": "markdown",
   "metadata": {},
   "source": [
    "# 2b\n",
    "Now ammend your code so that you store a word and a letter (in your word) at the top of the cell e.g.: \n",
    "\n",
    "`myWord='python'`\n",
    "\n",
    "`myLetter='p'`\n",
    "\n",
    "Add an `if/else` statement to your loop that checks if each letter is equal to your saved letter (myLetter) before it prints. If it is the same letter, it prints the letter. Otherwise it just prints an dash ('-')."
   ]
  },
  {
   "cell_type": "code",
   "execution_count": null,
   "metadata": {},
   "outputs": [],
   "source": []
  },
  {
   "cell_type": "markdown",
   "metadata": {},
   "source": [
    "# 2c\n",
    "Make another ammendment to your code that checks if each letter is in a *list* of letters that you define, instead of just a single letter (Hint: `==` checks if two things are exactly equal, while `in` checks if one variable is part of another.)"
   ]
  },
  {
   "cell_type": "code",
   "execution_count": null,
   "metadata": {},
   "outputs": [],
   "source": []
  },
  {
   "cell_type": "markdown",
   "metadata": {},
   "source": [
    "# 2d\n",
    "Make one more change to your code. Instead of printing each letter or underscore inside of the loop, add it to a string. Strings are really lists, so something like this will work in Python:\n",
    "\n",
    "`myString='p'`\n",
    "\n",
    "`myString=myString+'y'`\n",
    "\n",
    "Now myString will be \"py\". At the end of your loop, print the final string."
   ]
  },
  {
   "cell_type": "code",
   "execution_count": null,
   "metadata": {},
   "outputs": [],
   "source": []
  },
  {
   "cell_type": "markdown",
   "metadata": {},
   "source": [
    "# 2e\n",
    "Take your code from problem 2 and place it inside of a function called `generate_word_string`. The function should take two arguments: The word that you're looping through, and a list of letters that you're checking. Make sure that the names of the arguments that you use match the variables that you set at the top of your cell in part 2c if you're going to copy/paste your code. This function should return the string (`myString`) that you printed at the end of part 2d."
   ]
  },
  {
   "cell_type": "code",
   "execution_count": null,
   "metadata": {},
   "outputs": [],
   "source": []
  },
  {
   "cell_type": "markdown",
   "metadata": {},
   "source": [
    "# 3a\n",
    "Use a \"while\" loop to continuously ask for letters to guess by calling your function in problem 1 on every iteration. Every while loop needs a condition to be met, or else it will just continue forever (an infinite loop). Create a variable at the top of the cell that is equal to a letter. If the user's guess is equal to that letter, stop the loop and tell them they guessed correctly. \n"
   ]
  },
  {
   "cell_type": "code",
   "execution_count": null,
   "metadata": {},
   "outputs": [],
   "source": []
  },
  {
   "cell_type": "markdown",
   "metadata": {},
   "source": [
    "# 3b\n",
    "Combine your work in problems 1 and 2. Set a word at the top of the cell, then on every loop iteration ask for a new letter from the user. Pass the word you set at the top of the cell and the letter guessed by the user to your function from problem 2, and have it print the result. If the letter is in the word, have the while loop exit. If not, have it ask for another letter. "
   ]
  },
  {
   "cell_type": "code",
   "execution_count": null,
   "metadata": {},
   "outputs": [],
   "source": []
  },
  {
   "cell_type": "markdown",
   "metadata": {},
   "source": [
    "# 3c \n",
    "Instead of exiting the loop when a single letter is guessed correctly, have it exit only when all letters have been guessed. You can do this in a couple of ways: Check if the output of your function from problem 2 is identical to the word you've set at the top of the cell for problem 3, keep track of each guess and check if all of the (*unique*) letters in the word you've chosen have been guessed, etc. "
   ]
  },
  {
   "cell_type": "code",
   "execution_count": null,
   "metadata": {},
   "outputs": [],
   "source": []
  },
  {
   "cell_type": "markdown",
   "metadata": {},
   "source": [
    "# That's it!\n",
    "Congratulations, you made a simple hangman game. Some optional things you could add:\n",
    "\n",
    "1. Handle the case of a user sending you upper or lower case letters\n",
    "\n",
    "2. Have the program print that a letter has already been guessed, instead of simply accepting the guess\n",
    "\n",
    "3. Implement an allowed total number of guesses, and have the program exit if either the word is guessed OR the number of guesses reaches your limit\n",
    "\n",
    "4. Anything else you want!"
   ]
  }
 ],
 "metadata": {
  "kernelspec": {
   "display_name": "Python 3",
   "language": "python",
   "name": "python3"
  },
  "language_info": {
   "codemirror_mode": {
    "name": "ipython",
    "version": 3
   },
   "file_extension": ".py",
   "mimetype": "text/x-python",
   "name": "python",
   "nbconvert_exporter": "python",
   "pygments_lexer": "ipython3",
   "version": "3.6.8"
  }
 },
 "nbformat": 4,
 "nbformat_minor": 2
}
