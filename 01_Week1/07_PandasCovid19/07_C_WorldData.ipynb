{
 "cells": [
  {
   "cell_type": "code",
   "execution_count": null,
   "metadata": {},
   "outputs": [],
   "source": [
    "## https://towardsdatascience.com/visualizing-covid-19-data-beautifully-in-python-in-5-minutes-or-less-affc361b2c6a"
   ]
  },
  {
   "cell_type": "code",
   "execution_count": null,
   "metadata": {},
   "outputs": [],
   "source": [
    "%matplotlib inline\n",
    "# Section 1 - Loading our Libraries\n",
    "import pandas as pd\n",
    "import matplotlib.pyplot as plt\n",
    "from matplotlib.dates import DateFormatter\n",
    "import matplotlib.ticker as ticker\n",
    "\n",
    "# Section 2 - Loading and Selecting Data\n",
    "df = pd.read_csv('https://raw.githubusercontent.com/datasets/covid-19/master/data/countries-aggregated.csv', parse_dates=['Date'])\n",
    "countries = ['Canada', 'Germany', 'United Kingdom', 'US', 'France', 'China']\n",
    "df = df[df['Country'].isin(countries)]\n",
    "\n",
    "# Section 3 - Creating a Summary Column\n",
    "df['Cases'] = df[['Confirmed', 'Recovered', 'Deaths']].sum(axis=1)"
   ]
  },
  {
   "cell_type": "code",
   "execution_count": null,
   "metadata": {},
   "outputs": [],
   "source": [
    "# Section 4 - Restructuring our Data\n",
    "df = df.pivot(index='Date', columns='Country', values='Cases')\n",
    "countries = list(df.columns)\n",
    "covid = df.reset_index('Date')\n",
    "covid.set_index(['Date'], inplace=True)\n",
    "covid.columns = countries\n",
    "\n",
    "# Section 5 - Calculating Rates per 100,000\n",
    "populations = {'Canada':37664517, 'Germany': 83721496 , 'United Kingdom': 67802690 , 'US': 330548815, 'France': 65239883, 'China':1438027228}\n",
    "percapita = covid.copy()\n",
    "for country in list(percapita.columns):\n",
    "    percapita[country] = percapita[country]/populations[country]*100000"
   ]
  },
  {
   "cell_type": "code",
   "execution_count": null,
   "metadata": {},
   "outputs": [],
   "source": [
    "# Section 6 - Generating Colours and Style\n",
    "colors = {'Canada':'#045275', 'China':'#089099', 'France':'#7CCBA2', 'Germany':'#FCDE9C', 'US':'#DC3977', 'United Kingdom':'#7C1D6F'}\n",
    "plt.style.use('fivethirtyeight')\n",
    "\n",
    "# Section 7 - Creating the Visualization\n",
    "plot = covid.plot(figsize=(12,8), color=list(colors.values()), linewidth=5, legend=False)\n",
    "plot.yaxis.set_major_formatter(ticker.StrMethodFormatter('{x:,.0f}'))\n",
    "plot.grid(color='#d4d4d4')\n",
    "plot.set_xlabel('Date')\n",
    "plot.set_ylabel('# of Cases')\n",
    "\n",
    "# Section 8 - Assigning Colour\n",
    "for country in list(colors.keys()):\n",
    "    plot.text(x = covid.index[-1], y = covid[country].max(), color = colors[country], s = country, weight = 'bold')\n",
    "\n",
    "# Section 9 - Adding Labels\n",
    "plot.text(x = covid.index[1], y = int(covid.max().max())+350000, s = \"COVID-19 Cases by Country\", fontsize = 23, weight = 'bold', alpha = .75)\n",
    "plot.text(x = covid.index[1], y = int(covid.max().max())+15000, s = \"For the USA, China, Germany, France, United Kingdom, and Canada\\nIncludes Current Cases, Recoveries, and Deaths\", fontsize = 16, alpha = .75)\n",
    "plot.text(x = percapita.index[1], y = -100000,s = 'datagy.io                      Source: https://github.com/datasets/covid-19/blob/master/data/countries-aggregated.csv', fontsize = 10);"
   ]
  },
  {
   "cell_type": "code",
   "execution_count": null,
   "metadata": {},
   "outputs": [],
   "source": [
    "percapitaplot = percapita.plot(figsize=(12,8), color=list(colors.values()), linewidth=5, legend=False)\n",
    "percapitaplot.grid(color='#d4d4d4')\n",
    "percapitaplot.set_xlabel('Date')\n",
    "percapitaplot.set_ylabel('# of Cases per 100,000 People')\n",
    "for country in list(colors.keys()):\n",
    "    percapitaplot.text(x = percapita.index[-1], y = percapita[country].max(), color = colors[country], s = country, weight = 'bold')\n",
    "percapitaplot.text(x = percapita.index[1], y = percapita.max().max()+100, s = \"Per Capita COVID-19 Cases by Country\", fontsize = 23, weight = 'bold', alpha = .75)\n",
    "percapitaplot.text(x = percapita.index[1], y = percapita.max().max(), s = \"For the USA, China, Germany, France, United Kingdom, and Canada\\nIncludes Current Cases, Recoveries, and Deaths\", fontsize = 16, alpha = .75)\n",
    "percapitaplot.text(x = percapita.index[1], y = -30,s = 'datagy.io                      Source: https://github.com/datasets/covid-19/blob/master/data/countries-aggregated.csv', fontsize = 10);"
   ]
  },
  {
   "cell_type": "code",
   "execution_count": null,
   "metadata": {},
   "outputs": [],
   "source": []
  }
 ],
 "metadata": {
  "kernelspec": {
   "display_name": "Python 3",
   "language": "python",
   "name": "python3"
  },
  "language_info": {
   "codemirror_mode": {
    "name": "ipython",
    "version": 3
   },
   "file_extension": ".py",
   "mimetype": "text/x-python",
   "name": "python",
   "nbconvert_exporter": "python",
   "pygments_lexer": "ipython3",
   "version": "3.7.7"
  }
 },
 "nbformat": 4,
 "nbformat_minor": 2
}
