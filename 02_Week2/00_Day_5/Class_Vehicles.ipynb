{
 "cells": [
  {
   "cell_type": "code",
   "execution_count": 3,
   "metadata": {},
   "outputs": [],
   "source": [
    "class Vehicle:\n",
    "    def __init__(\n",
    "        self, \n",
    "        name = None,\n",
    "        width = None,\n",
    "        length = None,\n",
    "        ):\n",
    "        self.name = name\n",
    "        self.width = width\n",
    "        self.length = length\n",
    "\n",
    "    \n",
    "\n"
   ]
  },
  {
   "cell_type": "code",
   "execution_count": 4,
   "metadata": {},
   "outputs": [
    {
     "name": "stdout",
     "output_type": "stream",
     "text": [
      "classname boat\n",
      "name santa maria\n",
      "width 30\n",
      "length 70\n",
      "doorcount 0\n"
     ]
    }
   ],
   "source": [
    "class Boat(Vehicle):\n",
    "    def __init__(\n",
    "        self, \n",
    "        name = None,\n",
    "        width = None,\n",
    "        length = None,\n",
    "        doorcount = 0,\n",
    "        ):\n",
    "        Vehicle.__init__( \n",
    "            self, \n",
    "            name = name, \n",
    "            width = width, \n",
    "            length = length)\n",
    "\n",
    "        self.classname = 'boat'\n",
    "        self.doorcount = doorcount\n",
    "\n",
    "    def printself(self):\n",
    "        print( 'classname', self.classname )\n",
    "        print( 'name', self.name )\n",
    "        print( 'width', self.width )\n",
    "        print( 'length', self.length )\n",
    "        print( 'doorcount', self.doorcount )\n",
    "\n",
    "boat1 = Boat(name = 'santa maria', width = 30, length = 70)\n",
    "\n",
    "\n",
    "boat1.printself()\n",
    "\n"
   ]
  },
  {
   "cell_type": "code",
   "execution_count": 8,
   "metadata": {},
   "outputs": [
    {
     "name": "stdout",
     "output_type": "stream",
     "text": [
      "classname Automobile\n",
      "name dadcar\n",
      "width 6\n",
      "length 12\n",
      "doorcount None\n",
      "Automobilebrand toyota\n",
      "Automobilemodel camry\n",
      "year 2019\n"
     ]
    }
   ],
   "source": [
    "class Automobile(Vehicle):\n",
    "    def __init__(\n",
    "        self, \n",
    "        name = None,\n",
    "        width = None,\n",
    "        length = None,\n",
    "\n",
    "        doorcount = None,\n",
    "        Automobilebrand = None,\n",
    "        Automobilemodel = None,\n",
    "        year = None,\n",
    "        ):\n",
    "        Vehicle.__init__( \n",
    "            self, \n",
    "            name = name, \n",
    "            width = width, \n",
    "            length = length)\n",
    "\n",
    "        self.classname = 'Automobile'\n",
    "        self.doorcount = doorcount\n",
    "        self.Automobilebrand = Automobilebrand\n",
    "        self.Automobilemodel = Automobilemodel\n",
    "        self.year = year\n",
    "\n",
    "\n",
    "\n",
    "    def printself(self):\n",
    "        print( 'classname', self.classname )\n",
    "        print( 'name', self.name )\n",
    "        print( 'width', self.width )\n",
    "        print( 'length', self.length )\n",
    "        print( 'doorcount', self.doorcount )\n",
    "        print( 'Automobilebrand', self.Automobilebrand )\n",
    "        print( 'Automobilemodel', self.Automobilemodel )\n",
    "        print( 'year', self.year )\n",
    "\n",
    "Automobile1 = Automobile(\n",
    "    name = 'dadcar', \n",
    "    Automobilebrand = 'toyota', \n",
    "    Automobilemodel = 'camry', \n",
    "    year = '2019', \n",
    "    width = 6, \n",
    "    length = 12)\n",
    "\n",
    "\n",
    "Automobile1.printself()\n",
    "\n"
   ]
  },
  {
   "cell_type": "code",
   "execution_count": null,
   "metadata": {},
   "outputs": [],
   "source": []
  }
 ],
 "metadata": {
  "kernelspec": {
   "display_name": "Python 3",
   "language": "python",
   "name": "python3"
  },
  "language_info": {
   "codemirror_mode": {
    "name": "ipython",
    "version": 3
   },
   "file_extension": ".py",
   "mimetype": "text/x-python",
   "name": "python",
   "nbconvert_exporter": "python",
   "pygments_lexer": "ipython3",
   "version": "3.7.2"
  }
 },
 "nbformat": 4,
 "nbformat_minor": 2
}
