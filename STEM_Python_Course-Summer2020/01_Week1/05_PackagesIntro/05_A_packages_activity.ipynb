{
 "cells": [
  {
   "cell_type": "markdown",
   "metadata": {},
   "source": [
    "In Python, there is often something that you want to be able to do that someone else has already figured out. For example, you may want to read an excel file, or plot some data, or calculate some statistic. You don't need to start from scratch and write an entire script that accomplishes tasks like this. Instead you can do what's called an ``import``, which basically gives you access to code that someone else has written. To do this, you just need to know the name of the ``package``, and the name of the ``function`` you want to use. In this activity, you'll use what you learned about reading documentation to implement code written by someone else, that you can use for your own purposes. "
   ]
  },
  {
   "cell_type": "markdown",
   "metadata": {},
   "source": [
    "# NumPy\n",
    "You will use what you learned about finding the correct documentation and code help to implement functions inside of the NumPy package. Note while searching online for information about Numpy that it is often abbreviated as ``np``. "
   ]
  },
  {
   "cell_type": "markdown",
   "metadata": {},
   "source": [
    "Consider your grocery list from previous activities. This time, suppose you're keeping track of the cost of apples over time. You go to the store 5 times, and each time you record the price of apples:"
   ]
  },
  {
   "cell_type": "code",
   "execution_count": null,
   "metadata": {},
   "outputs": [],
   "source": [
    "apples_price = [1.34,2.01,1.75,1.50,2.50]"
   ]
  },
  {
   "cell_type": "markdown",
   "metadata": {},
   "source": [
    "Turn this list into a Numpy array. First figure out how to ``import`` Numpy correctly, then how to turn this into a Numpy array. "
   ]
  },
  {
   "cell_type": "code",
   "execution_count": null,
   "metadata": {},
   "outputs": [],
   "source": [
    "#add import here\n",
    "\n",
    "#then create your array\n",
    "apples_price_array = "
   ]
  },
  {
   "cell_type": "markdown",
   "metadata": {},
   "source": [
    "Whoops, you made a mistake and wrote down the price for 2 apples each time instead of 1! Multiply your array by 0.5 (or divide by 2) to correct for this issue. "
   ]
  },
  {
   "cell_type": "code",
   "execution_count": null,
   "metadata": {},
   "outputs": [],
   "source": [
    "# fix the mistake here\n",
    "\n",
    "print(apples_price_array)\n",
    "# did the numbers in the array halve?"
   ]
  },
  {
   "cell_type": "markdown",
   "metadata": {},
   "source": [
    "You also recorded the price of cookies while shopping, and made a new list of prices for cookies. Turn it into an array, and then add it to your apples array to get your total cost of shopping per trip."
   ]
  },
  {
   "cell_type": "code",
   "execution_count": null,
   "metadata": {},
   "outputs": [],
   "source": []
  },
  {
   "cell_type": "code",
   "execution_count": null,
   "metadata": {},
   "outputs": [],
   "source": [
    "# paste your apples_price_array declaration here\n",
    "\n",
    "cookies_price = [0.53,1.21,0.75,1.23,0.95]\n",
    "#create your array\n",
    "cookies_price_array = \n",
    "\n",
    "#add together the apples_price_array and the cookies_price_array here\n",
    "total_shopping_cost_per_trip = \n",
    "print('My cost per trip was: ',total_shopping_cost_per_trip)"
   ]
  },
  {
   "cell_type": "markdown",
   "metadata": {},
   "source": [
    "Your final array (``total_shopping_cost_per_trip``) tells you the cost of each of your trips to the grocery store over 5 trips. How much did you spend combined for all trips? Try Numpy's ``sum`` function."
   ]
  },
  {
   "cell_type": "code",
   "execution_count": null,
   "metadata": {},
   "outputs": [],
   "source": [
    "total_cost_of_groceries = \n",
    "print('In total I spent: ',total_cost_of_groceries)"
   ]
  },
  {
   "cell_type": "markdown",
   "metadata": {},
   "source": [
    "# Matplotlib\n",
    "You will use what you learned about finding the correct documentation and code help to implement functions inside of the Matplotlib package. This one is a little more complicated so we'll give you the first line for free. Matplotlib has a variety of components built into it, so that instead of simply importing the Matplotlib package and using its valuable functions, you need to call the ``pyplot`` module inside of Matplotlib. This won't really matter to you in terms of usage, except that when we say something like \"use the Matplotlib ``plot`` function\", you will run ``matplotlib.pyplot.plot`` instead of ``matplotlib.plot``."
   ]
  },
  {
   "cell_type": "markdown",
   "metadata": {},
   "source": [
    "Use the Matplotlib ``hist`` function to plot a histogram of the price data for apples that you implemented above."
   ]
  },
  {
   "cell_type": "code",
   "execution_count": null,
   "metadata": {},
   "outputs": [],
   "source": [
    "import matplotlib.pyplot #your matplotlib import, note the added \".pyplot\"\n",
    "import numpy #your numpy import\n",
    "# replace your definition of the apples_price_array here:\n",
    "apples_price_array = \n",
    "\n",
    "# create your histogram here:\n",
    "\n",
    "\n",
    "matplotlib.pyplot.show() # This just shows your plot. You could also save it with \"savefig\""
   ]
  },
  {
   "cell_type": "markdown",
   "metadata": {},
   "source": [
    "Now use the Matplotlib ``scatter`` function to plot the price of cookies vs. the price of apples per trip to the grocery store (critical information to have!)"
   ]
  },
  {
   "cell_type": "code",
   "execution_count": null,
   "metadata": {},
   "outputs": [],
   "source": [
    "# insert your implementation of the \"scatter\" function here\n",
    "\n",
    "\n",
    "matplotlib.pyplot.show() # This just shows your plot. You could also save it with \"savefig\""
   ]
  },
  {
   "cell_type": "markdown",
   "metadata": {},
   "source": [
    "Spend as much time as you want looking at matplotlib documentation and other sources to make your plots look better. Some ideas: Add axis labels, change the color of your data points, add a legend, etc. "
   ]
  },
  {
   "cell_type": "markdown",
   "metadata": {},
   "source": [
    "# Pandas\n",
    "You will use what you learned about finding the correct documentation and code help to implement functions inside of the Pandas package. Pandas is a very powerful package that makes it much simpler to interact with large datasets, data files, and excel files (plus much more). "
   ]
  },
  {
   "cell_type": "markdown",
   "metadata": {},
   "source": [
    "We're going to use pandas to read/write excel files"
   ]
  },
  {
   "cell_type": "code",
   "execution_count": 3,
   "metadata": {},
   "outputs": [
    {
     "data": {
      "text/html": [
       "<div>\n",
       "<style scoped>\n",
       "    .dataframe tbody tr th:only-of-type {\n",
       "        vertical-align: middle;\n",
       "    }\n",
       "\n",
       "    .dataframe tbody tr th {\n",
       "        vertical-align: top;\n",
       "    }\n",
       "\n",
       "    .dataframe thead th {\n",
       "        text-align: right;\n",
       "    }\n",
       "</style>\n",
       "<table border=\"1\" class=\"dataframe\">\n",
       "  <thead>\n",
       "    <tr style=\"text-align: right;\">\n",
       "      <th></th>\n",
       "      <th>Timestamp</th>\n",
       "      <th>Which of these foods do you prefer?</th>\n",
       "      <th>How big Harry Potter fan are you?</th>\n",
       "      <th>Please describe your Harry Potter fan level in one sentence.</th>\n",
       "      <th>What is your favorite Ice Cream flavor?</th>\n",
       "      <th>What is your age?</th>\n",
       "      <th>Which state are you from? (Leave blank if not applicable)</th>\n",
       "      <th>Which country are you from?</th>\n",
       "    </tr>\n",
       "  </thead>\n",
       "  <tbody>\n",
       "    <tr>\n",
       "      <th>0</th>\n",
       "      <td>2020-07-15 17:24:36.976</td>\n",
       "      <td>Pizza</td>\n",
       "      <td>5</td>\n",
       "      <td>Favorite series of all time</td>\n",
       "      <td>Cookies n' Cream</td>\n",
       "      <td>27</td>\n",
       "      <td>Maine</td>\n",
       "      <td>United States</td>\n",
       "    </tr>\n",
       "  </tbody>\n",
       "</table>\n",
       "</div>"
      ],
      "text/plain": [
       "                Timestamp Which of these foods do you prefer?  \\\n",
       "0 2020-07-15 17:24:36.976                               Pizza   \n",
       "\n",
       "   How big Harry Potter fan are you?  \\\n",
       "0                                  5   \n",
       "\n",
       "  Please describe your Harry Potter fan level in one sentence.  \\\n",
       "0                        Favorite series of all time             \n",
       "\n",
       "  What is your favorite Ice Cream flavor?  What is your age?  \\\n",
       "0                        Cookies n' Cream                 27   \n",
       "\n",
       "  Which state are you from? (Leave blank if not applicable)  \\\n",
       "0                                              Maine          \n",
       "\n",
       "  Which country are you from?  \n",
       "0               United States  "
      ]
     },
     "execution_count": 3,
     "metadata": {},
     "output_type": "execute_result"
    }
   ],
   "source": [
    "import pandas\n",
    "survey_responses = pandas.read_excel('participant_survey.xlsx')\n",
    "print(survey_responses)"
   ]
  },
  {
   "cell_type": "markdown",
   "metadata": {},
   "source": [
    "We will now go through each of the survey question responses and see what we can do with pandas, numpy, and matplotlib for each one. "
   ]
  },
  {
   "cell_type": "markdown",
   "metadata": {},
   "source": [
    "# Which  of these foods do you prefer?\n",
    "Try making a pie chart using matplotlib. "
   ]
  },
  {
   "cell_type": "code",
   "execution_count": null,
   "metadata": {},
   "outputs": [],
   "source": []
  },
  {
   "cell_type": "markdown",
   "metadata": {},
   "source": [
    "# How big of a Harry Potter Fan are you?\n",
    "Try making a histogram using pandas and/or matplotlib. Also take a look at things like `mean`, `median`, `std`, `max`, and `min` using numpy."
   ]
  },
  {
   "cell_type": "code",
   "execution_count": null,
   "metadata": {},
   "outputs": [],
   "source": []
  },
  {
   "cell_type": "markdown",
   "metadata": {},
   "source": [
    "# What is your favorite Ice Cream Flavor?\n",
    "Try making a pie chart using matplotlib."
   ]
  },
  {
   "cell_type": "code",
   "execution_count": null,
   "metadata": {},
   "outputs": [],
   "source": []
  },
  {
   "cell_type": "markdown",
   "metadata": {},
   "source": [
    "# What is your age?\n",
    "Try making a histogram using pandas and/or matplotlib. Also take a look at things like `mean`, `median`, `std`, `max`, and `min` using numpy."
   ]
  },
  {
   "cell_type": "code",
   "execution_count": null,
   "metadata": {},
   "outputs": [],
   "source": []
  },
  {
   "cell_type": "markdown",
   "metadata": {},
   "source": [
    "# Which state are you  from? \n",
    "Try making a pie chart using matplotlib. Also take a look at `unique` from numpy."
   ]
  },
  {
   "cell_type": "code",
   "execution_count": null,
   "metadata": {},
   "outputs": [],
   "source": []
  },
  {
   "cell_type": "markdown",
   "metadata": {},
   "source": [
    "# Which country are you from?\n",
    "Try making a pie chart using matplotlib. Also take a look at `unique` from numpy."
   ]
  },
  {
   "cell_type": "code",
   "execution_count": null,
   "metadata": {},
   "outputs": [],
   "source": []
  }
 ],
 "metadata": {
  "kernelspec": {
   "display_name": "Python 3",
   "language": "python",
   "name": "python3"
  },
  "language_info": {
   "codemirror_mode": {
    "name": "ipython",
    "version": 3
   },
   "file_extension": ".py",
   "mimetype": "text/x-python",
   "name": "python",
   "nbconvert_exporter": "python",
   "pygments_lexer": "ipython3",
   "version": "3.6.8"
  }
 },
 "nbformat": 4,
 "nbformat_minor": 2
}
