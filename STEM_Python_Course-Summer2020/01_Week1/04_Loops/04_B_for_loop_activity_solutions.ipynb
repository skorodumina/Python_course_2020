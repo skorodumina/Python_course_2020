{
 "cells": [
  {
   "cell_type": "markdown",
   "metadata": {},
   "source": [
    "# 1\n",
    "Create a list of numbers (e.g. `myList = [1,2,3,4]`). Write a `for` loop that loops through the numbers in your list, and print each number by adding a print statement inside the loop. The variable that you use to do the looping (whatever is between `for` and `in`), can be named anything that you want. "
   ]
  },
  {
   "cell_type": "code",
   "execution_count": null,
   "metadata": {},
   "outputs": [],
   "source": [
    "myList = [1,2,3,4]\n",
    "for num in myList: # this loops through every number in the list\n",
    "    print(num)"
   ]
  },
  {
   "cell_type": "markdown",
   "metadata": {},
   "source": [
    "# 2\n",
    "Take your code from problem 1, and instead of simply printing the number on each loop iteration, add 1 to the value and then print it. "
   ]
  },
  {
   "cell_type": "code",
   "execution_count": null,
   "metadata": {},
   "outputs": [],
   "source": [
    "myList = [1,2,3,4]\n",
    "for num in myList:\n",
    "    num = num + 1 \n",
    "    print(num)"
   ]
  },
  {
   "cell_type": "markdown",
   "metadata": {},
   "source": [
    "# 3\n",
    "Replace your list of numbers from problem 1 (no adding, just printing) with a list of strings (e.g. `myList = ['hello','how','are','you']`) and run the same code to verify that you understand what the loop is doing. "
   ]
  },
  {
   "cell_type": "code",
   "execution_count": null,
   "metadata": {},
   "outputs": [],
   "source": [
    "myList = ['hello','how','are','you']\n",
    "for num in myList: # note that we still have the variable name \"num\", but it's printing words\n",
    "    print(num)"
   ]
  },
  {
   "cell_type": "markdown",
   "metadata": {},
   "source": [
    "# 4\n",
    "Take your code from problem 1 (printing not adding) and replace the your explicit list of numbers with the `range` function. The first argument of the function is the number you want to start with, and the second argument is 1 number higher than the number you want to end with (i.e. if you want to loop through the numbers 1-->5, you use `range(1,6)`."
   ]
  },
  {
   "cell_type": "code",
   "execution_count": null,
   "metadata": {},
   "outputs": [],
   "source": [
    "for num in range(0,4): # you can also just use range(4), 0 is the first argument by default\n",
    "    print(num)"
   ]
  },
  {
   "cell_type": "markdown",
   "metadata": {},
   "source": [
    "# 5\n",
    "Ignoring loops for a moment, play around with an `index` variable and your list of strings. For example, `print(myList[0])` would print the first element of your list of strings. If you had a variable called index and set it to 0 (`index = 0`), then what should `print(myList[index])` do?"
   ]
  },
  {
   "cell_type": "code",
   "execution_count": null,
   "metadata": {},
   "outputs": [],
   "source": [
    "myList = ['hello','how','are','you']\n",
    "print(myList[0])\n",
    "index = 0\n",
    "print(myList[index])"
   ]
  },
  {
   "cell_type": "markdown",
   "metadata": {},
   "source": [
    "# 6\n",
    "Put your list of strings from problem 3 back at the top of the cell, and below it paste your code from problem 4. Now set the indexing variable in the for loop (the variable between `for` and `in`) to be called `index`. Replace your print statement from problem 4 (printing each number created by the range function) with your print statement from problem 5. "
   ]
  },
  {
   "cell_type": "code",
   "execution_count": null,
   "metadata": {},
   "outputs": [],
   "source": [
    "myList = ['hello','how','are','you']\n",
    "for index in range(0,4): #Make sure you don't let this loop run beyond the length of the list\n",
    "    print(myList[index])"
   ]
  },
  {
   "cell_type": "markdown",
   "metadata": {},
   "source": [
    "# 7\n",
    "Add a second list called `myList2` (the same length as `myList`) at the top of the cell, and then paste your code from problem 6 below it. Then instead of just printing `myList[index]`, print each element of both `myList` and `myList2` by adding a second print statement. This is one major use of for loops: doing some operation on each element of multiple lists."
   ]
  },
  {
   "cell_type": "code",
   "execution_count": null,
   "metadata": {},
   "outputs": [],
   "source": [
    "myList = ['hello','how','are','you']\n",
    "myList2 = ['I','am','doing','well']\n",
    "# The two lists have to be the same length to have this work (or\n",
    "# the indexing variable needs to run to a number smaller than\n",
    "# the length of either list)\n",
    "for index in range(0,4): \n",
    "    print(myList[index])\n",
    "    print(myList2[index])"
   ]
  },
  {
   "cell_type": "code",
   "execution_count": null,
   "metadata": {},
   "outputs": [],
   "source": []
  }
 ],
 "metadata": {
  "kernelspec": {
   "display_name": "Python 3",
   "language": "python",
   "name": "python3"
  },
  "language_info": {
   "codemirror_mode": {
    "name": "ipython",
    "version": 3
   },
   "file_extension": ".py",
   "mimetype": "text/x-python",
   "name": "python",
   "nbconvert_exporter": "python",
   "pygments_lexer": "ipython3",
   "version": "3.6.8"
  }
 },
 "nbformat": 4,
 "nbformat_minor": 2
}
