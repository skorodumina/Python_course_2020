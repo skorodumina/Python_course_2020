{
 "cells": [
  {
   "cell_type": "markdown",
   "metadata": {},
   "source": [
    "You will use the reference documents, your experience fixing errors from the `00_FixMe` activities, and your ability to read documentation/Stack Overflow threads to complete this activity. It is simply another set of cells to fix, now specifically for `for` and `while` loops. "
   ]
  },
  {
   "cell_type": "markdown",
   "metadata": {},
   "source": [
    "# For loops"
   ]
  },
  {
   "cell_type": "markdown",
   "metadata": {},
   "source": [
    "Let's break your old grocery list back out. This cell should define a list of grocery items, then loop through it and print the list. Fix this cell:"
   ]
  },
  {
   "cell_type": "code",
   "execution_count": null,
   "metadata": {},
   "outputs": [],
   "source": [
    "myGroceryList = ['apples','fish','chips','cookies'] # This line creates a list called \"myGroceryList\"\n",
    "                                                    # containing strings ('apples','fish',...)\n",
    "# Defining a for loop. Check the error and compare with working loops\n",
    "for groceryItem in myGroceryList\n",
    "    print(groceryItem)"
   ]
  },
  {
   "cell_type": "markdown",
   "metadata": {},
   "source": [
    "This is the same cell as above with a different issue. Look at the comments above and see if you can fix this cell. "
   ]
  },
  {
   "cell_type": "code",
   "execution_count": null,
   "metadata": {},
   "outputs": [],
   "source": [
    "myGroceryList = ['apples','fish','chips','cookies']\n",
    "for in myGroceryList:\n",
    "    print(groceryItem)"
   ]
  },
  {
   "cell_type": "markdown",
   "metadata": {},
   "source": [
    "This is the same cell as above with a different issue. Look at the comments above and see if you can fix this cell. "
   ]
  },
  {
   "cell_type": "code",
   "execution_count": null,
   "metadata": {},
   "outputs": [],
   "source": [
    "myGroceryList = ['apples','fish','chips','cookies']\n",
    "for groceryItem in myGroceryList:\n",
    "print(groceryItem)"
   ]
  },
  {
   "cell_type": "markdown",
   "metadata": {},
   "source": [
    "Okay now you want this loop to do the same thing as before: Print out each element of your grocery list. This time though, instead of printing each element itself you'll index the list and print each element in this new way. You'll notice not all elements are printed though, figure out why that is and fix it. "
   ]
  },
  {
   "cell_type": "code",
   "execution_count": null,
   "metadata": {},
   "outputs": [],
   "source": [
    "myGroceryList = ['apples','fish','chips','cookies']\n",
    "\n",
    "# the \"range\" function basically creates a list you don't see that runs from the first argument\n",
    "# to the second, incrementing by 1. Importantly, the second argument is not inclusive, so currently\n",
    "# the \"range\" function below will run over the integers 1,2,3\n",
    "for index in range(1,4): \n",
    "    print('Index: ',index,' Item: ',myGroceryList[index]) # This is indexing a list. \n",
    "                                       # If index is equal to 1,\n",
    "                                       # which element of this list is being accessed? You\n",
    "                                       # can check by seeing which element of the list is \n",
    "                                       # printed next to and index of 1. "
   ]
  },
  {
   "cell_type": "markdown",
   "metadata": {},
   "source": [
    "The list `myGroceryListAmounts` is the number of each item in your grocery list that you need to buy at the store. You remember you had one extra person coming for dinner, so you need to add one to each of the items in your list. Make sure that the printed result successfully increases the number of each element in the list by 1. "
   ]
  },
  {
   "cell_type": "code",
   "execution_count": null,
   "metadata": {},
   "outputs": [],
   "source": [
    "myGroceryListAmounts = [2,2,1,4]\n",
    "print('The length of my list is: ',len(myGroceryListAmounts)) # Just printing the length of the list, note\n",
    "                                                # that this is then used in the loop declaration\n",
    "    \n",
    "# You can use the range function to run up to the length of the list instead of a specific\n",
    "# number in case the list changes. Note that the length of this list is 4, so the range function\n",
    "# runs over the integers 0,1,2,3. Since list indexing starts at 0, this is all of the numbers\n",
    "# in the list.\n",
    "for index in range(0,len(myGroceryListAmounts)): \n",
    "    myGroceryListAmounts[index] = 1\n",
    "print(myGroceryListAmounts)"
   ]
  },
  {
   "cell_type": "markdown",
   "metadata": {},
   "source": [
    "# While loops\n",
    "`while` loops are alternatives to `for` loops. You must set the number of loops during the declaration when using a `for` loop, but not a `while` loop. A `while` loop runs indefinitely until some condition is met.\n",
    "\n",
    "If you accidentally create an infinite loop (i.e. a cell doesn't complete its task immediately), go up to the top of the notebook and hit \"Kernel\", and then \"Interrupt\"."
   ]
  },
  {
   "cell_type": "markdown",
   "metadata": {},
   "source": [
    "The following cells are very similar to the first section, just now using `while` loops instead of `for` loops. Fix each of them using what you know about syntax, and online documentation if necessary. "
   ]
  },
  {
   "cell_type": "code",
   "execution_count": null,
   "metadata": {},
   "outputs": [],
   "source": [
    "myGroceryList = ['apples','fish','chips','cookies']\n",
    "myGroceryListIndex = 0 # This is the same thing as doing\n",
    "                       # for myGroceryListIndex in range(5):\n",
    "while myGroceryListIndex < 3\n",
    "    print(myGroceryList[myGroceryListIndex])\n",
    "    myGroceryListIndex = myGroceryListIndex + 1 # Always make sure to update your condition\n",
    "                                                # variable on each iteration"
   ]
  },
  {
   "cell_type": "code",
   "execution_count": null,
   "metadata": {},
   "outputs": [],
   "source": [
    "myGroceryList = ['apples','fish','chips','cookies']\n",
    "myGroceryListIndex = 0\n",
    "while:\n",
    "    print(myGroceryList[myGroceryListIndex])\n",
    "    myGroceryListIndex = myGroceryListIndex + 1 # Always make sure to update your condition\n",
    "                                                # variable on each iteration"
   ]
  },
  {
   "cell_type": "code",
   "execution_count": null,
   "metadata": {},
   "outputs": [],
   "source": [
    "myNumber = 0\n",
    "while myNumber < 5:\n",
    "print(myNumber)\n",
    "myNumber = myNumber + 1"
   ]
  },
  {
   "cell_type": "code",
   "execution_count": null,
   "metadata": {},
   "outputs": [],
   "source": [
    "myGroceryList = ['apples','fish','chips','cookies']\n",
    "myGroceryListIndex = 0\n",
    "while myGroceryListIndex < 3:\n",
    "    print(myGroceryList[myGroceryListIndex])\n"
   ]
  },
  {
   "cell_type": "markdown",
   "metadata": {},
   "source": [
    "This cell will run, but won't print all of the items in your list. Change it so that it prints the entire list."
   ]
  },
  {
   "cell_type": "code",
   "execution_count": null,
   "metadata": {},
   "outputs": [],
   "source": [
    "myGroceryList = ['apples','fish','chips','cookies']\n",
    "print('The length of my grocery list is: ',len(myGroceryList))\n",
    "myGroceryListIndex = 0\n",
    "while myGroceryListIndex < 2:\n",
    "    print(myGroceryList[myGroceryListIndex])\n",
    "    myGroceryListIndex = myGroceryListIndex + 1\n"
   ]
  },
  {
   "cell_type": "code",
   "execution_count": null,
   "metadata": {},
   "outputs": [],
   "source": []
  }
 ],
 "metadata": {
  "kernelspec": {
   "display_name": "Python 3",
   "language": "python",
   "name": "python3"
  },
  "language_info": {
   "codemirror_mode": {
    "name": "ipython",
    "version": 3
   },
   "file_extension": ".py",
   "mimetype": "text/x-python",
   "name": "python",
   "nbconvert_exporter": "python",
   "pygments_lexer": "ipython3",
   "version": "3.6.8"
  }
 },
 "nbformat": 4,
 "nbformat_minor": 2
}
