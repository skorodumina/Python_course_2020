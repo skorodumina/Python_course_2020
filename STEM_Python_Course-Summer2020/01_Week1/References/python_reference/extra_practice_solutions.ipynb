{
 "cells": [
  {
   "cell_type": "markdown",
   "metadata": {},
   "source": [
    "# Introduction to Python - Extra Practice Solutions\n",
    "\n",
    "## Exercises Solutions\n",
    "\n",
    "These are some *possible* solutions to the exercises. Your code may be different, yet acheive the same goal. This is fine. These solutions are intended to serve as guiding examples."
   ]
  },
  {
   "cell_type": "markdown",
   "metadata": {},
   "source": [
    "**Exercise 1:**\n",
    "\n",
    "Write a *function* called exercise1(x,y) that prints the sum and product of the\n",
    "numbers x and y on separate lines, the sum printing first."
   ]
  },
  {
   "cell_type": "code",
   "execution_count": 1,
   "metadata": {},
   "outputs": [],
   "source": [
    "def exercise1(x,y):\n",
    "    print(x+y)\n",
    "    print(x*y)\n",
    "    "
   ]
  },
  {
   "cell_type": "markdown",
   "metadata": {},
   "source": [
    "**Exercise 2:**\n",
    "    \n",
    "Write a function called `exercise2(n)` that adds up the numbers `1` through `n` and\n",
    "prints out the result. You should use either a `while` loop or a `for` loop.\n",
    "Be sure that you check your answer on several numbers `n`, taking care that your\n",
    "loop steps through all the numbers from 1 through and including n.\n",
    "\n",
    "Tip: As this involves a loop you could make an error that causes it to run \n",
    "forever. Usually Control-C will stop it. With loops, take care that your first and last iterations are\n",
    "what you expect. A print statement can be inserted in the loop to monitor it while \n",
    "you are working through the program."
   ]
  },
  {
   "cell_type": "code",
   "execution_count": 53,
   "metadata": {
    "collapsed": true
   },
   "outputs": [],
   "source": [
    "def exercise2(n):\n",
    "    my_sum = 0\n",
    "    for ct in range(1, n + 1):\n",
    "        my_sum = my_sum + ct\n",
    "    print(my_sum)"
   ]
  },
  {
   "cell_type": "markdown",
   "metadata": {},
   "source": [
    "**Exercise 3:**\n",
    "\n",
    "Write a function called `exercise3(miles)` that converts miles to feet. There are\n",
    "5280 feet in each mile. Make the program print out the following statement:\n",
    "`There are 10560 feet in 2 miles.`"
   ]
  },
  {
   "cell_type": "code",
   "execution_count": 54,
   "metadata": {
    "collapsed": true
   },
   "outputs": [],
   "source": [
    "def exercise3(miles):\n",
    "    feet = miles*5280\n",
    "    print('There are',feet,'feet in',miles,'miles.')"
   ]
  },
  {
   "cell_type": "markdown",
   "metadata": {},
   "source": [
    "**Exercise 4:**\n",
    "\n",
    "Write a function called `exercise4(age)`. This function should use `if`-`elif`-`else`\n",
    "statement to print out `\"Have a glass of milk.\"` for anyone under 7; `\"Have\n",
    "a coke.\"` for anyone under 21, and `\"Have a martini.\"` for anyone 21 or older.\n",
    "\n",
    "Tip: Be careful about the ages 7 (a seven year old is not under 7) and 21."
   ]
  },
  {
   "cell_type": "code",
   "execution_count": 55,
   "metadata": {
    "collapsed": true
   },
   "outputs": [],
   "source": [
    "def exercise4(age):\n",
    "    if age < 7:\n",
    "        print('Have a glass of milk.')\n",
    "    elif age < 21:\n",
    "        print('Have a coke.')\n",
    "    else:\n",
    "        print('Have a martini.')"
   ]
  },
  {
   "cell_type": "markdown",
   "metadata": {},
   "source": [
    "**Exercise 5:**\n",
    "\n",
    "Write a function called `exercise5()` that prints odd numbers from 1 through 100.\n",
    "Make all of these numbers appear on the same line (when the line\n",
    "fills up it will wrap, but ignore that). In order to do this, your\n",
    "print statement should have `end=\" \"` in it. For example, `print(name,end=\" \")` \n",
    "will keep the next print statement from starting a new line. Be sure there is a\n",
    "space between these quotes or your numbers will run together. Use a `for` loop \n",
    "and a `range()` function. \n",
    "\n",
    "(Things to be careful of that might go wrong: you print too many numbers, you\n",
    "put too many spaces or no spaces, you print each number on its \n",
    "own line, you print even numbers or all numbers, your first number isn't 1 or\n",
    "your last number isn't 99.  Always check the first and last outputs when you write\n",
    "a loop.)"
   ]
  },
  {
   "cell_type": "code",
   "execution_count": 56,
   "metadata": {
    "collapsed": true
   },
   "outputs": [],
   "source": [
    "def exercise5():\n",
    "    for ct in range (1,100,2):\n",
    "        print(ct,end=' ')"
   ]
  },
  {
   "cell_type": "markdown",
   "metadata": {},
   "source": [
    "**Exercise 6:**\n",
    "\n",
    "Write a function called `exercise6()` that computes the area of a trapezoid. Here is the\n",
    "formula: `A = (1/2)(b1+b2)h`. In the formula `b1` is the length of one of the \n",
    "bases, `b2` the other. The height is `h` and the area is `A`. Use input statements to ask \n",
    "for the bases and the height. Convert these input strings to real numbers using `float()`. \n",
    "\n",
    "Use input statements like these:\n",
    "- Enter the length of one of the bases: \n",
    "\n",
    "- Enter the length of the other base: \n",
    "\n",
    "- Enter the height: \n",
    "\n",
    "Use an output statement like this:\n",
    "- The area of a trapezoid with bases __ and __ and height __ is __"
   ]
  },
  {
   "cell_type": "code",
   "execution_count": 57,
   "metadata": {
    "collapsed": true
   },
   "outputs": [],
   "source": [
    "def exercise6():\n",
    "    base1 = input('Enter the length of one of the bases: ')\n",
    "    b1 = float(base1)\n",
    "    base2 = input('Enter the length of the other base: ')\n",
    "    b2 = float(base2)\n",
    "    height = input('Enter the height: ')\n",
    "    h = float(height)\n",
    "    area = (0.5)*((b1+b2)*h)\n",
    "    print('The area of a trapezoid with bases',b1,'and',b2,'and',end=' ')\n",
    "    print('height',h,'is',area)"
   ]
  },
  {
   "cell_type": "markdown",
   "metadata": {},
   "source": [
    "**Exercise 7:**\n",
    "\n",
    "Write a function called `exercise7()` that sets a variable `li = list(range(20,30))` and\n",
    "does all of the following, each on a separate line: \n",
    "- print the element of list with the index `4`\n",
    "- prints the list itself\n",
    "- write a `for` loop that prints out every element of list. Recall that `len()` will give you the length of such a data collection if you need that. Use `end=\" \"` to put one space between the elements of the list `li`."
   ]
  },
  {
   "cell_type": "code",
   "execution_count": 58,
   "metadata": {
    "collapsed": true
   },
   "outputs": [],
   "source": [
    "def exercise7():\n",
    "    li = list(range(20,30))\n",
    "    print(li[4])\n",
    "    print(li)\n",
    "    for i in range(0,len(li)):\n",
    "        print(li[i],end=' ')"
   ]
  },
  {
   "cell_type": "markdown",
   "metadata": {},
   "source": [
    "**Exercise 8:**\n",
    "\n",
    "Write a function `exercise8()` that takes a list called `my_list` and does all of the following, each on a separate line. Recall that lists start numbering with an index of 0.\n",
    "- print the whole list\n",
    "- print the item with index 0\n",
    "- print the last item in the list\n",
    "- print the items with indexes 3 through 5 but not including 5\n",
    "- print the items up to the one with index 3 but not including item 3\n",
    "- print the items starting at index 3 and going through the end.\n",
    "- print the length of the list (use `len()`)\n",
    "- Use the `append()` method of a list to append the letter `z` onto a list and print the list with `z` appended.\n",
    "\n",
    "Use `my_list = ['Keanu', 'River', 'Leonardo', 'Brad', 'A', '1998']`"
   ]
  },
  {
   "cell_type": "code",
   "execution_count": 59,
   "metadata": {
    "collapsed": true
   },
   "outputs": [],
   "source": [
    "my_list = ['Keanu', 'River', 'Leonardo', 'Brad', 'A', '1998']\n",
    "\n",
    "def problem2_2(my_list):\n",
    "    print(my_list)\n",
    "    print(my_list[0])\n",
    "    print(my_list[-1])\n",
    "    print(my_list[3:5])\n",
    "    print(my_list[:3])\n",
    "    print(my_list[3:])\n",
    "    print(len(my_list))\n",
    "    my_list.append('z')\n",
    "    print(my_list)"
   ]
  },
  {
   "cell_type": "markdown",
   "metadata": {},
   "source": [
    "**Exercise 9:**\n",
    "\n",
    "Write a function `exercise9(txtfilename)` that reads the text file `day1.txt` and counts the number of characters in \n",
    "it.  Print both the text file and the number of characters. Do this so that the \n",
    "printout isn't doubled space (use an `end=\"\"`  argument in the print statement). \n",
    "Also, skip a line before printing the count. Recall that you can get the \n",
    "number of characters in each line using the `len()` function."
   ]
  },
  {
   "cell_type": "code",
   "execution_count": 60,
   "metadata": {
    "collapsed": true
   },
   "outputs": [],
   "source": [
    "def exercise9(txtfilename):    # day1.txt goes in the parentheses\n",
    "    f = open(txtfilename,'r')\n",
    "    ct = 0\n",
    "    for line in f:\n",
    "        print(line,end='')\n",
    "        ct = ct + len(line)\n",
    "    print()\n",
    "    print()\n",
    "    print('There are',ct,'letters in the file.')\n",
    "    \n",
    "    f.close()"
   ]
  },
  {
   "cell_type": "markdown",
   "metadata": {},
   "source": [
    "**Exercise 10:** \n",
    "    \n",
    "Write a function called `exercise10(month, day, year)` that \n",
    "will convert a date such as `June 3, 2019` into the format `6/3/2019`.  Use a dictionary to convert from the name of the month to the number of the month.  For example `months = {\"January\":1, \"February\":2, ...}` will make it easy to look up the month number as `months[\"February\"]` and so on.\n",
    "- Tip: In print statements, commas create a space.  So you may have difficulty avoiding a space between the 6, 3, and 2019.  Build the output as a single string containing the properly formatted date and then print that.  You can convert any number to string by using `str()` and then tie the parts together using +. "
   ]
  },
  {
   "cell_type": "code",
   "execution_count": 61,
   "metadata": {
    "collapsed": true
   },
   "outputs": [],
   "source": [
    "def exercise10(mon, day, year):\n",
    "    # Recall, dictionaries require quotes around key and around key in the input statement\n",
    "    months = {'January':1, 'February':2, 'March':3, 'April':4, 'May':5, 'June':6, 'July':7, 'August':8, 'September':9, 'October':10, 'November':11, 'December':12}\n",
    "\n",
    "    print(str(months[mon]) + '/' + str(day) + '/'+ str(year))"
   ]
  },
  {
   "cell_type": "markdown",
   "metadata": {},
   "source": [
    "**Exercise 11:**\n",
    "\n",
    "Write a function called `exercise11_a()` that will add an element and its atomic weight to the incomplete dictionary `alkali_metals`. Then write a function called `exercise11_b(name)` that will look up the atomic weight given an element using the updated dictionary. In it's simplest form, the program will crash if a name that isn't in its dictionary is asked for, but you can incorporate an if-else statement to improve the program.\n",
    "\n",
    "alkali_metals = {\"lithium\": 6.94, \"sodium\": 22.99, \"potassium\": 39.10, \"rubidium\": 85.47, \"cesium': 132.91}"
   ]
  },
  {
   "cell_type": "code",
   "execution_count": 62,
   "metadata": {
    "collapsed": true
   },
   "outputs": [],
   "source": [
    "def exercise11_a():\n",
    "    alkali_metals = {\"lithium\": 6.94, \"sodium\": 22.99, \"potassium\": 39.10, \"rubidium\": 85.47, \"cesium\": 132.91}\n",
    "    alkali_metals['francium'] = 223\n",
    "    print(alkali_metals)"
   ]
  },
  {
   "cell_type": "code",
   "execution_count": 63,
   "metadata": {
    "collapsed": true
   },
   "outputs": [],
   "source": [
    "def exercise11_b(name):\n",
    "    alkali_metals = {'lithium': 6.94, 'sodium': 22.99, 'potassium': 39.1, 'rubidium': 85.47, 'cesium': 132.91, 'francium': 223}\n",
    "    if name in alkali_metals:\n",
    "        print(alkali_metals[name])\n",
    "    else:\n",
    "        print('That element is not an alkali metal.')"
   ]
  },
  {
   "cell_type": "markdown",
   "metadata": {},
   "source": [
    "**Exercise 12:**\n",
    "\n",
    "Write a function called `exercise12()` that will read in the CSV file `periodictable.csv` to a dictionary and then looks up and prints out the atomic number and symbol for calcium. Don't forget to import the csv library and make sure the program works whether or not the element string is capitalized or not. The dictionary key should be element and the values should be the atomic number and symbol."
   ]
  },
  {
   "cell_type": "code",
   "execution_count": 64,
   "metadata": {
    "collapsed": true
   },
   "outputs": [],
   "source": [
    "def exercise12(csv_file, element):\n",
    "    import csv\n",
    "    \n",
    "    f = open(csv_file)\n",
    "    dict = {}\n",
    "    \n",
    "    for row in csv.reader(f):\n",
    "        dict[row[2]] = row[0], row[1]\n",
    "        \n",
    "    # print(dict) can be helpful here to check that the dictionary is correct\n",
    "    \n",
    "    if element.lower():\n",
    "        cap = element.capitalize()\n",
    "        print(dict[cap])\n",
    "    else:\n",
    "        print(dict[element])\n",
    "        \n",
    "    f.close()"
   ]
  },
  {
   "cell_type": "code",
   "execution_count": 65,
   "metadata": {
    "scrolled": false
   },
   "outputs": [
    {
     "name": "stdout",
     "output_type": "stream",
     "text": [
      "('20', 'Ca')\n"
     ]
    }
   ],
   "source": [
    "exercise12('periodictable.csv', 'Calcium')"
   ]
  },
  {
   "cell_type": "markdown",
   "metadata": {},
   "source": [
    "**Exercise 13:**\n",
    "\n",
    "The following code produces an `IndexError` exception for an index of 3. Re-write the code with `try-except-else` statements so that when the error occurs the program doesn't crash abruptly.\n",
    "\n",
    "> abc=[10,20,20]\n",
    "\n",
    "> print(abc[3])"
   ]
  },
  {
   "cell_type": "code",
   "execution_count": 4,
   "metadata": {},
   "outputs": [
    {
     "name": "stdout",
     "output_type": "stream",
     "text": [
      "!!! Uh oh, index exception raised. Was the index you entered out of range?\n"
     ]
    }
   ],
   "source": [
    "try:  \n",
    "    abc=[10,20,20]\n",
    "    print(abc[3])\n",
    "except IndexError:  \n",
    "    print(\"!!! Uh oh, index exception raised. Was the index you entered out of range?\" )\n",
    "else:  \n",
    "    print(\"Success. You are a rock star.\")"
   ]
  },
  {
   "cell_type": "markdown",
   "metadata": {},
   "source": [
    "**Exercise 14:**\n",
    "\n",
    "Improve your code from `Exercise 13` so that it is a callable function that asks for an entry/index via an input statement and prints a list from which you can choose the entry, all while handling the exception error. "
   ]
  },
  {
   "cell_type": "code",
   "execution_count": 5,
   "metadata": {
    "collapsed": true
   },
   "outputs": [],
   "source": [
    "def print_index():\n",
    "    print('This is your list:  abc = [10, 20, 30]')\n",
    "    n = input('Which list entry would you like to use? ')\n",
    "    m = int(n)\n",
    "    try:  \n",
    "\n",
    "        abc=[10,20,20]\n",
    "        print(abc[m])\n",
    "    except IndexError:  \n",
    "        print(\"!!! Uh oh, index exception raised. Was the index you entered out of range?\" )\n",
    "    else:  \n",
    "        print(\"Success. You are a rock star.\")"
   ]
  },
  {
   "cell_type": "code",
   "execution_count": 6,
   "metadata": {},
   "outputs": [
    {
     "name": "stdout",
     "output_type": "stream",
     "text": [
      "This is your list:  abc = [10, 20, 30]\n",
      "Which list entry would you like to use? 2\n",
      "20\n",
      "Success. You are a rock star.\n"
     ]
    }
   ],
   "source": [
    "print_index()"
   ]
  }
 ],
 "metadata": {
  "kernelspec": {
   "display_name": "Python 3",
   "language": "python",
   "name": "python3"
  },
  "language_info": {
   "codemirror_mode": {
    "name": "ipython",
    "version": 3
   },
   "file_extension": ".py",
   "mimetype": "text/x-python",
   "name": "python",
   "nbconvert_exporter": "python",
   "pygments_lexer": "ipython3",
   "version": "3.6.8"
  }
 },
 "nbformat": 4,
 "nbformat_minor": 2
}
