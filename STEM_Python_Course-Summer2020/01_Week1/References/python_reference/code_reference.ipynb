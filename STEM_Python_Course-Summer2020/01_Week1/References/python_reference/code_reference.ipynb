{
 "cells": [
  {
   "cell_type": "markdown",
   "metadata": {},
   "source": [
    "# Introduction to Python - Code Reference\n",
    "## Topics:\n",
    "- Installation\n",
    "- Using the Jupyter notebook\n",
    "- Python introduction\n",
    "- What is a:\n",
    "    + objects, types, variables, and operators\n",
    "    + containers\n",
    "    + `if` statements, `while` and `for` loops\n",
    "    + comprehensions\n",
    "    + classes\n",
    "- Basic I/O\n",
    "- How to Google and handle errors and exceptions efficiently"
   ]
  },
  {
   "cell_type": "markdown",
   "metadata": {},
   "source": [
    "## Installation\n",
    "If you have a Mac or Linux machine, then you already have Python installed. Opening a terminal and typing \"python\" after the prompt will open the Python interpreter and it will tell you which version you have. Type \"exit()\" to close the Python interpreter.\n",
    "\n",
    "In this workshop we will be using Python 3.x (the x referring to any version of 3.0 or later) along with Jupyter notebooks. If you do not have Python 3.x or Jupyter notebooks installed, you can do both easily by installing Anaconda. Visit https://www.anaconda.com/distribution/, click \"Download\", select your platform and Python version 3.7. Follow the installation prompts. It is easiest to install Anaconda in your home directory.\n",
    "\n",
    "Once installed, open a terminal and type \"anaconda-navigator\". This will pull up a user-interface (UI) with multiple tiles. Click \"Launch\" under Jupyter notebooks. \n",
    "- Jupyter notebooks are a very convenient way of using Python. We'll discuss the basics of using notebooks. A list of other useful references is provided.\n",
    "\n",
    "### References\n",
    "- Official Jupyter documentation: https://jupyter-notebook.readthedocs.io/en/stable/\n",
    "- A nice tutorial of Jupyter: https://hub.packtpub.com/basics-jupyter-notebook-python/\n",
    "- Another nice tutorial: https://realpython.com/jupyter-notebook-introduction/\n",
    "- Markdown language guide: https://markdown-guide.readthedocs.io/en/latest/basics.html\n",
    "- Markdown language cheat sheet: https://github.com/adam-p/markdown-here/wiki/Markdown-Cheatsheet"
   ]
  },
  {
   "cell_type": "markdown",
   "metadata": {},
   "source": [
    "## Using the Jupyter notebook\n",
    "The Jupyter notebook allows you to write notebooks similar to e.g. Mathematica, SageMath, etc. You can include text, code, and plots in the same document and share it with others.\n",
    "\n",
    "There are two main types of cells we'll use: code and markdown. Code cells are for using Python to do things, whereas markdown cells are used for styling text. Jupyter Notebook supports Markdown, which is a markup language that is a superset of HTML, and you can learn more about it through the references above."
   ]
  },
  {
   "cell_type": "markdown",
   "metadata": {},
   "source": [
    "**Cell example 1:** This is a markdown cell. *Double-click* it to edit it and complete the sentence below. Hit shift+enter to render the cell when you are finished.\n",
    "\n",
    "My favorite color is green."
   ]
  },
  {
   "cell_type": "code",
   "execution_count": null,
   "metadata": {},
   "outputs": [],
   "source": [
    "# Cell example 2: This is a code cell. Any text after a # is a comment.\n",
    "# Click once to edit it and re-assign two random whole numbers to a and b. \n",
    "# Then hit shift+enter to execute the cell.\n",
    "a = 19\n",
    "b = 76\n",
    "a + b"
   ]
  },
  {
   "cell_type": "markdown",
   "metadata": {},
   "source": [
    "## Python Introduction\n",
    "(adapted from https://docs.python.org/3/tutorial/ and https://gist.github.com/kenjyco)"
   ]
  },
  {
   "cell_type": "markdown",
   "metadata": {
    "collapsed": true
   },
   "source": [
    "### Python objects, basic types, and variables \n",
    "\n",
    "Everything in Python is an **object** and every object in Python has a **type**. Some of the basic types include:\n",
    "\n",
    "- **`int`** (integer; a whole number with no decimal place)\n",
    "  - `10`\n",
    "  - `-3`\n",
    "- **`float`** (float; a number that has a decimal place)\n",
    "  - `7.41`\n",
    "  - `-0.006`\n",
    "- **`str`** (string; a sequence of characters enclosed in single quotes, double quotes, or triple quotes)\n",
    "  - `'this is a string using single quotes'`\n",
    "  - `\"this is a string using double quotes\"`\n",
    "  - `'''this is a triple quoted string using single quotes'''`\n",
    "  - `\"\"\"this is a triple quoted string using double quotes\"\"\"`\n",
    "- **`bool`** (boolean; a binary value that is either true or false)\n",
    "  - `True`\n",
    "  - `False`\n",
    "- **`NoneType`** (a special type representing the absence of a value)\n",
    "  - `None`\n",
    "\n",
    "In Python, a **variable** is a name you specify in your code that maps to a particular **object**, object **instance**, or value.\n",
    "\n",
    "By defining variables, we can refer to things by names that make sense to us. Names for variables can only contain letters, underscores (`_`), or numbers (no spaces, dashes, or other characters). Variable names must start with a letter or underscore."
   ]
  },
  {
   "cell_type": "markdown",
   "metadata": {},
   "source": [
    "### Basic operators\n",
    "\n",
    "In Python, there are different types of **operators** (special symbols) that operate on different values. Some of the basic operators include:\n",
    "\n",
    "- arithmetic operators\n",
    "  - **`+`** (addition)\n",
    "  - **`-`** (subtraction)\n",
    "  - **`*`** (multiplication)\n",
    "  - **`/`** (division)\n",
    "  - __`**`__ (exponent)\n",
    "- assignment operators\n",
    "  - **`=`** (assign a value)\n",
    "  - **`+=`** (add and re-assign; increment)\n",
    "  - **`-=`** (subtract and re-assign; decrement)\n",
    "  - **`*=`** (multiply and re-assign)\n",
    "- comparison operators (return either `True` or `False`)\n",
    "  - **`==`** (equal to)\n",
    "  - **`!=`** (not equal to)\n",
    "  - **`<`** (less than)\n",
    "  - **`<=`** (less than or equal to)\n",
    "  - **`>`** (greater than)\n",
    "  - **`>=`** (greater than or equal to)\n",
    "\n",
    "When multiple operators are used in a single expression, **operator precedence** determines which parts of the expression are evaluated in which order. Operators with higher precedence are evaluated first (like PEMDAS in math). Operators with the same precedence are evaluated from left to right.\n",
    "\n",
    "- `()` parentheses, for grouping\n",
    "- `**` exponent\n",
    "- `*`, `/` multiplication and division\n",
    "- `+`, `-` addition and subtraction\n",
    "- `==`, `!=`, `<`, `<=`, `>`, `>=` comparisons\n",
    "\n",
    "> See https://docs.python.org/3/reference/expressions.html#operator-precedence\n",
    "\n",
    "Examples:"
   ]
  },
  {
   "cell_type": "code",
   "execution_count": null,
   "metadata": {},
   "outputs": [],
   "source": [
    "# Assigning some numbers to different variables\n",
    "num1 = 10\n",
    "num2 = -3\n",
    "num3 = 7.41\n",
    "num4 = -.6\n",
    "num5 = 7\n",
    "num6 = 3\n",
    "num7 = 11.11"
   ]
  },
  {
   "cell_type": "code",
   "execution_count": null,
   "metadata": {},
   "outputs": [],
   "source": [
    "# Addition\n",
    "num1 + num2"
   ]
  },
  {
   "cell_type": "code",
   "execution_count": null,
   "metadata": {},
   "outputs": [],
   "source": [
    "# Subtraction\n",
    "num2 - num3"
   ]
  },
  {
   "cell_type": "code",
   "execution_count": null,
   "metadata": {},
   "outputs": [],
   "source": [
    "# Multiplication\n",
    "num3 * num4"
   ]
  },
  {
   "cell_type": "code",
   "execution_count": null,
   "metadata": {},
   "outputs": [],
   "source": [
    "# Division\n",
    "num4 / num5"
   ]
  },
  {
   "cell_type": "code",
   "execution_count": null,
   "metadata": {},
   "outputs": [],
   "source": [
    "# Exponent\n",
    "num5 ** num6"
   ]
  },
  {
   "cell_type": "code",
   "execution_count": null,
   "metadata": {},
   "outputs": [],
   "source": [
    "# Increment existing variable\n",
    "num7 += 4\n",
    "num7"
   ]
  },
  {
   "cell_type": "code",
   "execution_count": null,
   "metadata": {},
   "outputs": [],
   "source": [
    "# Decrement existing variable\n",
    "num6 -= 2\n",
    "num6"
   ]
  },
  {
   "cell_type": "code",
   "execution_count": null,
   "metadata": {},
   "outputs": [],
   "source": [
    "# Multiply & re-assign\n",
    "num3 *= 5\n",
    "num3"
   ]
  },
  {
   "cell_type": "code",
   "execution_count": null,
   "metadata": {},
   "outputs": [],
   "source": [
    "# Assign the value of an expression to a variable\n",
    "num8 = num1 + num2 * num3\n",
    "num8"
   ]
  },
  {
   "cell_type": "code",
   "execution_count": null,
   "metadata": {},
   "outputs": [],
   "source": [
    "# Are these two expressions equal to each other?\n",
    "num1 + num2 == num5"
   ]
  },
  {
   "cell_type": "code",
   "execution_count": null,
   "metadata": {},
   "outputs": [],
   "source": [
    "# Are these two expressions not equal to each other?\n",
    "num3 != num4"
   ]
  },
  {
   "cell_type": "code",
   "execution_count": null,
   "metadata": {},
   "outputs": [],
   "source": [
    "# Is the first expression less than the second expression?\n",
    "num5 < num6"
   ]
  },
  {
   "cell_type": "code",
   "execution_count": null,
   "metadata": {},
   "outputs": [],
   "source": [
    "# Is this expression True?\n",
    "5 > 3 > 1"
   ]
  },
  {
   "cell_type": "code",
   "execution_count": null,
   "metadata": {},
   "outputs": [],
   "source": [
    "# Is this expression True?\n",
    "5 > 3 < 4 == 3 + 1\n",
    "bool(3-3)"
   ]
  },
  {
   "cell_type": "code",
   "execution_count": null,
   "metadata": {},
   "outputs": [],
   "source": [
    "# Assign some strings to different variables\n",
    "simple_string1 = 'an example'\n",
    "simple_string2 = \"oranges \""
   ]
  },
  {
   "cell_type": "code",
   "execution_count": null,
   "metadata": {},
   "outputs": [],
   "source": [
    "# Addition\n",
    "simple_string1 + ' of using the + operator'"
   ]
  },
  {
   "cell_type": "code",
   "execution_count": null,
   "metadata": {},
   "outputs": [],
   "source": [
    "# Notice that the string was not modified\n",
    "simple_string1"
   ]
  },
  {
   "cell_type": "code",
   "execution_count": null,
   "metadata": {},
   "outputs": [],
   "source": [
    "# Multiplication\n",
    "simple_string2 * 4"
   ]
  },
  {
   "cell_type": "code",
   "execution_count": null,
   "metadata": {},
   "outputs": [],
   "source": [
    "# This string wasn't modified either\n",
    "simple_string2"
   ]
  },
  {
   "cell_type": "code",
   "execution_count": null,
   "metadata": {},
   "outputs": [],
   "source": [
    "# Are these two expressions equal to each other?\n",
    "simple_string1 == simple_string2"
   ]
  },
  {
   "cell_type": "code",
   "execution_count": null,
   "metadata": {},
   "outputs": [],
   "source": [
    "# Are these two expressions equal to each other?\n",
    "simple_string1 == 'an example'"
   ]
  },
  {
   "cell_type": "code",
   "execution_count": null,
   "metadata": {},
   "outputs": [],
   "source": [
    "# Add and re-assign\n",
    "simple_string1 += ' that re-assigned the original string'\n",
    "simple_string1"
   ]
  },
  {
   "cell_type": "code",
   "execution_count": null,
   "metadata": {},
   "outputs": [],
   "source": [
    "# Multiply and re-assign\n",
    "simple_string2 *= 3\n",
    "simple_string2"
   ]
  },
  {
   "cell_type": "code",
   "execution_count": null,
   "metadata": {},
   "outputs": [],
   "source": [
    "# Note: Subtraction, division, and decrement operators do not apply to strings."
   ]
  },
  {
   "cell_type": "markdown",
   "metadata": {},
   "source": [
    "### Basic containers\n",
    "\n",
    "> Note: **mutable** objects can be modified after creation and **immutable** objects cannot.\n",
    "\n",
    "Containers are objects that can be used to group other objects together. The basic container types include:\n",
    "\n",
    "- **`str`** (string: immutable; indexed by integers; items are stored in the order they were added)\n",
    "- **`list`** (list: mutable; indexed by integers; items are stored in the order they were added)\n",
    "  - `[3, 5, 6, 3, 'dog', 'cat', False]`\n",
    "- **`tuple`** (tuple: immutable; indexed by integers; items are stored in the order they were added)\n",
    "  - `(3, 5, 6, 3, 'dog', 'cat', False)`\n",
    "- **`set`** (set: mutable; not indexed at all; items are NOT stored in the order they were added; can only contain immutable objects; does NOT contain duplicate objects)\n",
    "  - `{3, 5, 6, 3, 'dog', 'cat', False}`\n",
    "- **`dict`** (dictionary: mutable; key-value pairs are indexed by immutable keys; items are NOT stored in the order they were added)\n",
    "  - `{'name': 'Jane', 'age': 23, 'fav_foods': ['pizza', 'fruit', 'fish']}`\n",
    "\n",
    "When defining lists, tuples, or sets, use commas (,) to separate the individual items. When defining dicts, use a colon (:) to separate keys from values and commas (,) to separate the key-value pairs.\n",
    "\n",
    "Strings, lists, and tuples are all **sequence types** that can use the `+`, `*`, `+=`, and `*=` operators."
   ]
  },
  {
   "cell_type": "code",
   "execution_count": null,
   "metadata": {},
   "outputs": [],
   "source": [
    "# Assign some containers to different variables\n",
    "list1 = [3, 5, 6, 3, 'dog', 'cat', False]\n",
    "tuple1 = (3, 5, 6, 3, 'dog', 'cat', False)\n",
    "set1 = {3, 5, 6, 3, 'dog', 'cat', False}\n",
    "dict1 = {'name': 'Jane', 'age': 23, 'fav_foods': ['pizza', 'fruit', 'fish']}"
   ]
  },
  {
   "cell_type": "code",
   "execution_count": null,
   "metadata": {},
   "outputs": [],
   "source": [
    "# Items in the list object are stored in the order they were added\n",
    "list1"
   ]
  },
  {
   "cell_type": "code",
   "execution_count": null,
   "metadata": {},
   "outputs": [],
   "source": [
    "# Items in the tuple object are stored in the order they were added\n",
    "tuple1"
   ]
  },
  {
   "cell_type": "code",
   "execution_count": null,
   "metadata": {},
   "outputs": [],
   "source": [
    "# Items in the set object are not stored in the order they were added\n",
    "# Also, notice that the value 3 only appears once in this set object\n",
    "set1"
   ]
  },
  {
   "cell_type": "code",
   "execution_count": null,
   "metadata": {},
   "outputs": [],
   "source": [
    "# Items in the dict object are not stored in the order they were added\n",
    "dict1"
   ]
  },
  {
   "cell_type": "code",
   "execution_count": null,
   "metadata": {},
   "outputs": [],
   "source": [
    "# Add and re-assign\n",
    "list1 += [5, 'grapes']\n",
    "list1"
   ]
  },
  {
   "cell_type": "code",
   "execution_count": null,
   "metadata": {},
   "outputs": [],
   "source": [
    "# Add and re-assign\n",
    "tuple1 += (5, 'grapes')\n",
    "tuple1"
   ]
  },
  {
   "cell_type": "code",
   "execution_count": null,
   "metadata": {},
   "outputs": [],
   "source": [
    "# Multiply\n",
    "[1, 2, 3, 4] * 2"
   ]
  },
  {
   "cell_type": "code",
   "execution_count": null,
   "metadata": {},
   "outputs": [],
   "source": [
    "# Multiply\n",
    "(1, 2, 3, 4) * 3"
   ]
  },
  {
   "cell_type": "markdown",
   "metadata": {},
   "source": [
    "### Accessing data in containers\n",
    "\n",
    "For strings, lists, tuples, and dicts, we can use **subscript notation** (square brackets) to access data at an index.\n",
    "\n",
    "- strings, lists, and tuples are indexed by integers, **starting at 0** for first item\n",
    "  - these sequence types also support accesing a range of items, known as **slicing**\n",
    "  - use **negative indexing** to start at the back of the sequence\n",
    "- dicts are indexed by their keys\n",
    "\n",
    "> Note: sets are not indexed, so we cannot use subscript notation to access data elements.\n",
    "\n",
    "- `list1 = [3, 5, 6, 3, 'dog', 'cat', False, 5, 'grapes']`\n",
    "- `tuple1 = (3, 5, 6, 3, 'dog', 'cat', False, 5, 'grapes')`\n",
    "- `set1 = {3, 5, 6, 3, 'dog', 'cat', False}`\n",
    "- `dict1 = {'name': 'Jane', 'age': 23, 'fav_foods': ['pizza', 'fruit', 'fish']}`\n",
    "- `simple_string1 = 'an example that re-assigned the original string'"
   ]
  },
  {
   "cell_type": "code",
   "execution_count": null,
   "metadata": {},
   "outputs": [],
   "source": [
    "# Access the first item in a sequence\n",
    "list1[0]"
   ]
  },
  {
   "cell_type": "code",
   "execution_count": null,
   "metadata": {},
   "outputs": [],
   "source": [
    "# Access the last item in a sequence\n",
    "tuple1[-1]"
   ]
  },
  {
   "cell_type": "code",
   "execution_count": null,
   "metadata": {},
   "outputs": [],
   "source": [
    "# Access a range of items in a sequence\n",
    "simple_string1[3:8]   # prints characters 3 up to but not including 8"
   ]
  },
  {
   "cell_type": "code",
   "execution_count": null,
   "metadata": {},
   "outputs": [],
   "source": [
    "# Access a range of items in a sequence\n",
    "tuple1[:-3]   # prints everything less than item -3, but not -3"
   ]
  },
  {
   "cell_type": "code",
   "execution_count": null,
   "metadata": {},
   "outputs": [],
   "source": [
    "# Access a range of items in a sequence\n",
    "list1[4:]   # prints 4th item and greater"
   ]
  },
  {
   "cell_type": "code",
   "execution_count": null,
   "metadata": {},
   "outputs": [],
   "source": [
    "# Access an item or value in a dictionary belonging to a key\n",
    "dict1['name']"
   ]
  },
  {
   "cell_type": "code",
   "execution_count": null,
   "metadata": {},
   "outputs": [],
   "source": [
    "# Access a specific value of a key with multiple values in a dictionary\n",
    "dict1['fav_foods'][2]  # pizza is 0, fruit is 1, fish is 2"
   ]
  },
  {
   "cell_type": "markdown",
   "metadata": {},
   "source": [
    "### Python built-in functions and callables\n",
    "\n",
    "A **function** is a Python object that you can \"call\" to **perform an action** or compute and **return another object**. You call a function by placing parentheses to the right of the function name. Some functions allow you to pass **arguments** inside the parentheses (separating multiple arguments with a comma). Internal to the function, these arguments are treated like variables.\n",
    "\n",
    "Python has several useful built-in functions to help you work with different objects and/or your environment. Here is a small sample of them:\n",
    "\n",
    "- **`type(obj)`** to determine the type of an object\n",
    "- **`len(container)`** to determine how many items are in a container\n",
    "- **`callable(obj)`** to determine if an object is callable\n",
    "- **`sorted(container)`** to return a new list from a container, with the items sorted\n",
    "- **`sum(container)`** to compute the sum of a container of numbers\n",
    "- **`min(container)`** to determine the smallest item in a container\n",
    "- **`max(container)`** to determine the largest item in a container\n",
    "- **`abs(number)`** to determine the absolute value of a number\n",
    "- **`repr(obj)`** to return a string representation of an object\n",
    "\n",
    "> Complete list of built-in functions: https://docs.python.org/3/library/functions.html\n",
    "\n",
    "There are also different ways of defining your own functions and callable objects!"
   ]
  },
  {
   "cell_type": "code",
   "execution_count": null,
   "metadata": {},
   "outputs": [],
   "source": [
    "# Use the type() function to determine the type of an object\n",
    "type(simple_string1)"
   ]
  },
  {
   "cell_type": "code",
   "execution_count": null,
   "metadata": {},
   "outputs": [],
   "source": [
    "# Use the len() function to determine how many items are in a container\n",
    "len(dict1)"
   ]
  },
  {
   "cell_type": "code",
   "execution_count": null,
   "metadata": {},
   "outputs": [],
   "source": [
    "# Use the len() function to determine how many items are in a container\n",
    "len(simple_string2)"
   ]
  },
  {
   "cell_type": "code",
   "execution_count": null,
   "metadata": {},
   "outputs": [],
   "source": [
    "# Use the callable() function to determine if an object is callable\n",
    "callable(len)"
   ]
  },
  {
   "cell_type": "code",
   "execution_count": null,
   "metadata": {},
   "outputs": [],
   "source": [
    "# Use the callable() function to determine if an object is callable\n",
    "callable(dict1)"
   ]
  },
  {
   "cell_type": "code",
   "execution_count": null,
   "metadata": {},
   "outputs": [],
   "source": [
    "# Use the sorted() function to return a new list from a container, with the items sorted\n",
    "sorted([10, 1, 3.6, 7, 5, 2, -3])"
   ]
  },
  {
   "cell_type": "code",
   "execution_count": null,
   "metadata": {},
   "outputs": [],
   "source": [
    "# Use the sorted() function to return a new list from a container, with the items sorted\n",
    "# - notice that capitalized strings come first\n",
    "sorted(['dogs', 'cats', 'zebras', 'Chicago', 'California', 'ants', 'mice'])"
   ]
  },
  {
   "cell_type": "code",
   "execution_count": null,
   "metadata": {},
   "outputs": [],
   "source": [
    "# Use the sum() function to compute the sum of a container of numbers\n",
    "sum([10, 1, 3.6, 7, 5, 2, -3])"
   ]
  },
  {
   "cell_type": "code",
   "execution_count": null,
   "metadata": {},
   "outputs": [],
   "source": [
    "# Use the min() function to determine the smallest item in a container\n",
    "min([10, 1, 3.6, 7, 5, 2, -3])"
   ]
  },
  {
   "cell_type": "code",
   "execution_count": null,
   "metadata": {},
   "outputs": [],
   "source": [
    "# Use the min() function to determine the smallest item in a container\n",
    "min(['g', 'z', 'a', 'y'])"
   ]
  },
  {
   "cell_type": "code",
   "execution_count": null,
   "metadata": {},
   "outputs": [],
   "source": [
    "# Use the max() function to determine the largest item in a container\n",
    "max([10, 1, 3.6, 7, 5, 2, -3])"
   ]
  },
  {
   "cell_type": "code",
   "execution_count": null,
   "metadata": {},
   "outputs": [],
   "source": [
    "# Use the max() function to determine the largest item in a container\n",
    "max('gibberish')"
   ]
  },
  {
   "cell_type": "code",
   "execution_count": null,
   "metadata": {},
   "outputs": [],
   "source": [
    "# Use the abs() function to determine the absolute value of a number\n",
    "abs(10)"
   ]
  },
  {
   "cell_type": "code",
   "execution_count": null,
   "metadata": {},
   "outputs": [],
   "source": [
    "# Use the abs() function to determine the absolute value of a number\n",
    "abs(-12)"
   ]
  },
  {
   "cell_type": "code",
   "execution_count": null,
   "metadata": {},
   "outputs": [],
   "source": [
    "# Use the repr() function to return a string representation of an object\n",
    "repr(set1)\n",
    "repr(list1)"
   ]
  },
  {
   "cell_type": "markdown",
   "metadata": {},
   "source": [
    "### Python object attributes (methods and properties)\n",
    "\n",
    "Different types of objects in Python have different **attributes** that can be referred to by name (similar to a variable). To access an attribute of an object, use a dot (`.`) after the object, then specify the attribute (i.e. `obj.attribute`)\n",
    "\n",
    "When an attribute of an object is a callable, that attribute is called a **method**. It is the same as a function, only this function is bound to a particular object.\n",
    "\n",
    "When an attribute of an object is not a callable, that attribute is called a **property**. It is just a piece of data about the object, that is itself another object.\n",
    "\n",
    "The built-in `dir()` function can be used to return a list of an object's attributes."
   ]
  },
  {
   "cell_type": "markdown",
   "metadata": {},
   "source": [
    "### Some methods on string objects\n",
    "- **`.capitalize()`** to return a capitalized version of the string (only first char uppercase)\n",
    "- **`.upper()`** to return an uppercase version of the string (all chars uppercase)\n",
    "- **`.lower()`** to return an lowercase version of the string (all chars lowercase)\n",
    "- **`.count(substring)`** to return the number of occurences of the substring in the string\n",
    "- **`.startswith(substring)`** to determine if the string starts with the substring\n",
    "- **`.endswith(substring)`** to determine if the string ends with the substring\n",
    "- **`.replace(old, new)`** to return a copy of the string with occurences of the \"old\" replaced by \"new\"\n",
    "- **`.split()`** to split the string into individual strings (delimited by spaces)"
   ]
  },
  {
   "cell_type": "code",
   "execution_count": null,
   "metadata": {},
   "outputs": [],
   "source": [
    "# Assign a string to a variable\n",
    "a_string = 'tHis is a sTriNg'"
   ]
  },
  {
   "cell_type": "code",
   "execution_count": null,
   "metadata": {},
   "outputs": [],
   "source": [
    "# Return a capitalized version of the string\n",
    "a_string.capitalize()"
   ]
  },
  {
   "cell_type": "code",
   "execution_count": null,
   "metadata": {},
   "outputs": [],
   "source": [
    "# Return an uppercase version of the string\n",
    "a_string.upper()"
   ]
  },
  {
   "cell_type": "code",
   "execution_count": null,
   "metadata": {},
   "outputs": [],
   "source": [
    "# Return a lowercase version of the string\n",
    "a_string.lower()"
   ]
  },
  {
   "cell_type": "code",
   "execution_count": null,
   "metadata": {},
   "outputs": [],
   "source": [
    "# Notice that the methods called have not actually modified the string\n",
    "a_string"
   ]
  },
  {
   "cell_type": "code",
   "execution_count": null,
   "metadata": {},
   "outputs": [],
   "source": [
    "# Count number of occurences of a substring in the string\n",
    "a_string.count('i')"
   ]
  },
  {
   "cell_type": "code",
   "execution_count": null,
   "metadata": {},
   "outputs": [],
   "source": [
    "# Count number of occurrences of a substring in the string after a certain position\n",
    "a_string.count('i', 7)"
   ]
  },
  {
   "cell_type": "code",
   "execution_count": null,
   "metadata": {},
   "outputs": [],
   "source": [
    "# Count number of occurences of a substring in the string\n",
    "a_string.count('is')"
   ]
  },
  {
   "cell_type": "code",
   "execution_count": null,
   "metadata": {},
   "outputs": [],
   "source": [
    "# Does the string start with 'this'?\n",
    "a_string.startswith('this')"
   ]
  },
  {
   "cell_type": "code",
   "execution_count": null,
   "metadata": {},
   "outputs": [],
   "source": [
    "# Does the lowercase string start with 'this'?\n",
    "a_string.lower().startswith('this')"
   ]
  },
  {
   "cell_type": "code",
   "execution_count": null,
   "metadata": {},
   "outputs": [],
   "source": [
    "# Does the string end with 'Ng'?\n",
    "a_string.endswith('Ng')"
   ]
  },
  {
   "cell_type": "code",
   "execution_count": null,
   "metadata": {},
   "outputs": [],
   "source": [
    "# Return a version of the string with a substring replaced with something else\n",
    "a_string.replace('is', 'XYZ')"
   ]
  },
  {
   "cell_type": "code",
   "execution_count": null,
   "metadata": {},
   "outputs": [],
   "source": [
    "# Return a version of the string with a substring replaced with something else\n",
    "a_string.replace('i', '!')"
   ]
  },
  {
   "cell_type": "code",
   "execution_count": null,
   "metadata": {},
   "outputs": [],
   "source": [
    "# Return a version of the string with the first 2 occurences a substring replaced with something else\n",
    "a_string.replace('i', '!', 2)"
   ]
  },
  {
   "cell_type": "code",
   "execution_count": null,
   "metadata": {},
   "outputs": [],
   "source": [
    "# Split the string into individual strings (delimited by spaces)\n",
    "a_string.split()"
   ]
  },
  {
   "cell_type": "markdown",
   "metadata": {},
   "source": [
    "### Some methods on list objects\n",
    "\n",
    "- **`.append(item)`** to add a single item to the list\n",
    "- **`.extend([item1, item2, ...])`** to add multiple items to the list\n",
    "- **`.remove(item)`** to remove a single item from the list\n",
    "- **`.pop()`** to remove and return the item at the end of the list\n",
    "- **`.pop(index)`** to remove and return an item at an index"
   ]
  },
  {
   "cell_type": "code",
   "execution_count": null,
   "metadata": {},
   "outputs": [],
   "source": [
    "# Assign a list of common hotdog properties and ingredients to the variable hd\n",
    "hd = [2, 'grilled', 'relish', 'chili']"
   ]
  },
  {
   "cell_type": "code",
   "execution_count": null,
   "metadata": {},
   "outputs": [],
   "source": [
    "# Add a single item to the list\n",
    "hd.append('mustard')\n",
    "hd"
   ]
  },
  {
   "cell_type": "code",
   "execution_count": null,
   "metadata": {},
   "outputs": [],
   "source": [
    "# Add multiple items to the list\n",
    "hd.extend(['ketchup', 'mayo', 'onions'])\n",
    "hd"
   ]
  },
  {
   "cell_type": "code",
   "execution_count": null,
   "metadata": {},
   "outputs": [],
   "source": [
    "# Remove a single item from the list\n",
    "hd.remove('mayo')\n",
    "hd"
   ]
  },
  {
   "cell_type": "code",
   "execution_count": null,
   "metadata": {},
   "outputs": [],
   "source": [
    "# Remove and return the last item in the list\n",
    "hd.pop()\n",
    "hd"
   ]
  },
  {
   "cell_type": "code",
   "execution_count": null,
   "metadata": {},
   "outputs": [],
   "source": [
    "# Remove and return an item at an index\n",
    "hd.pop(4)\n",
    "hd"
   ]
  },
  {
   "cell_type": "markdown",
   "metadata": {},
   "source": [
    "### Some methods on dict objects\n",
    "\n",
    "- **`.update([(key1, val1), (key2, val2), ...])`** to add multiple key-value pairs to the dict\n",
    "- **`.update(dict2)`** to add all keys and values from another dict to the dict\n",
    "- **`.pop(key)`** to remove key and return its value from the dict (error if key not found)\n",
    "- **`.get(key)`** to return the value at a specified key in the dict (or None if key not found)\n",
    "- **`.keys()`** to return a list of keys in the dict\n",
    "- **`.values()`** to return a list of values in the dict\n",
    "- **`.items()`** to return a list of key-value pairs (tuples) in the dict"
   ]
  },
  {
   "cell_type": "code",
   "execution_count": null,
   "metadata": {},
   "outputs": [],
   "source": [
    "# Assign keywords and their values to a dictionary called dict2\n",
    "dict2 = {'name': 'Francie', 'age': 43, 'fav_foods': ['veggies', 'rice', 'pasta']}\n",
    "dict2"
   ]
  },
  {
   "cell_type": "code",
   "execution_count": null,
   "metadata": {},
   "outputs": [],
   "source": [
    "# Add a single key-value pair fav_color purple to the dictionary dict2\n",
    "dict2['fav_color'] = 'purple'\n",
    "dict2"
   ]
  },
  {
   "cell_type": "code",
   "execution_count": null,
   "metadata": {},
   "outputs": [],
   "source": [
    "# Add multiple key-value pairs to dict2\n",
    "dict2.update([('eye_color', 'blue'),('hobbies', ['running', 'knitting'])])\n",
    "dict2"
   ]
  },
  {
   "cell_type": "code",
   "execution_count": null,
   "metadata": {},
   "outputs": [],
   "source": [
    "# Add all keys and values from another dict to dict2\n",
    "dict3 = {'fav_animal': 'cat', 'phone': 'iPhone'}\n",
    "dict2.update(dict3)\n",
    "dict2"
   ]
  },
  {
   "cell_type": "code",
   "execution_count": null,
   "metadata": {},
   "outputs": [],
   "source": [
    "# Return a list of keys in the dict\n",
    "dict2.keys()"
   ]
  },
  {
   "cell_type": "code",
   "execution_count": null,
   "metadata": {},
   "outputs": [],
   "source": [
    "# Return a list of values in the dict\n",
    "dict2.values()"
   ]
  },
  {
   "cell_type": "code",
   "execution_count": null,
   "metadata": {
    "scrolled": true
   },
   "outputs": [],
   "source": [
    "# Return a list of key-value pairs (tuples) in the dict \n",
    "dict2.items()"
   ]
  },
  {
   "cell_type": "code",
   "execution_count": null,
   "metadata": {},
   "outputs": [],
   "source": [
    "# Return a specific value of a key in dict2 that has multiple values\n",
    "dict2['fav_foods'][2]  # veggies is 0, rice is 1, pasta is 2"
   ]
  },
  {
   "cell_type": "code",
   "execution_count": null,
   "metadata": {},
   "outputs": [],
   "source": [
    "# Return value(s) for a specific key in dict2 (or None if key not found)\n",
    "dict2.get('hobbies')"
   ]
  },
  {
   "cell_type": "code",
   "execution_count": null,
   "metadata": {},
   "outputs": [],
   "source": [
    "# Remove key and return its value from dict2 (error if key not found)\n",
    "dict2.pop('phone')\n",
    "dict2"
   ]
  },
  {
   "cell_type": "markdown",
   "metadata": {},
   "source": [
    "### Python \"if statements\" and \"while loops\"\n",
    "(adapted from \n",
    "Conditional expressions can be used with these two **conditional statements**.\n",
    "\n",
    "The **if statement** allows you to test a condition and perform some actions if the condition evaluates to `True`. You can also provide `elif` and/or `else` clauses to an if statement to take alternative actions if the condition evaluates to `False`. \n",
    "\n",
    "The **while loop** will keep looping until its conditional expression evaluates to `False`.\n",
    "\n",
    "> Note: It is possible to \"loop forever\" when using a while loop with a conditional expression that never evaluates to `False`.\n",
    ">\n",
    "> Note: Since the **for loop** will iterate over a container of items until there are no more, there is no need to specify a \"stop looping\" condition."
   ]
  },
  {
   "cell_type": "markdown",
   "metadata": {},
   "source": [
    "**Example 1:** An `if` statement simple program. There can be zero or more `elif` parts, and the `else` part is optional. The keyword \"`elif`\" is short for \"else if\", and is useful to avoid excessive indentation."
   ]
  },
  {
   "cell_type": "code",
   "execution_count": null,
   "metadata": {},
   "outputs": [],
   "source": [
    "x = int(input(\"Please enter an integer: \"))\n",
    "if x < 0:\n",
    "    print('You entered a negative integer')\n",
    "elif x == 0:\n",
    "    print('You entered 0')\n",
    "elif x == 1:\n",
    "    print('You entered the integer 1')\n",
    "else:\n",
    "    print('You entered an integer greater than 1')"
   ]
  },
  {
   "cell_type": "markdown",
   "metadata": {},
   "source": [
    "**Example 2:** A `while` statement simple program. The `while` loop executes as long as the condition (here: a < 10) remains true. In Python, any non-zero integer value is true; zero is false. The condition may also be a string or list value, in fact any sequence; anything with a non-zero length is true, empty sequences are false. The standard comparison operators are: `<` (less than), `>` (greater than), `==` (equal to), `<=` (less than or equal to), `>=` (greater than or equal to) and `!=` (not equal to)."
   ]
  },
  {
   "cell_type": "code",
   "execution_count": null,
   "metadata": {},
   "outputs": [],
   "source": [
    "# Fibonacci series: the sum of two elements defines the next\n",
    "a, b = 0, 1         # a multiple assignment: the variables a and b simultaneously get values 0 and 1\n",
    "while a < 10:\n",
    "    print(a)\n",
    "    a, b = b, a+b   # multiple assignment: the variables a and b simultaneously get values b and a+b"
   ]
  },
  {
   "cell_type": "markdown",
   "metadata": {},
   "source": [
    "### Python \"for loops\"\n",
    "\n",
    "It is easy to **iterate** over a collection of items using a **for loop**. The strings, lists, tuples, sets, and dictionaries we defined are all **iterable** containers.\n",
    "\n",
    "The for loop will go through the specified container, one item at a time, and provide a temporary variable for the current item. You can use this temporary variable like a normal variable."
   ]
  },
  {
   "cell_type": "markdown",
   "metadata": {},
   "source": [
    "**Example 1:** A simple `for` loop program which prints each string in a list along with the number of letters in each string."
   ]
  },
  {
   "cell_type": "code",
   "execution_count": null,
   "metadata": {},
   "outputs": [],
   "source": [
    "# Measure some strings:\n",
    "words = ['cat', 'Keanu', 'abracadabra'] # a container (list) named words consisting of 3 strings\n",
    "for i in words:  # i is each string in words in indexed order; cat is 0, window is 1, defenestrate is 2\n",
    "    print(i, len(i))  # print each string and the number of letters in each string"
   ]
  },
  {
   "cell_type": "markdown",
   "metadata": {},
   "source": [
    "**Example 2:** If you do need to iterate over a sequence of numbers, the built-in function `range()` comes in handy. It generates arithmetic progressions. Note: the given end point is **never** part of the generated sequence."
   ]
  },
  {
   "cell_type": "code",
   "execution_count": null,
   "metadata": {},
   "outputs": [],
   "source": [
    "for i in range(5):  # from index 0 to 4\n",
    "    print(i)"
   ]
  },
  {
   "cell_type": "markdown",
   "metadata": {},
   "source": [
    "**Example 3:** Another example `for` loop, which iterates over the indices of a sequence combining `range()` and `len()`."
   ]
  },
  {
   "cell_type": "code",
   "execution_count": null,
   "metadata": {},
   "outputs": [],
   "source": [
    "b_string = 'Point Break is a great movie'   # an example string\n",
    "c = b_string.split()     # create a container (list) made of strings from splitting b_string\n",
    "print(c)                 # print contents of container\n",
    "print(len(c))            # print the number of strings in the list\n",
    "for i in range(len(c)):  # starting from 1st string and increasing until 5th string is reached (index 0 to 4)\n",
    "    print(i, c[i])       # print index of each string and the string itself"
   ]
  },
  {
   "cell_type": "markdown",
   "metadata": {},
   "source": [
    "Programs can be written as direct code as in example 3 above or you can define a function using `def`, that when called, will execute the code. Example 3 will be re-written as a function below:"
   ]
  },
  {
   "cell_type": "code",
   "execution_count": null,
   "metadata": {},
   "outputs": [],
   "source": [
    "def string_loop():\n",
    "    temp = 1\n",
    "    b_string = 'Point Break is a great movie'\n",
    "    c = b_string.split()     # create a container (list) of multiple strings from splitting b_string\n",
    "    print(c)                 # print contents of container\n",
    "    print(len(c))            # print the number of strings in the list\n",
    "    for i in range(len(c)):  # starting from 1st string and increasing until 5th string is reached (index 0 to 4)\n",
    "        print(i, c[i])       # print index of each string and the string itself"
   ]
  },
  {
   "cell_type": "code",
   "execution_count": null,
   "metadata": {},
   "outputs": [],
   "source": [
    "print(temp)\n",
    "string_loop()"
   ]
  },
  {
   "cell_type": "markdown",
   "metadata": {},
   "source": [
    "### List, set, and dict comprehensions\n",
    "\n",
    "**List Comprehensions:** List comprehensions provide a concise way to create lists. List can be tiresome to type out by hand and it can be easy to make mistakes typing out long lists. We commonly make new lists where each element is the result of some operations applied to each member of another sequence or iterable (see example 1), or to create a subsequence of those elements that satisfy a certain condition (see example 2)."
   ]
  },
  {
   "cell_type": "markdown",
   "metadata": {},
   "source": [
    "**Example 1:** A program which creates a list of squares by introducing (and then overwriting) a variable named x that still exists after the loop completes."
   ]
  },
  {
   "cell_type": "code",
   "execution_count": null,
   "metadata": {},
   "outputs": [],
   "source": [
    "squares = []             # creates an empty container (list) named \"squares\"\n",
    "for x in range(10):      # for every number in the range from 0 to 9\n",
    "    squares.append(x**2) # square that number and append it to the list called squares\n",
    "squares                  # print the final form of the list"
   ]
  },
  {
   "cell_type": "markdown",
   "metadata": {},
   "source": [
    "Keep in mind that there are many ways to write the same piece of code. The above list `squares` could have also been created with the following, even shorter code, that established a specific condition.\n",
    "\n",
    "**Example 2:**"
   ]
  },
  {
   "cell_type": "code",
   "execution_count": null,
   "metadata": {},
   "outputs": [],
   "source": [
    "squares = [x**2 for x in range(10)]  # define a list whose entries are the numbers 0 to 9 squared\n",
    "squares                              # print the list"
   ]
  },
  {
   "cell_type": "markdown",
   "metadata": {},
   "source": [
    "<hr>\n",
    "**Set Comprehensions:** As with lists, set comprehensions can be utilized to create sets.\n",
    "\n",
    "**Example:** Creates a set of letters from the string `abracadabra` excluding the letters `a`, `b`, and `c`."
   ]
  },
  {
   "cell_type": "code",
   "execution_count": null,
   "metadata": {},
   "outputs": [],
   "source": [
    "a = {x for x in 'abracadabra' if x not in 'abc'}\n",
    "a"
   ]
  },
  {
   "cell_type": "markdown",
   "metadata": {},
   "source": [
    "<hr>\n",
    "**Dictionary Comprehensions:** Similarly, dictionary comprehensions can be used to create dictionaries from arbitrary key and value expressions.\n",
    "\n",
    "**Example:** This creates a dictionary made of keyword x and value x^2 for x = 2, 4, and 6."
   ]
  },
  {
   "cell_type": "code",
   "execution_count": null,
   "metadata": {},
   "outputs": [],
   "source": [
    "{x: x**2 for x in (2, 4, 6)}"
   ]
  },
  {
   "cell_type": "markdown",
   "metadata": {},
   "source": [
    "<hr>\n",
    "### Creating objects from arguments or other objects\n",
    "\n",
    "The basic types and containers we have used so far all provide **type constructors**:\n",
    "\n",
    "- `int()`\n",
    "- `float()`\n",
    "- `str()`\n",
    "- `list()`\n",
    "- `tuple()`\n",
    "- `set()`\n",
    "- `dict()`\n",
    "\n",
    "Up to this point, we have been defining objects of these built-in types using some syntactic shortcuts, since they are so common.\n",
    "\n",
    "\n",
    "Sometimes, you will have an object of one type that you need to convert to another type. Use the **type constructor** for the type of object you want to have, and pass in the object you currently have."
   ]
  },
  {
   "cell_type": "code",
   "execution_count": null,
   "metadata": {},
   "outputs": [],
   "source": [
    "def fahr_to_cels_1():    # defines a function called fahr_to_cels_1 that converts Fahrenheit to Celsius\n",
    "    temp_str = input('Enter a Fahrenheit temperature: ')   # prints a statement whose input becomes object temp_str\n",
    "    newTemp = 5*(temp_str-32)/9   # equation to convert the input temp to Celsius\n",
    "    print('The Fahrenheit temperature',temp,'is equivalent to ',end='')   # prints the result without a line break\n",
    "    print(newTemp,'degrees Celsius.')"
   ]
  },
  {
   "cell_type": "code",
   "execution_count": null,
   "metadata": {},
   "outputs": [],
   "source": [
    "fahr_to_cels_1()"
   ]
  },
  {
   "cell_type": "code",
   "execution_count": null,
   "metadata": {},
   "outputs": [],
   "source": [
    "def fahr_to_cels_2():\n",
    "    temp_str = input('Enter a Fahrenheit temperature: ')\n",
    "    temp = int(temp_str)   # anything typed in from an input statement is a string, convert to integer!\n",
    "    newTemp = 5*(temp-32)/9\n",
    "    print('The Fahrenheit temperature',temp,'is equivalent to ',end='')\n",
    "    print(newTemp,'degrees Celsius.')"
   ]
  },
  {
   "cell_type": "code",
   "execution_count": null,
   "metadata": {},
   "outputs": [],
   "source": [
    "fahr_to_cels_2()"
   ]
  },
  {
   "cell_type": "code",
   "execution_count": null,
   "metadata": {},
   "outputs": [],
   "source": [
    "def fahr_to_cels_3():       # defines a function called fahr2cel that converts Fahrenheit to Celsius\n",
    "    temp_str = input('Enter a Fahrenheit temperature: ')\n",
    "    if temp_str:\n",
    "        if temp_str.isdigit():   # the method isdigit() checks whether a string consists of digits only\n",
    "            temp = int(temp_str)\n",
    "            newTemp = 5*(temp-32)/9\n",
    "            print('The Fahrenheit temperature',temp,'is equivalent to ',end='')\n",
    "            print(newTemp,'degrees Celsius.')\n",
    "        else:\n",
    "            print('You didn\\'t enter a number! Try again.')\n",
    "    else:\n",
    "        print('You didn\\'t enter a number! Try again.')"
   ]
  },
  {
   "cell_type": "code",
   "execution_count": null,
   "metadata": {},
   "outputs": [],
   "source": [
    "fahr_to_cels_3()"
   ]
  },
  {
   "cell_type": "markdown",
   "metadata": {},
   "source": [
    "<hr>\n",
    "### Classes: Creating your own objects\n",
    "\n",
    "Python already has many objects that you use without thinking. Someone already set up classes or types of objects like integers, floats, and strings. They already set up methods or attributes that can be used on them, for example, `.split` or `.replace` on a string object. You can make your own types or classes of objects in Python with customized methods."
   ]
  },
  {
   "cell_type": "code",
   "execution_count": null,
   "metadata": {},
   "outputs": [],
   "source": [
    "x = 5   \n",
    "y = 'string'\n",
    "\n",
    "print(type(x))  # will return what x is\n",
    "print(type(y))  # will return what y is"
   ]
  },
  {
   "cell_type": "code",
   "execution_count": null,
   "metadata": {},
   "outputs": [],
   "source": [
    "y.upper()   # attribute that acts on the string y to capitalize each letter"
   ]
  },
  {
   "cell_type": "code",
   "execution_count": null,
   "metadata": {},
   "outputs": [],
   "source": [
    "x.upper()   # what happens if you try to use the .upper method on an object belonging to the integer class?"
   ]
  },
  {
   "cell_type": "code",
   "execution_count": null,
   "metadata": {},
   "outputs": [],
   "source": [
    "help(int)   # indeed there is no method upper in the int class!"
   ]
  },
  {
   "cell_type": "markdown",
   "metadata": {},
   "source": [
    "<hr>\n",
    "Let's create a simple class called MyClass. "
   ]
  },
  {
   "cell_type": "code",
   "execution_count": null,
   "metadata": {},
   "outputs": [],
   "source": [
    "class MyClass():\n",
    "    name = 'Francie'  # object assigned to a string\n",
    "    \n",
    "    def hello():  # function or method called hello that prints Hello World\n",
    "        print('Hello world')"
   ]
  },
  {
   "cell_type": "code",
   "execution_count": null,
   "metadata": {},
   "outputs": [],
   "source": [
    "MyClass.name     # returns a string"
   ]
  },
  {
   "cell_type": "code",
   "execution_count": null,
   "metadata": {},
   "outputs": [],
   "source": [
    "MyClass.hello    # returns a function object"
   ]
  },
  {
   "cell_type": "code",
   "execution_count": null,
   "metadata": {},
   "outputs": [],
   "source": [
    "MyClass.hello()  # method hello "
   ]
  },
  {
   "cell_type": "markdown",
   "metadata": {},
   "source": [
    "<hr>\n",
    "Let's improve `MyClass` ..."
   ]
  },
  {
   "cell_type": "code",
   "execution_count": null,
   "metadata": {},
   "outputs": [],
   "source": [
    "class MyClass():\n",
    "    def __init__(self, name):  # special method that gives each instance of class MyClass a specific initial state\n",
    "        self.name = name   \n",
    "        \n",
    "    def hello(self):\n",
    "        print('Hello world, my name is', self.name)\n",
    "        \n",
    "me = MyClass('Francie')     # define a new instance \"me\" which is customized to the above initial state"
   ]
  },
  {
   "cell_type": "code",
   "execution_count": null,
   "metadata": {},
   "outputs": [],
   "source": [
    "me.hello()"
   ]
  },
  {
   "cell_type": "code",
   "execution_count": null,
   "metadata": {},
   "outputs": [],
   "source": [
    "# Create a new instance \"you\" that passes your name into MyClass and call the hello method.\n",
    "me2=MyClass('Fluffers')\n",
    "me2.hello()"
   ]
  },
  {
   "cell_type": "markdown",
   "metadata": {},
   "source": [
    "<hr>\n",
    "Let's look at an example of a class `Car` that has a very specific initial state that will get passed on to each new instance of `Car`. `Car` has one method, `describe`, that provides a description of a person's car."
   ]
  },
  {
   "cell_type": "code",
   "execution_count": null,
   "metadata": {},
   "outputs": [],
   "source": [
    "class Car():\n",
    "    def __init__(self, make, model, year, mileage, color):   # parameters for the class Car\n",
    "        self.make = make\n",
    "        self.model = model\n",
    "        self.year = year\n",
    "        self.mileage = mileage\n",
    "        self.color = color\n",
    "        \n",
    "    def describe(self):    # method that acts on whatever has been passed into self\n",
    "        print('I drive a', self.year, self.make, self.model, 'that is', self.color, 'with', self.mileage, 'miles.')\n",
    "\n",
    "# mycar is an instance of class Car()\n",
    "mycar = Car('Honda', 'Civic', 2015, 78000, 'silver')  # mycar gets passed into the self parameter above"
   ]
  },
  {
   "cell_type": "code",
   "execution_count": null,
   "metadata": {},
   "outputs": [],
   "source": [
    "mycar.describe()"
   ]
  },
  {
   "cell_type": "code",
   "execution_count": null,
   "metadata": {},
   "outputs": [],
   "source": [
    "yourcar = Car('Hyundai','Sonata', 2018, 3000, 'black')   # Fill in your car's attributes\n",
    "yourcar.describe()"
   ]
  },
  {
   "cell_type": "code",
   "execution_count": null,
   "metadata": {},
   "outputs": [],
   "source": [
    "# We can also access any attribute of the instance\n",
    "mycar.color"
   ]
  },
  {
   "cell_type": "markdown",
   "metadata": {},
   "source": [
    "Let's add another method to `Car` which will allow us to update the car color."
   ]
  },
  {
   "cell_type": "code",
   "execution_count": null,
   "metadata": {},
   "outputs": [],
   "source": [
    "class Car():\n",
    "    def __init__(self, make, model, year, mileage, color):   # parameters for the class Car\n",
    "        self.make = make\n",
    "        self.model = model\n",
    "        self.year = year\n",
    "        self.mileage = mileage\n",
    "        self.color = color\n",
    "        \n",
    "    def describe(self):    # method that acts on whatever has been passed into self\n",
    "        print('I drive a', self.year, self.make, self.model, 'that is', self.color, 'with', self.mileage, 'miles.')\n",
    "\n",
    "    def change_color(self, color):   # update the car color\n",
    "        self.color = color\n",
    "        \n",
    "# mycar is an instance of class Car()\n",
    "mycar = Car('Honda', 'Civic', 2015, 78000, 'silver')  # mycar gets passed into the self parameter above"
   ]
  },
  {
   "cell_type": "code",
   "execution_count": null,
   "metadata": {},
   "outputs": [],
   "source": [
    "mycar.change_color('black')  # updating my car color    \n",
    "mycar.describe()\n",
    "mycar.color"
   ]
  },
  {
   "cell_type": "markdown",
   "metadata": {},
   "source": [
    "<hr>\n",
    "### Basic I/O\n",
    "Python can also be used to open and read files, as well as write files. \n",
    "\n",
    "**Opening files**: `open()` returns a file object, and is most commonly used with two arguments: `open(filename, mode)`\n",
    "- The first argument is a string containing the filename. The second argument is another string containing a few characters describing the way in which the file will be used. mode can be `r` when the file will only be read, `w` for only writing (an existing file with the same name will be erased), and `a` opens the file for appending; any data written to the file is automatically added to the end. `r+` opens the file for both reading and writing. The mode argument is *optional*; `r` will be assumed if it’s omitted.\n",
    "- You should call `f.close()` or a `with` statement to close the file at the end of your program to immediately free up any system resources used by it. If you don’t explicitly close a file, Python’s garbage collector will eventually destroy the object and close the open file for you, but the file may stay open for a while. Another risk is that different Python implementations will do this clean-up at different times.\n",
    "- Normally, files are opened in text mode, meaning that you read and write strings from and to the file, which are encoded in a specific encoding. If encoding is not specified, the default is platform dependent (see `open()`). `b` appended to the mode opens the file in binary mode: now the data is read and written in the form of bytes objects. This mode should be used for all files that don’t contain text.\n",
    "    + In text mode, the default when reading is to convert platform-specific line endings (`\\n` on Unix, `\\r\\n` on Windows) to just `\\n`. When writing in text mode, the default is to convert occurrences of `\\n` back to platform-specific line endings. This behind-the-scenes modification to file data is fine for text files, but will corrupt binary data like that in JPEG or EXE files. Be very careful to use binary mode when reading and writing such files."
   ]
  },
  {
   "cell_type": "markdown",
   "metadata": {},
   "source": [
    "**Example 1:** Opening a file"
   ]
  },
  {
   "cell_type": "code",
   "execution_count": null,
   "metadata": {},
   "outputs": [],
   "source": [
    "f = open('data/day1.txt', 'r')   # opens the file day1.txt for reading\n",
    "for line in f:              # for loop to print each line in the file\n",
    "    print(line, end='')     # the file has a new line (\\n) at the end of each line already\n",
    "f.close()                   # don't forget to close the file!"
   ]
  },
  {
   "cell_type": "code",
   "execution_count": null,
   "metadata": {},
   "outputs": [],
   "source": [
    "dir(f)"
   ]
  },
  {
   "cell_type": "markdown",
   "metadata": {},
   "source": [
    "**Example 2:** Opening a file using `with`. It can be handy to use the `with` keyword when dealing with file objects. The advantage is that the file is properly closed after its suite finishes, even if an exception is raised at some point."
   ]
  },
  {
   "cell_type": "code",
   "execution_count": null,
   "metadata": {},
   "outputs": [],
   "source": [
    "with open('data/day1.txt') as f: \n",
    "    read_file = f.read()\n",
    "\n",
    "read_file"
   ]
  },
  {
   "cell_type": "code",
   "execution_count": null,
   "metadata": {},
   "outputs": [],
   "source": [
    "f.closed   # Is the file closed?"
   ]
  },
  {
   "cell_type": "markdown",
   "metadata": {},
   "source": [
    "<hr>\n",
    "**Some Methods of File Objects**: in each of the described methods, f is an existing file object.\n",
    "\n",
    "- `f.read(size)`\n",
    "    + Reads some quantity of data and returns it as a string (in text mode) or bytes object (in binary mode); size is an optional numeric argument. When size is omitted or negative, the entire contents of the file will be read and returned. Make sure the file isn't larger than your machine’s memory.\n",
    "- `f.readline()`\n",
    "    + Reads a single line from the file; a newline character (\\n) is left at the end of the string, and is only omitted on the last line of the file if the file doesn’t end in a newline.\n",
    "- `list(f)`\n",
    "    + Allows you to read all the lines of a file in a list\n",
    "- `f.readlines()`\n",
    "    + Allows you to read all the lines of a file in a list\n",
    "- `f.write(string)`\n",
    "    + Writes the contents of string to the file, returning the number of characters written"
   ]
  },
  {
   "cell_type": "code",
   "execution_count": null,
   "metadata": {},
   "outputs": [],
   "source": [
    "# Examples of Methods of File Objects\n",
    "f = open('data/day1.txt', 'r')"
   ]
  },
  {
   "cell_type": "code",
   "execution_count": null,
   "metadata": {},
   "outputs": [],
   "source": [
    "f = open('data/day1.txt', 'r')\n",
    "f.read()"
   ]
  },
  {
   "cell_type": "code",
   "execution_count": null,
   "metadata": {},
   "outputs": [],
   "source": [
    "f = open('data/day1.txt', 'r')\n",
    "f.readline()"
   ]
  },
  {
   "cell_type": "code",
   "execution_count": null,
   "metadata": {},
   "outputs": [],
   "source": [
    "f.readline()"
   ]
  },
  {
   "cell_type": "code",
   "execution_count": null,
   "metadata": {},
   "outputs": [],
   "source": [
    "f.readline()"
   ]
  },
  {
   "cell_type": "code",
   "execution_count": null,
   "metadata": {},
   "outputs": [],
   "source": [
    "f.readline()"
   ]
  },
  {
   "cell_type": "code",
   "execution_count": null,
   "metadata": {
    "scrolled": true
   },
   "outputs": [],
   "source": [
    "f.readline()"
   ]
  },
  {
   "cell_type": "code",
   "execution_count": null,
   "metadata": {},
   "outputs": [],
   "source": [
    "f = open('data/day1.txt', 'r')\n",
    "list(f)"
   ]
  },
  {
   "cell_type": "code",
   "execution_count": null,
   "metadata": {},
   "outputs": [],
   "source": [
    "f = open('data/day1.txt', 'r')\n",
    "f.readlines()"
   ]
  },
  {
   "cell_type": "code",
   "execution_count": null,
   "metadata": {},
   "outputs": [],
   "source": [
    "f = open('data/day1.txt', 'r')\n",
    "w = open('data/day1_copy.txt', 'w')\n",
    "\n",
    "for line in f:\n",
    "    w.write(line)\n",
    "    \n",
    "f.close()\n",
    "w.close()"
   ]
  },
  {
   "cell_type": "code",
   "execution_count": null,
   "metadata": {},
   "outputs": [],
   "source": [
    "def about_me(filename, myname, myage, fave_color):\n",
    "    \n",
    "    w = open(filename, 'w')\n",
    "\n",
    "    # unlike print, write can have only one argument, so multiple strings are combined with +\n",
    "    w.write('My name is ' + myname + ' and I am ' + str(myage) + ' years old.' + '\\n')\n",
    "    w.write('My favorite color is ' + fave_color + '.')\n",
    "\n",
    "    w.close()"
   ]
  },
  {
   "cell_type": "code",
   "execution_count": null,
   "metadata": {},
   "outputs": [],
   "source": [
    "about_me('data/day1_aboutme.txt', 'Francie', 43, 'green')"
   ]
  },
  {
   "cell_type": "markdown",
   "metadata": {},
   "source": [
    "<hr>\n",
    "**Reading and Writing .csv files**\n",
    "\n",
    "CSV (comma separated value) files are convenient because they can be read or written by spreadsheet programs such as Excel. They are a very common way of transferring files from one application to another.\n",
    "\n",
    "Summary of CSV file statements:\n",
    "- `import csv`: library needed to deal with .csv files\n",
    "- `infile = open(filename)`: For reading. Also infile = open(filename,'r')\n",
    "- `infile.close()`: An open file locks other applications out\n",
    "+ `rows = csv.reader(infile)`: Read row\n",
    "+ `f = open(filename, 'w', newline='')`: Open for writing\n",
    "+ `csv.writer(f).writerows(rowlist)`: Write all rows at once\n",
    "+ `csv.writer(f).writerow(row)`: Write one row\n",
    "+ `f.close()`: Close the file\n",
    "\n",
    "Each item in a row can be referenced by it's index. For example, in the excerpt row below:\n",
    "\n",
    "- 4,Be,Beryllium\n",
    "    + the first item is row[0], the second is row[1], and the third is row[2]. "
   ]
  },
  {
   "cell_type": "code",
   "execution_count": null,
   "metadata": {},
   "outputs": [],
   "source": [
    "# Example of reading from a CSV file and writing each row as a list.\n",
    "\n",
    "import csv\n",
    "\n",
    "def read_csv_file(filename):    # filename.txt needs to be in quotes\n",
    "    f = open(filename)\n",
    "    for row in csv.reader(f):\n",
    "        print(row)\n",
    "    f.close()"
   ]
  },
  {
   "cell_type": "code",
   "execution_count": null,
   "metadata": {
    "scrolled": true
   },
   "outputs": [],
   "source": [
    "read_csv_file('data/may2019_temps.csv')"
   ]
  },
  {
   "cell_type": "code",
   "execution_count": null,
   "metadata": {},
   "outputs": [],
   "source": [
    "# Example of reading from a CSV file and appending to a list. \n",
    "\n",
    "def read_csv_file1(filename):\n",
    "    f = open(filename)\n",
    "    data = []\n",
    "    for row in csv.reader(f):\n",
    "        data.append(row)\n",
    "    print(data)   \n",
    "    f.close()"
   ]
  },
  {
   "cell_type": "code",
   "execution_count": null,
   "metadata": {},
   "outputs": [],
   "source": [
    "read_csv_file1('data/may2019_temps.csv')"
   ]
  },
  {
   "cell_type": "code",
   "execution_count": null,
   "metadata": {},
   "outputs": [],
   "source": [
    "# Example: Reads a CSV file and prints each row without list brackets by printing each item in the row separately \n",
    "# instead of printing the whole row. This requires you to know before-hand how many columns are in the csv file. \n",
    "# In the case of booksread.csv, there are 3 items in each row.\n",
    "\n",
    "import csv\n",
    "\n",
    "def read_csv_file2(filename):\n",
    "    f = open(filename)\n",
    "    for row in csv.reader(f):\n",
    "        print(row[0], row[1], row[2], row[3], row[4])\n",
    "    f.close()"
   ]
  },
  {
   "cell_type": "code",
   "execution_count": null,
   "metadata": {
    "scrolled": true
   },
   "outputs": [],
   "source": [
    "read_csv_file2('data/may2019_temps.csv')"
   ]
  },
  {
   "cell_type": "code",
   "execution_count": null,
   "metadata": {},
   "outputs": [],
   "source": [
    "# Example: read in the may2019_temps.csv file into a dictionary and print the dictionary. In this case, we'll choose\n",
    "# the date to be the key and the temperature data to be the values.\n",
    "\n",
    "def read_csv_file3(filename):\n",
    "    import csv\n",
    "    \n",
    "    with open(filename) as f:   # recall using a with statement means the file closes automatically when done\n",
    "        dict = {}               # sets up an empty dictionary that we'll pull the data into\n",
    "        reader = csv.reader(f)  # sets the command to read a row to variable called reader\n",
    "        next(reader)            # handy method that skips the first row, which is a header\n",
    "        \n",
    "        for row in csv.reader(f):  # read and add each row after the header to the dictionary\n",
    "            dict[row[0]] = row[1], row[2], row[3], row[4]   #  defines the key and the values\n",
    "   \n",
    "        print(dict)    "
   ]
  },
  {
   "cell_type": "code",
   "execution_count": null,
   "metadata": {
    "scrolled": true
   },
   "outputs": [],
   "source": [
    "read_csv_file3('data/may2019_temps.csv')"
   ]
  },
  {
   "cell_type": "code",
   "execution_count": null,
   "metadata": {},
   "outputs": [],
   "source": [
    "# Example: read a CSV file containing a daily measured mass of a sample in grams and compute the average mass\n",
    "# and write that into the csv file, by copying the old file to a new one and adding an additional line that \n",
    "# contains the average of all the mass values. \n",
    "\n",
    "def update_csv(old_name, new_name):\n",
    "    import csv\n",
    "    \n",
    "    f = open(old_name)\n",
    "    w = open(new_name,'w',newline = '')\n",
    "    ct = 0\n",
    "    tot_mass = 0.0\n",
    "    for row in csv.reader(f):\n",
    "        if row[0]!=\"Date\":\n",
    "            ct = ct + 1\n",
    "            tot_mass = tot_mass + float(row[1])\n",
    "        csv.writer(w).writerow(row)\n",
    "    row = [\"Average\", tot_mass/ct]\n",
    "    csv.writer(w).writerow(row)\n",
    "    f.close()\n",
    "    w.close()"
   ]
  },
  {
   "cell_type": "code",
   "execution_count": null,
   "metadata": {},
   "outputs": [],
   "source": [
    "update_csv('data/mass.csv', 'data/mass_avg.csv')"
   ]
  },
  {
   "cell_type": "markdown",
   "metadata": {},
   "source": [
    "### How to Google Python errors and exceptions efficiently ...\n",
    "(adapted from Kumar Nishant, https://www.datacamp.com/community/tutorials/exception-handling-python)\n",
    "\n",
    "When writing a program, things can often go wrong. Usually, these errors are mistakes in the code. In simple words, errors are something which Python doesn't like and will show its displeasure on by *abruptly* terminating the program.\n",
    "\n",
    "Errors can be of two types:\n",
    "- Syntax errors\n",
    "- Errors which are encountered at runtime (Exceptions)\n",
    "\n",
    "<hr>\n",
    "**Syntax errors:** Errors caused by not following the proper structure (syntax) of the language are called syntax or parsing errors.\n",
    "\n",
    "**Example 1:** Execute the cell below and read the resulting error ..."
   ]
  },
  {
   "cell_type": "code",
   "execution_count": null,
   "metadata": {},
   "outputs": [],
   "source": [
    "testArray = [1,2,3]\n",
    "for value in testArray:\n",
    "    print(value)"
   ]
  },
  {
   "cell_type": "markdown",
   "metadata": {},
   "source": [
    "The parser repeats the line on which the error is and displays a little \"arrow\" pointing at the earliest point in the line where the error was detected. The error is caused by (or at least detected at) the token preceding the arrow. As you can see in the error message, the code is not indented properly. Syntax errors are easy to fix, Python will show you the line number where the error is, with an error message which will be self-explanatory.\n",
    "\n",
    "Fix the error by indenting **`print(value)`** and then re-run the cell.\n",
    "<hr>\n",
    "\n",
    "**Exceptions:**\n",
    "Exceptions occur during run-time. Your code may be syntactically correct but it may happen that during run-time Python encounters something which it can't handle, then it raises an exception. For example, dividing a number by zero or trying to write to a file which is read-only.\n",
    "When a Python script raises exception, it creates an Exception object. If the script doesn't handle exception the program will terminate abruptly.\n",
    "\n",
    "- **Python Built-in Exceptions:** Python provides us some basic exception classes which are already defined and can be used in generic cases.\n",
    "\n",
    "    + **Exception Class: Event**\n",
    "\n",
    "    `Exception`: Base class for all exceptions\n",
    "\n",
    "    `ArithmeticError`: Raised when numeric calculations fails\n",
    "\n",
    "    `FloatingPointError`: Raised when a floating point calculation fails\n",
    "\n",
    "    `ZeroDivisionError`: Raised when division or modulo by zero takes place for all numeric types\n",
    "\n",
    "    `AssertionError`: Raised when Assert statement fails\n",
    "\n",
    "    `OverflowError`: Raised when result of an arithmetic operation is too large to be represented\n",
    "\n",
    "    `ImportError`: Raised when the imported module is not found\n",
    "\n",
    "    `IndexError`: Raised when index of a sequence is out of range\n",
    "\n",
    "    `KeyboardInterrupt`: Raised when the user interrupts program execution, generally by pressing Ctrl+c\n",
    "\n",
    "    `IndentationError`: Raised when there is incorrect indentation\n",
    "\n",
    "    `SyntaxError`: Raised by parser when syntax error is encountered\n",
    "\n",
    "    `KeyError`: Raised when the specified key is not found in the dictionary\n",
    "\n",
    "    `NameError`: Raised when an identifier is not found in the local or global namespace\n",
    "\n",
    "    `TypeError`: Raised when a function or operation is applied to an object of incorrect type\n",
    "\n",
    "    `ValueError`: Raised when a function gets argument of correct type but improper value\n",
    "\n",
    "    `IOError`: Raised when an input/ output operation fails\n",
    "\n",
    "    `RuntimeError`: Raised when a generated error does not fall into any category"
   ]
  },
  {
   "cell_type": "markdown",
   "metadata": {},
   "source": [
    "<hr>\n",
    "**Example 1:** `ArithmeticError`\n",
    "\n",
    "`ArithmeticError` is the base class for all arithmetic exceptions which are raised for errors in arithmetic operations, such as:\n",
    "\n",
    "- `OverflowError`\n",
    "- `ZeroDivisionError`\n",
    "- `FloatingPointError`\n",
    "\n",
    "In the program below, a number is being divided by zero, which will raise an `ArithmeticError` exception. Run the cell and read the error carefully."
   ]
  },
  {
   "cell_type": "code",
   "execution_count": null,
   "metadata": {},
   "outputs": [],
   "source": [
    "a = 10/0\n",
    "print(a)"
   ]
  },
  {
   "cell_type": "markdown",
   "metadata": {},
   "source": [
    "<hr>\n",
    "**Example 2:** `IndexError`\n",
    "\n",
    "An `IndexError` exception is raised when you refer a sequence which is out of range. In the example below, the list `abc` contains only 3 entries, but the 4th index is being accessed, which will result an `IndexError` exception. Run the cell and read the error carefully."
   ]
  },
  {
   "cell_type": "code",
   "execution_count": null,
   "metadata": {},
   "outputs": [],
   "source": [
    "abc=[10,20,20]\n",
    "print(abc[3])"
   ]
  },
  {
   "cell_type": "markdown",
   "metadata": {},
   "source": [
    "**Handling the exception:**\n",
    "When a Python script raises exception, it creates an `Exception` object. If the script doesn't handle exception the program will terminate abruptly.\n",
    "\n",
    "Look again at the first example. The code can be re-written to handle when/if an exception occurs. If the exception occurs, an error is printed out, *but* the program doesn't terminate abruptly. \n",
    "\n",
    "- Run the cell and read the output carefully. \n",
    "\n",
    "- Next, change the variable definition of `a` to `a = 10/6` and re-run the cell and read the output carefully."
   ]
  },
  {
   "cell_type": "code",
   "execution_count": null,
   "metadata": {},
   "outputs": [],
   "source": [
    "denominator=0\n",
    "\n",
    "try:\n",
    "    try:  \n",
    "        a = 10/denominator\n",
    "        print(a)\n",
    "    except ArithmeticError as ExceptionObject: \n",
    "\n",
    "        print(\"Arithmetic exception raised.\" )\n",
    "        raise(ExceptionObject)\n",
    "    else:  \n",
    "        print(\"Success. You are a rock star.\")\n",
    "    print(denominator)\n",
    "except:\n",
    "    print(denominator)"
   ]
  },
  {
   "cell_type": "code",
   "execution_count": null,
   "metadata": {},
   "outputs": [],
   "source": []
  }
 ],
 "metadata": {
  "kernelspec": {
   "display_name": "Python 3",
   "language": "python",
   "name": "python3"
  },
  "language_info": {
   "codemirror_mode": {
    "name": "ipython",
    "version": 3
   },
   "file_extension": ".py",
   "mimetype": "text/x-python",
   "name": "python",
   "nbconvert_exporter": "python",
   "pygments_lexer": "ipython3",
   "version": "3.6.8"
  }
 },
 "nbformat": 4,
 "nbformat_minor": 2
}
