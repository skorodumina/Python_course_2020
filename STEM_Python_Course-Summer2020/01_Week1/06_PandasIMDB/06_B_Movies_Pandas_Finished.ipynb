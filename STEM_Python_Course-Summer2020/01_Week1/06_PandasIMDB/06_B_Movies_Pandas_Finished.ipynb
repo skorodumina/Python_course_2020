{
 "cells": [
  {
   "cell_type": "code",
   "execution_count": null,
   "metadata": {},
   "outputs": [],
   "source": [
    "%matplotlib inline\n",
    "import matplotlib.pyplot as plt\n",
    "import pandas as pd\n",
    "import numpy as np\n",
    "import seaborn as sns"
   ]
  },
  {
   "cell_type": "markdown",
   "metadata": {},
   "source": [
    "## Lets get some data to look at\n",
    "\n",
    "Movies! IMDB has a lot of information about movies and tv shows and it's easy to download and get.\n",
    "\n",
    "\n",
    "The documentioan is here:\n",
    "\n",
    "https://www.imdb.com/interfaces/\n",
    "\n",
    "Let's look at movie ratings!"
   ]
  },
  {
   "cell_type": "code",
   "execution_count": null,
   "metadata": {},
   "outputs": [],
   "source": [
    "ratings = pd.read_csv(\"https://datasets.imdbws.com/title.ratings.tsv.gz\", sep='\\t')\n",
    "ratings.head()"
   ]
  },
  {
   "cell_type": "markdown",
   "metadata": {},
   "source": [
    "#### Ok great we have these ratings but what movie are they for?\n",
    "\n",
    "Looking at the documentation:\n",
    "\n",
    "\n",
    "#### title.ratings.tsv.gz – Contains the IMDb rating and votes information for titles\n",
    "* tconst (string) - alphanumeric unique identifier of the title\n",
    "* averageRating – weighted average of all the individual user ratings\n",
    "* numVotes - number of votes the title has received\n",
    "\n",
    "We'll have to get the name from somewhere else using \"tconst\" varialbe to match between dataframes.\n",
    "\n",
    "#### title.basics.tsv.gz - Contains the following information for titles:\n",
    "* tconst (string) - alphanumeric unique identifier of the title\n",
    "* titleType (string) – the type/format of the title (e.g. movie, short, tvseries, tvepisode, video, etc)\n",
    "* primaryTitle (string) – the more popular title / the title used by the filmmakers on promotional materials at the point of release\n",
    "* originalTitle (string) - original title, in the original language\n",
    "* isAdult (boolean) - 0: non-adult title; 1: adult title\n",
    "* startYear (YYYY) – represents the release year of a title. In the case of TV Series, it is the series start year\n",
    "* endYear (YYYY) – TV Series end year. ‘\\N’ for all other title types\n",
    "* runtimeMinutes – primary runtime of the title, in minutes\n",
    "* genres (string array) – includes up to three genres associated with the title\n",
    "\n",
    "#### Lets load the titles"
   ]
  },
  {
   "cell_type": "code",
   "execution_count": null,
   "metadata": {},
   "outputs": [],
   "source": [
    "titles = pd.read_csv(\"https://datasets.imdbws.com/title.basics.tsv.gz\", sep='\\t')"
   ]
  },
  {
   "cell_type": "code",
   "execution_count": null,
   "metadata": {},
   "outputs": [],
   "source": [
    "titles.head()"
   ]
  },
  {
   "cell_type": "markdown",
   "metadata": {},
   "source": [
    "Let's cleanup some of the data by selecting a type (Movies) and drop a few of the columns we're not going to use.\n",
    "\n",
    "#### 1) Use titleType to get only movies \n",
    "* What are the titleType's?\n",
    "* How do we get rid of the ones we don't want?\n",
    "\n",
    "#### 2) Let's drop some things we're not using\n",
    "* Once we know titleType is Movies we can drop it\n",
    "* It seems primaryTitle\tand originalTitle are the same for most, let's only keep 1\n",
    "* endYear seems to be only used for tv shows, lets drop endYear and rename startYear to just year."
   ]
  },
  {
   "cell_type": "code",
   "execution_count": null,
   "metadata": {},
   "outputs": [],
   "source": [
    "titles.titleType.unique()"
   ]
  },
  {
   "cell_type": "markdown",
   "metadata": {},
   "source": [
    "#### Let's select 'movie' and 'tvMovie' and get rid of all the rest."
   ]
  },
  {
   "cell_type": "code",
   "execution_count": null,
   "metadata": {},
   "outputs": [],
   "source": [
    "movies = titles[(titles.titleType == 'movie') | (titles.titleType == 'tvMovie')]\n",
    "\n",
    "# Also select only non-adult movies to be safe for work\n",
    "movies = movies[movies.isAdult == 0]"
   ]
  },
  {
   "cell_type": "code",
   "execution_count": null,
   "metadata": {},
   "outputs": [],
   "source": [
    "movies.head()"
   ]
  },
  {
   "cell_type": "markdown",
   "metadata": {},
   "source": [
    "### Let's drop some of our unused columns\n",
    "\n",
    "Use the [drop](https://pandas.pydata.org/pandas-docs/stable/reference/api/pandas.DataFrame.drop.html) method built into pandas."
   ]
  },
  {
   "cell_type": "code",
   "execution_count": null,
   "metadata": {},
   "outputs": [],
   "source": [
    "movies = movies.drop(columns=['isAdult', 'originalTitle', 'titleType', 'endYear', 'genres'])"
   ]
  },
  {
   "cell_type": "markdown",
   "metadata": {},
   "source": [
    "### Let's match up the movies to their rating now. \n",
    "\n",
    "[Merge](https://pandas.pydata.org/pandas-docs/stable/reference/api/pandas.DataFrame.merge.html)"
   ]
  },
  {
   "cell_type": "code",
   "execution_count": null,
   "metadata": {},
   "outputs": [],
   "source": [
    "movies = movies.merge(ratings, left_on='tconst', right_on='tconst')"
   ]
  },
  {
   "cell_type": "code",
   "execution_count": null,
   "metadata": {},
   "outputs": [],
   "source": [
    "movies.head()"
   ]
  },
  {
   "cell_type": "code",
   "execution_count": null,
   "metadata": {},
   "outputs": [],
   "source": [
    "movies.rename(columns={'startYear': 'Year', 'averageRating': 'Rating'}, inplace=True)"
   ]
  },
  {
   "cell_type": "markdown",
   "metadata": {},
   "source": [
    "### Let's plot something to see how the data looks"
   ]
  },
  {
   "cell_type": "code",
   "execution_count": null,
   "metadata": {},
   "outputs": [],
   "source": [
    "movies.plot.scatter('Year', 'Rating');"
   ]
  },
  {
   "cell_type": "markdown",
   "metadata": {},
   "source": [
    "### Ooops looks like something is wrong\n",
    "\n",
    "```\n",
    "ValueError: could not convert string to float: '\\\\N'\n",
    "```\n",
    "\n",
    "#### A ‘\\N’ is used to denote that a particular field is missing or null for that title/name.\n",
    "\n",
    "Let's take out all the numbered values that are null\n",
    "\n",
    "First let's make them all into numbers and anything that's not get changed to NaN (Not a number)"
   ]
  },
  {
   "cell_type": "code",
   "execution_count": null,
   "metadata": {},
   "outputs": [],
   "source": [
    "movies.runtimeMinutes = pd.to_numeric(movies.runtimeMinutes, errors='coerce')\n",
    "movies.Rating = pd.to_numeric(movies.Rating, errors='coerce')\n",
    "movies.Year = pd.to_numeric(movies.Year, errors='coerce')\n",
    "movies.numVotes = pd.to_numeric(movies.numVotes, errors='coerce')\n",
    "movies.dropna(axis=0, how='any', inplace=True)\n",
    "\n",
    "movies.plot.scatter('Year', 'Rating');"
   ]
  },
  {
   "cell_type": "markdown",
   "metadata": {},
   "source": [
    "## Now that we have some clean data let's make some cool plots!"
   ]
  },
  {
   "cell_type": "code",
   "execution_count": null,
   "metadata": {},
   "outputs": [],
   "source": [
    "fig = plt.figure(figsize=(16,9))\n",
    "plt.hist2d(movies.Year, movies.Rating, bins=(100,30), range=((1920,2020),None), cmap='Spectral_r')\n",
    "plt.show()"
   ]
  },
  {
   "cell_type": "code",
   "execution_count": null,
   "metadata": {},
   "outputs": [],
   "source": [
    "\n",
    "from scipy.stats import norm\n",
    "\n",
    "fig = plt.figure(figsize=(16,9))\n",
    "plt.hist(movies.runtimeMinutes, bins=180,range=(0, 180), density=True)\n",
    "mean,std=norm.fit(movies.runtimeMinutes[movies.runtimeMinutes < 180])\n",
    "xmin, xmax = plt.xlim()\n",
    "x = np.linspace(xmin, xmax, 100)\n",
    "y = norm.pdf(x, mean, std)\n",
    "plt.plot(x, y)\n",
    "plt.show()\n"
   ]
  },
  {
   "cell_type": "code",
   "execution_count": null,
   "metadata": {},
   "outputs": [],
   "source": [
    "top_movies = pd.read_csv(\"https://raw.githubusercontent.com/thechaudharysab/imdb-data-pandas-visualization/master/data/imdb_1000.csv\")\n",
    "top_movies.head()"
   ]
  },
  {
   "cell_type": "code",
   "execution_count": null,
   "metadata": {},
   "outputs": [],
   "source": [
    "movies = movies[movies.Rating  >= np.min(top_movies.star_rating)]\n",
    "movies.head()"
   ]
  },
  {
   "cell_type": "code",
   "execution_count": null,
   "metadata": {},
   "outputs": [],
   "source": [
    "movies = movies.merge(top_movies, left_on='primaryTitle', right_on='title')\n",
    "\n",
    "movies.head()"
   ]
  },
  {
   "cell_type": "code",
   "execution_count": null,
   "metadata": {},
   "outputs": [],
   "source": [
    "fig = plt.figure(figsize=(16,9))\n",
    "\n",
    "for content_rating in movies.content_rating.unique():\n",
    "    movie_content_rating = movies[movies.content_rating == content_rating]\n",
    "    plt.hist(movie_content_rating.star_rating, range=(7,10),label=content_rating)\n",
    "    \n",
    "plt.legend()\n",
    "plt.show()"
   ]
  },
  {
   "cell_type": "code",
   "execution_count": null,
   "metadata": {},
   "outputs": [],
   "source": [
    "fig = plt.figure(figsize=(16,9))\n",
    "sns.jointplot(x=movies.Year, y=movies.duration, kind='kde' , color=\"blue\")\n",
    "plt.show()"
   ]
  },
  {
   "cell_type": "code",
   "execution_count": null,
   "metadata": {},
   "outputs": [],
   "source": [
    "fig = plt.figure(figsize=(16,9))\n",
    "sns.boxplot(y=movies.duration, x=movies.star_rating)\n",
    "plt.show()"
   ]
  },
  {
   "cell_type": "code",
   "execution_count": null,
   "metadata": {
    "scrolled": false
   },
   "outputs": [],
   "source": [
    "fig = plt.figure(figsize=(16,9))\n",
    "sns.violinplot(y=movies.duration, x=movies.star_rating)\n",
    "plt.show()"
   ]
  }
 ],
 "metadata": {
  "kernelspec": {
   "display_name": "Python 3.7.5 64-bit",
   "language": "python",
   "name": "python37564bit97448d587f3e42bf9dd368801ee71c4b"
  },
  "language_info": {
   "codemirror_mode": {
    "name": "ipython",
    "version": 3
   },
   "file_extension": ".py",
   "mimetype": "text/x-python",
   "name": "python",
   "nbconvert_exporter": "python",
   "pygments_lexer": "ipython3",
   "version": "3.7.7"
  }
 },
 "nbformat": 4,
 "nbformat_minor": 2
}
