{
 "cells": [
  {
   "cell_type": "markdown",
   "metadata": {},
   "source": [
    "# 1a\n",
    "I need some code that lets a user guess a letter that I have chosen from the alphabet. \n",
    "The code should ask for a guess from the user, and then print back the guess with\n",
    "some phrase like, `You guessed: x`"
   ]
  },
  {
   "cell_type": "code",
   "execution_count": null,
   "metadata": {},
   "outputs": [],
   "source": [
    "letter = input(\"Guess your letter: \")\n",
    "print(\"You guessed: \",letter)"
   ]
  },
  {
   "cell_type": "markdown",
   "metadata": {},
   "source": [
    "# 1b\n",
    "Take your code from problem 1a, and put it inside of a function called `ask_user_for_next_letter`. You don't have to change anything, just make it so that instead of simply running the cell and having it ask for input, a user has to call the function to get the prompt to give it a guess."
   ]
  },
  {
   "cell_type": "code",
   "execution_count": null,
   "metadata": {},
   "outputs": [],
   "source": [
    "def ask_user_for_next_letter():\n",
    "    letter = input(\"Guess your letter: \")\n",
    "    return letter.strip().upper() # You probably won't have the .strip() or the .upper()\n",
    "                                  # But they help with issues that may arise with inputs\n",
    "                                  # from users. the \"strip\" function removes excess whitespace,\n",
    "                                  # and the \"upper\" function just makes everything uppercase\n",
    "                                  # so you don't need to worry about case.\n",
    "letter = ask_user_for_next_letter()\n",
    "print(\"You guessed: \",letter)"
   ]
  },
  {
   "cell_type": "markdown",
   "metadata": {},
   "source": [
    "# 2a\n",
    "Now I need some code that prints the letters in a word one-by-one. Start by defining some word as a string (e.g. `myWord='python'`). Then use a `for` loop to go through each letter in the word, and print it. The letters will (probably) appear on separate lines."
   ]
  },
  {
   "cell_type": "code",
   "execution_count": null,
   "metadata": {},
   "outputs": [],
   "source": [
    "myWord = 'python'\n",
    "for letter in myWord: # You could index myWord as though it's a list (myWord[i]),\n",
    "    print(letter)     # and have the loop run over the length of the word if you want"
   ]
  },
  {
   "cell_type": "markdown",
   "metadata": {},
   "source": [
    "# 2b\n",
    "Now ammend your code so that you store a word and a letter (in your word) at the top of the cell e.g.: \n",
    "\n",
    "`myWord='python'`\n",
    "\n",
    "`myLetter='p'`\n",
    "\n",
    "Add an `if/else` statement to your loop that checks if each letter is equal to your saved letter (myLetter) before it prints. If it is the same letter, it prints the letter. Otherwise it just prints an dash ('-')."
   ]
  },
  {
   "cell_type": "code",
   "execution_count": null,
   "metadata": {},
   "outputs": [],
   "source": [
    "myWord = 'python'\n",
    "myLetter = 'p'\n",
    "for letter in myWord:\n",
    "    if letter == myLetter: # note that == means the case and whitespace have to match\n",
    "        print(letter)\n",
    "    else:\n",
    "        print('_')"
   ]
  },
  {
   "cell_type": "markdown",
   "metadata": {},
   "source": [
    "# 2c\n",
    "Make another ammendment to your code that checks if each letter is in a *list* of letters that you define, instead of just a single letter (Hint: `==` checks if two things are exactly equal, while `in` checks if one variable is part of another.)"
   ]
  },
  {
   "cell_type": "code",
   "execution_count": null,
   "metadata": {},
   "outputs": [],
   "source": [
    "myWord = 'python'\n",
    "myLetterList = ['p','q','y']\n",
    "for letter in myWord:\n",
    "    if letter in myLetterList: # here case and whitespace still need to match to work\n",
    "        print(letter)\n",
    "    else:\n",
    "        print('_')"
   ]
  },
  {
   "cell_type": "markdown",
   "metadata": {},
   "source": [
    "# 2d\n",
    "Make one more change to your code. Instead of printing each letter or underscore inside of the loop, add it to a string. Strings are really lists, so something like this will work in Python:\n",
    "\n",
    "`myString='p'`\n",
    "\n",
    "`myString=myString+'y'`\n",
    "\n",
    "Now myString will be \"py\". At the end of your loop, print the final string."
   ]
  },
  {
   "cell_type": "code",
   "execution_count": null,
   "metadata": {},
   "outputs": [],
   "source": [
    "myWord = 'python'\n",
    "myLetterList = ['p','q','y']\n",
    "myString = ''\n",
    "for letter in myWord:\n",
    "    if letter in myLetterList:\n",
    "        myString = myString + letter # myString += letter will do the same thing, try it!\n",
    "    else:\n",
    "        myString = myString + '_'\n",
    "print(myString)"
   ]
  },
  {
   "cell_type": "markdown",
   "metadata": {},
   "source": [
    "# 2e\n",
    "Take your code from problem 2 and place it inside of a function called `generate_word_string`. The function should take two arguments: The word that you're looping through, and a list of letters that you're checking. Make sure that the names of the arguments that you use match the variables that you set at the top of your cell in part 2c if you're going to copy/paste your code. This function should return the string (`myString`) that you printed at the end of part 2d."
   ]
  },
  {
   "cell_type": "code",
   "execution_count": null,
   "metadata": {},
   "outputs": [],
   "source": [
    "def generate_word_string(myWord,myLetterList): # note that if you have another variable set called\n",
    "    myString = ''                              # myWord or myLetterList, inside the function they\n",
    "    for letter in myWord:                      # will match the value of the function arguments,\n",
    "        if letter.upper() in myLetterList:     # and outside the function they will match the value\n",
    "            myString = myString + letter.upper() # of your variables\n",
    "        else:\n",
    "            myString = myString + '_'\n",
    "    return myString\n",
    "finalString = generate_word_string('python',['P','Q','Y'])\n",
    "print(finalString)"
   ]
  },
  {
   "cell_type": "markdown",
   "metadata": {},
   "source": [
    "# 3a\n",
    "Use a \"while\" loop to continuously ask for letters to guess by calling your function in problem 1 on every iteration. Every while loop needs a condition to be met, or else it will just continue forever (an infinite loop). Create a variable at the top of the cell that is equal to a letter. If the user's guess is equal to that letter, stop the loop and tell them they guessed correctly. \n"
   ]
  },
  {
   "cell_type": "code",
   "execution_count": null,
   "metadata": {},
   "outputs": [],
   "source": [
    "myLetter = 'A'\n",
    "guessed_letter = ask_user_for_next_letter()\n",
    "while guessed_letter != myLetter: # You could also do something like while True:, which will never\n",
    "    guessed_letter = ask_user_for_next_letter() # be false, and then use a \"break\" statement if \n",
    "                                                # the condition is met in an if statement\n",
    "print('You got it!')"
   ]
  },
  {
   "cell_type": "markdown",
   "metadata": {},
   "source": [
    "# 3b\n",
    "Combine your work in problems 1 and 2. Set a variable equal to a word at the top of the cell, then on every loop iteration ask for a new letter from the user. Pass the word you set at the top of the cell and the letter guessed by the user to your function from problem 2, and have it print the result. If the letter is in the word, have the while loop exit. If not, have it ask for another letter. "
   ]
  },
  {
   "cell_type": "code",
   "execution_count": null,
   "metadata": {},
   "outputs": [],
   "source": [
    "\n",
    "myWord = 'python'\n",
    "guessed_letter = ask_user_for_next_letter()\n",
    "finalString = generate_word_string(myWord,[guessed_letter]) # The way this was done, you need\n",
    "print(finalString)                                          # to create the variable before the\n",
    "while guessed_letter not in myWord.upper():                 # loop, but there are ways to do it\n",
    "    guessed_letter = ask_user_for_next_letter()             # where this isn't necessary.\n",
    "    finalString = generate_word_string(myWord,[guessed_letter])\n",
    "    print(finalString)\n",
    "    \n",
    "print('You got it!')"
   ]
  },
  {
   "cell_type": "markdown",
   "metadata": {},
   "source": [
    "# 3c \n",
    "Instead of exiting the loop when a single letter is guessed correctly, have it exit only when all letters have been guessed. You can do this in a couple of ways: Check if the output of your function from problem 2 is identical to the word you've set at the top of the cell for problem 3, keep track of each guess and check if all of the (*unique*) letters in the word you've chosen have been guessed, etc. "
   ]
  },
  {
   "cell_type": "code",
   "execution_count": null,
   "metadata": {},
   "outputs": [],
   "source": [
    "\n",
    "myWord = 'python'\n",
    "all_guessed_letters = [] # Now you need to keep track of guessed letters by appending to a list\n",
    "guessed_letter = ask_user_for_next_letter()\n",
    "all_guessed_letters.append(guessed_letter)\n",
    "finalString = generate_word_string(myWord,all_guessed_letters)\n",
    "print(finalString)\n",
    "while finalString != myWord.upper():\n",
    "    guessed_letter = ask_user_for_next_letter()\n",
    "    all_guessed_letters.append(guessed_letter)\n",
    "    finalString = generate_word_string(myWord,all_guessed_letters)\n",
    "    print(finalString)\n",
    "    \n",
    "print('You got it!')"
   ]
  },
  {
   "cell_type": "markdown",
   "metadata": {},
   "source": [
    "# That's it!\n",
    "Congratulations, you made a simple hangman game. Some optional things you could add:\n",
    "\n",
    "1. Handle the case of a user sending you upper or lower case letters\n",
    "\n",
    "2. Have the program print that a letter has already been guessed, instead of simply accepting the guess\n",
    "\n",
    "3. Implement an allowed total number of guesses, and have the program exit if either the word is guessed OR the number of guesses reaches your limit\n",
    "\n",
    "4. Anything else you want!"
   ]
  }
 ],
 "metadata": {
  "kernelspec": {
   "display_name": "Python 3",
   "language": "python",
   "name": "python3"
  },
  "language_info": {
   "codemirror_mode": {
    "name": "ipython",
    "version": 3
   },
   "file_extension": ".py",
   "mimetype": "text/x-python",
   "name": "python",
   "nbconvert_exporter": "python",
   "pygments_lexer": "ipython3",
   "version": "3.6.8"
  }
 },
 "nbformat": 4,
 "nbformat_minor": 2
}
