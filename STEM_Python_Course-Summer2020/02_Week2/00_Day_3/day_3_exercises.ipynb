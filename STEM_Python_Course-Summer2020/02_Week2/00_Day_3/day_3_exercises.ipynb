{
 "cells": [
  {
   "cell_type": "markdown",
   "metadata": {},
   "source": [
    "## Day 3:  Optimizations/Cython/Running C/C++/Fortran code in Python"
   ]
  },
  {
   "cell_type": "code",
   "execution_count": null,
   "metadata": {},
   "outputs": [],
   "source": [
    "%matplotlib inline\n",
    "%load_ext Cython\n",
    "\n",
    "# Inpiration gotten from:\n",
    "# http://people.duke.edu/~ccc14/sta-663-2016/18D_Cython.html\n",
    "\n",
    "import multiprocessing as mp\n",
    "import matplotlib.pylab as plt\n",
    "import random\n",
    "import numpy as np\n",
    "import time"
   ]
  },
  {
   "cell_type": "markdown",
   "metadata": {},
   "source": [
    "## Try it yourself\n",
    "Modify the code examples below to speed them up using the methods shown above. First test the example and note the speed on your computer with a comment. Then work on making the code faster by anotating it to see what can use improvement and see if you can speed it up."
   ]
  },
  {
   "cell_type": "markdown",
   "metadata": {},
   "source": [
    "### Ex.1) List of primes\n",
    "This example returns a list of primes between 0 and the max number you put in."
   ]
  },
  {
   "cell_type": "code",
   "execution_count": null,
   "metadata": {},
   "outputs": [],
   "source": [
    "def is_prime(possiblePrime):\n",
    "    isPrime = True\n",
    "    for num in range(2, possiblePrime):\n",
    "        if possiblePrime % num == 0:\n",
    "            isPrime = False\n",
    "    return isPrime\n",
    "\n",
    "\n",
    "def getPrimes(max_num):\n",
    "    primes = []\n",
    "    # Try to modify the for loop to make have it use multiprocessing\n",
    "    for possiblePrime in range(max_num):\n",
    "        if is_prime(possiblePrime):\n",
    "            primes.append(possiblePrime)\n",
    "            \n",
    "    return primes"
   ]
  },
  {
   "cell_type": "code",
   "execution_count": null,
   "metadata": {},
   "outputs": [],
   "source": [
    "max_prime = 10000\n",
    "primes = []\n",
    "%time primes = getPrimes(max_prime)\n",
    "\n",
    "# Between 0 and 10000 there are 1229 primes.\n",
    "len(primes)"
   ]
  },
  {
   "cell_type": "code",
   "execution_count": null,
   "metadata": {},
   "outputs": [],
   "source": [
    "#%load get_primes_mp.py\n",
    "\n",
    "def getPrimes_mp(max_num):\n",
    "    print(\"\\033[1m\\033[91m\\n\\nLoad the py file for the answer\\n\\n\\033[0m\")\n",
    "    return []"
   ]
  },
  {
   "cell_type": "code",
   "execution_count": null,
   "metadata": {},
   "outputs": [],
   "source": [
    "max_prime = 10000\n",
    "primes = []\n",
    "%time primes = getPrimes_mp(max_prime)\n",
    "\n",
    "# Between 0 and 10000 there are 1229 primes.\n",
    "len(primes)"
   ]
  },
  {
   "cell_type": "markdown",
   "metadata": {},
   "source": [
    "### Ex. 1.1) List of primes Cython\n",
    "This example returns a list of primes between 0 and the max number you put in."
   ]
  },
  {
   "cell_type": "code",
   "execution_count": null,
   "metadata": {},
   "outputs": [],
   "source": [
    "#%%cython -a\n",
    "\n",
    "def is_prime(possiblePrime):\n",
    "    isPrime = True\n",
    "    for num in range(2, possiblePrime):\n",
    "        if possiblePrime % num == 0:\n",
    "            isPrime = False\n",
    "    return isPrime\n",
    "\n",
    "\n",
    "def getPrimes(max_num):\n",
    "    primes = []\n",
    "    # Hint: Do we need to loop over every number??\n",
    "    # What do we know about primes that could help us\n",
    "    for possiblePrime in range(max_num):\n",
    "        if is_prime(possiblePrime):\n",
    "            primes.append(possiblePrime)\n",
    "            \n",
    "    return primes"
   ]
  },
  {
   "cell_type": "code",
   "execution_count": null,
   "metadata": {},
   "outputs": [],
   "source": [
    "max_prime = 10000\n",
    "%time primes = getPrimes(max_prime)\n",
    "\n",
    "# Between 0 and 10000 there are 1229 primes.\n",
    "len(primes)"
   ]
  },
  {
   "cell_type": "code",
   "execution_count": null,
   "metadata": {},
   "outputs": [],
   "source": [
    "#%load get_primes.pyx\n",
    "# ^ Uncomment to find the answer\n",
    "# NOTE: %%cython has to be the first line so remove the load line as well\n",
    "\n",
    "def getPrimes_cy(max_num):\n",
    "    print(\"\\033[1m\\033[91m\\n\\nLoad the py file for the answer\\n\\n\\033[0m\")\n",
    "    return []"
   ]
  },
  {
   "cell_type": "code",
   "execution_count": null,
   "metadata": {},
   "outputs": [],
   "source": [
    "max_prime = 10000\n",
    "\n",
    "%time primes = getPrimes_cy(max_prime)\n",
    "\n",
    "# Between 0 and 10000 there are 1229 primes. \n",
    "# Make sure you get the same answer all the time.\n",
    "len(primes)"
   ]
  },
  {
   "cell_type": "markdown",
   "metadata": {},
   "source": [
    "### Ex. 2) Compute $\\pi$ using the formula:\n",
    "\n",
    "\n",
    "### \\begin{equation}\n",
    "\\pi^{2} = 6 \\sum_{n=1}^{\\infty} \\frac{1}{k^{2}}\n",
    "\\end{equation}"
   ]
  },
  {
   "cell_type": "code",
   "execution_count": null,
   "metadata": {},
   "outputs": [],
   "source": [
    "%%cython -a\n",
    "# Hint: \n",
    "# import the c functions instead of using python functions\n",
    "# from libc.math cimport sqrt\n",
    "from math import sqrt\n",
    "\n",
    "# Hint: \n",
    "# Functions that are only called in cython can be defined with cdef\n",
    "# This makes a C function instead of a python function\n",
    "def recip_square(k):\n",
    "    den = (k**2)\n",
    "    return 1/den\n",
    "\n",
    "def approx_pi(n):\n",
    "    \"\"\"Compute an approximate value of pi.\"\"\"\n",
    "    val = 0\n",
    "    for k in range(1, n+1):\n",
    "        temp = recip_square(k)\n",
    "        val += temp\n",
    "    pi = sqrt(6 * val)\n",
    "    return pi"
   ]
  },
  {
   "cell_type": "code",
   "execution_count": null,
   "metadata": {},
   "outputs": [],
   "source": [
    "%time approx_pi(10000000)"
   ]
  },
  {
   "cell_type": "code",
   "execution_count": null,
   "metadata": {},
   "outputs": [],
   "source": [
    "#%load pi.pyx\n",
    "# ^ Uncomment to find the answer\n",
    "# NOTE: %%cython has to be the first line so remove the load line as well\n",
    "\n",
    "def approx_pi_cy(n):\n",
    "    print(\"\\033[1m\\033[91m\\n\\nLoad the py file for the answer\\n\\n\\033[0m\")\n",
    "    return 3.0"
   ]
  },
  {
   "cell_type": "code",
   "execution_count": null,
   "metadata": {},
   "outputs": [],
   "source": [
    "%time approx_pi_cy(10000000)"
   ]
  },
  {
   "cell_type": "markdown",
   "metadata": {},
   "source": [
    "### Ex.3) Mandel fractal drawing"
   ]
  },
  {
   "cell_type": "code",
   "execution_count": null,
   "metadata": {},
   "outputs": [],
   "source": [
    "%%cython -a\n",
    "\n",
    "cimport cython\n",
    "\n",
    "## Hints:\n",
    "# You can import and use C functions in cython\n",
    "#cdef extern from \"complex.h\":\n",
    "#    double cabs(double complex)\n",
    "\n",
    "def mandel(x, y, max_iters):\n",
    "    # Use the c complex type\n",
    "    # cdef double complex c, z\n",
    "    # c = x + y*1j\n",
    "    # z = 0.0j\n",
    "    c = complex(x, y)\n",
    "    z = 0.0j\n",
    "    for i in range(max_iters):\n",
    "        z = z*z + c\n",
    "        if z.real*z.real + z.imag*z.imag >= 4:\n",
    "        # if cabs(z) >= 2:\n",
    "            return i\n",
    "    return max_iters\n",
    "\n",
    "def create_fractal(xmin, xmax, ymin, ymax, image, iters):\n",
    "    height, width = image.shape\n",
    "\n",
    "    pixel_size_x = (xmax - xmin)/width\n",
    "    pixel_size_y = (ymax - ymin)/height\n",
    "\n",
    "    for x in range(width):\n",
    "        real = xmin + x*pixel_size_x\n",
    "        for y in range(height):\n",
    "            imag = ymin + y*pixel_size_y\n",
    "            color = mandel(real, imag, iters)\n",
    "            image[y, x]  = color"
   ]
  },
  {
   "cell_type": "code",
   "execution_count": null,
   "metadata": {},
   "outputs": [],
   "source": [
    "#%load fractal.pyx\n",
    "# ^ Uncomment to find the answer\n",
    "# NOTE: %%cython has to be the first line so remove the load line as well\n",
    "\n",
    "def create_fractal_cython(xmin, xmax, ymin, ymax, gimage, iters):\n",
    "    print(\"\\033[1m\\033[91m\\n\\nLoad the py file for the answer\\n\\n\\033[0m\")"
   ]
  },
  {
   "cell_type": "code",
   "execution_count": null,
   "metadata": {},
   "outputs": [],
   "source": [
    "gimage = np.zeros((1080, 1920), dtype=np.uint32)\n",
    "xmin, xmax, ymin, ymax = [-2.0, 1.0, -1.0, 1.0]\n",
    "iters = 100\n",
    "\n",
    "%time create_fractal_cython(xmin, xmax, ymin, ymax, gimage, iters)\n",
    "\n",
    "plt.figure(figsize=(15,15))\n",
    "plt.grid(False)\n",
    "plt.imshow(gimage, cmap='viridis')\n",
    "plt.show()"
   ]
  },
  {
   "cell_type": "markdown",
   "metadata": {},
   "source": [
    "### Ex.4) Speed up wave propogration using cython\n",
    "\n",
    "See if you can beat the C++/Fortran speed"
   ]
  },
  {
   "cell_type": "code",
   "execution_count": null,
   "metadata": {},
   "outputs": [],
   "source": [
    "%%cython -a\n",
    "\n",
    "def wave_propogation_fast(num_steps, scale, damping, initial_P, stop_step):\n",
    "    from math import pi, sin\n",
    "    omega = 3 / (2 * pi)\n",
    "    \n",
    "    size_x = 2 * scale + 1\n",
    "    size_y = 2 * scale + 1\n",
    "\n",
    "    # V velocity\n",
    "    # P presure\n",
    "    # Initialization\n",
    "    P = [[0.0 for x in range(size_x)] for y in range(size_y)]\n",
    "    V = [[[0.0, 0.0, 0.0, 0.0] for x in range(size_x)] for y in range(size_y)]\n",
    "    P[scale][scale] = initial_P\n",
    "    for step in range(num_steps):\n",
    "        if step <= stop_step:\n",
    "            P[scale][scale] = initial_P * sin(omega * step)\n",
    "        for i in range(size_y):\n",
    "            for j in range(size_x):\n",
    "                V[i][j][0] = V[i][j][0] + P[i][j] - P[i - 1][j] if i > 0 else P[i][j]\n",
    "                V[i][j][1] = (V[i][j][1] + P[i][j] - P[i][j + 1] if j < size_x - 1 else P[i][j])\n",
    "                V[i][j][2] = (V[i][j][2] + P[i][j] - P[i + 1][j] if i < size_y - 1 else P[i][j])\n",
    "                V[i][j][3] = V[i][j][3] + P[i][j] - P[i][j - 1] if j > 0 else P[i][j]\n",
    "\n",
    "        for i in range(size_y):\n",
    "            for j in range(size_x):\n",
    "                P[i][j] -= 0.5 * damping * sum(V[i][j])\n",
    "    return P"
   ]
  },
  {
   "cell_type": "code",
   "execution_count": null,
   "metadata": {},
   "outputs": [],
   "source": [
    "#%load wave_propogation.pyx\n",
    "# ^ Uncomment to find the answer\n",
    "# NOTE: %%cython has to be the first line so remove the load line as well\n",
    "\n",
    "def wave_propogation_fast(num_steps,scale,damping,initial_P,stop_step):\n",
    "    print(\"\\033[1m\\033[91m\\n\\nLoad the py file for the answer\\n\\n\\033[0m\")\n",
    "    return np.ones((scale*2,scale*2))"
   ]
  },
  {
   "cell_type": "code",
   "execution_count": null,
   "metadata": {},
   "outputs": [],
   "source": [
    "num_steps = 100\n",
    "scale = 100\n",
    "damping= 0.25\n",
    "initial_P = 250\n",
    "stop_step = 100\n",
    "\n",
    "plt.figure(figsize=(10,10))\n",
    "start = time.time()\n",
    "pressure = wave_propogation_fast(num_steps,scale,damping,initial_P,stop_step)\n",
    "stop = time.time()\n",
    "print(f\"{stop - start:.2f} Sec, {num_steps / (stop - start):.2f} Hz\")\n",
    "plt.imshow(pressure,cmap='viridis_r',interpolation='bilinear')"
   ]
  },
  {
   "cell_type": "code",
   "execution_count": null,
   "metadata": {},
   "outputs": [],
   "source": []
  },
  {
   "cell_type": "code",
   "execution_count": null,
   "metadata": {},
   "outputs": [],
   "source": []
  }
 ],
 "metadata": {
  "kernelspec": {
   "display_name": "Python 3",
   "language": "python",
   "name": "python3"
  },
  "language_info": {
   "codemirror_mode": {
    "name": "ipython",
    "version": 3
   },
   "file_extension": ".py",
   "mimetype": "text/x-python",
   "name": "python",
   "nbconvert_exporter": "python",
   "pygments_lexer": "ipython3",
   "version": "3.7.3"
  }
 },
 "nbformat": 4,
 "nbformat_minor": 2
}
