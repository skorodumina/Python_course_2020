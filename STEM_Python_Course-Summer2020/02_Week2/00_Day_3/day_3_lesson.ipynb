{
 "cells": [
  {
   "cell_type": "markdown",
   "metadata": {},
   "source": [
    "## Day 3:  Optimizations/Cython/Running C/C++/Fortran code in Python"
   ]
  },
  {
   "cell_type": "code",
   "execution_count": 1,
   "metadata": {},
   "outputs": [],
   "source": [
    "%matplotlib inline\n",
    "%load_ext Cython\n",
    "\n",
    "# Inpiration gotten from:\n",
    "# http://people.duke.edu/~ccc14/sta-663-2016/18D_Cython.html\n",
    "\n",
    "import matplotlib.pylab as plt\n",
    "import random\n",
    "import numpy as np\n",
    "import time\n",
    "import pandas as pd\n",
    "import multiprocessing as mp\n",
    "from urllib.request import urlopen\n",
    "from collections import Counter\n",
    "from slow_lib import fast_random"
   ]
  },
  {
   "cell_type": "markdown",
   "metadata": {},
   "source": [
    "## What about more compilcated Python classes or a Python Library?\n",
    "\n",
    "These can sometimes be harder to speed-up with cython, but if the tasks are independent we can use multiprocessing.\n",
    "\n",
    "\n",
    "Lets take a libary function that takes a name from a list and returns a hex hash."
   ]
  },
  {
   "cell_type": "code",
   "execution_count": 2,
   "metadata": {},
   "outputs": [],
   "source": [
    "from slow_lib import slow_random\n",
    "# Some arbitrarily slow function that takes a name and returns a hash\n",
    "words = [\"car\", \"question\", \"decision\", \"onerous\", \"surprise\", \"nice\", \"hobbies\", \"jobless\", \"bat\", \"boat\"]\n",
    "\n",
    "#words = [ \"poetry\",\"abolish\",\"sound\",\"funny\",\"strategic\",\"deposit\",\"enlarge\",\"psychology\",\"snub\",\"pepper\",\"episode\",\n",
    "#         \"fee\",\"frog\",\"engagement\",\"cheque\",\"determine\",\"era\",\"stroke\",\"premium\",\"pioneer\",\"beard\",\"credit\",\"graphic\",\n",
    "#         \"tell\",\"scream\",\"continental\",\"absorption\",\"enjoy\",\"block\",\"healthy\",\"eavesdrop\",\"accept\",\"access\",\n",
    "#        \"outline\",\"temperature\",\"creep\",\"letter\",\"inquiry\",\"interface\",\"accurate\",\"robot\",\"award\",\"difficulty\",\n",
    "#         \"youth\",\"fuss\",\"escape\",\"fiction\",\"wild\",\"bracket\",\"hero\",\"module\",\"walk\",\"promotion\",\"critic\",\"linen\",\n",
    "#         \"painter\",\"survivor\",\"glory\",\"reveal\",\"linger\",\"medal\",\"drag\",\"pot\",\"security\",\"mechanical\",\"work out\",\n",
    "#         \"spread\",\"revolutionary\",\"use\",\"disaster\",\"layout\",\"constitutional\",\"sink\",\"agreement\",\"upset\",\"presence\",\n",
    "#         \"monster\",\"contemporary\",\"quality\",\"tiger\",\"tolerate\",\"chalk\",\"watch\",\"state\",\"dare\",\"helmet\",\"volume\",\n",
    "#         \"information\",\"colon\",\"closed\",\"strip\",\"profession\",\"riot\",\"lease\",\"spit\",\"get\",\"double\",\"brother\",\n",
    "#         \"liberal\",\"formula\"]"
   ]
  },
  {
   "cell_type": "code",
   "execution_count": 3,
   "metadata": {},
   "outputs": [
    {
     "name": "stdout",
     "output_type": "stream",
     "text": [
      "CPU times: user 1.51 ms, sys: 1.52 ms, total: 3.03 ms\n",
      "Wall time: 9.06 s\n"
     ]
    }
   ],
   "source": [
    "%%time \n",
    "random = []\n",
    "# Looping over each word and appending it's hash to random\n",
    "for word in words:\n",
    "    random.append(slow_random(word))"
   ]
  },
  {
   "cell_type": "code",
   "execution_count": 4,
   "metadata": {},
   "outputs": [
    {
     "name": "stdout",
     "output_type": "stream",
     "text": [
      "CPU times: user 61 ms, sys: 22.9 ms, total: 83.9 ms\n",
      "Wall time: 3.62 s\n"
     ]
    }
   ],
   "source": [
    "%%time \n",
    "# Using the mp.Pool function\n",
    "with mp.Pool() as pool:\n",
    "    # This maps each value in list words to the function slow_random\n",
    "    random = pool.map(slow_random, words)\n",
    "    # This will return a list of objects, in this case strings\n",
    "    # With more complicated objects you may have to make a reduce function"
   ]
  },
  {
   "cell_type": "code",
   "execution_count": 5,
   "metadata": {},
   "outputs": [
    {
     "name": "stdout",
     "output_type": "stream",
     "text": [
      "CPU times: user 57 µs, sys: 4 µs, total: 61 µs\n",
      "Wall time: 66.8 µs\n"
     ]
    }
   ],
   "source": [
    "%%time \n",
    "random = []\n",
    "# Looping over each word and appending it's hash to random\n",
    "for word in words:\n",
    "    random.append(fast_random(word))"
   ]
  },
  {
   "cell_type": "code",
   "execution_count": 6,
   "metadata": {},
   "outputs": [
    {
     "name": "stdout",
     "output_type": "stream",
     "text": [
      "CPU times: user 8.52 ms, sys: 16.4 ms, total: 24.9 ms\n",
      "Wall time: 136 ms\n"
     ]
    }
   ],
   "source": [
    "%%time \n",
    "with mp.Pool() as pool:\n",
    "    # This maps each value in list words to the function slow_random\n",
    "    random = pool.map(fast_random, words)\n",
    "    # This will return a list of objects, in this case strings\n",
    "    # With more complicated objects you may have to make a reduce function"
   ]
  },
  {
   "cell_type": "markdown",
   "metadata": {},
   "source": [
    "### WordCount Example"
   ]
  },
  {
   "cell_type": "code",
   "execution_count": 7,
   "metadata": {},
   "outputs": [],
   "source": [
    "def WordCount(book_url, count_punc=False):\n",
    "    import string\n",
    "    response = urlopen(book_url)\n",
    "    text = response.read()\n",
    "    # Remove werid characters for encoding\n",
    "    text = text.replace(b\"\\r\\n\",b\" \")\n",
    "    text = text.replace(b\"\\xe2\\x80\\x9c\",b\"\")\n",
    "    text = text.replace(b\"\\xe2\\x80\\x9d\",b\"\")\n",
    "    \n",
    "    for p in string.punctuation:\n",
    "        text = text.replace(p.encode(), (\" \"+p+\" \" if count_punc  else \"\").encode())\n",
    "    \n",
    "    # Remove header and footer\n",
    "    header = text.find(b\"CONTENTS\")+8\n",
    "    footer = text.find(b\"End of the Project Gutenberg EBook\")\n",
    "    # And split into a list\n",
    "    text = text[header:footer].split()\n",
    "    \n",
    "    dictionary = {}\n",
    "    # counting number of times each word comes up in list of words\n",
    "    for word in text: \n",
    "        dictionary[word] = dictionary.get(word, 0) + 1\n",
    "    \n",
    "    return dictionary\n",
    "\n",
    "def reduceWords(dictionaries):\n",
    "    ret = Counter({})\n",
    "    for d in dictionaries:\n",
    "        ret += Counter(d)\n",
    "    \n",
    "    df = pd.DataFrame.from_dict(ret, orient='index', columns=['count'])\n",
    "    df['word'] = df.index\n",
    "    df['word'] = df['word'].str.decode(\"utf-8\")\n",
    "    return df"
   ]
  },
  {
   "cell_type": "code",
   "execution_count": 8,
   "metadata": {},
   "outputs": [],
   "source": [
    "## More complicated example with a map reduce of word count\n",
    "# Add more books and see how the speed changes\n",
    "books = [\n",
    "    \"https://www.gutenberg.org/files/98/98-0.txt\",\n",
    "    \"https://www.gutenberg.org/files/1661/1661-0.txt\",\n",
    "    \"https://www.gutenberg.org/files/43/43-0.txt\",\n",
    "    \"https://www.gutenberg.org/ebooks/345.txt.utf-8\",\n",
    "    \"https://www.gutenberg.org/ebooks/2542.txt.utf-8\",\n",
    "    \"https://www.gutenberg.org/files/2701/2701-0.txt\",\n",
    "    \"https://ocw.mit.edu/ans7870/6/6.006/s08/lecturenotes/files/t8.shakespeare.txt\",\n",
    "    \"https://www.gutenberg.org/files/4300/4300-0.txt\",\n",
    "    \"http://www.gutenberg.org/ebooks/996.txt.utf-8\",\n",
    "]"
   ]
  },
  {
   "cell_type": "code",
   "execution_count": 9,
   "metadata": {},
   "outputs": [
    {
     "name": "stdout",
     "output_type": "stream",
     "text": [
      "CPU times: user 1.3 s, sys: 194 ms, total: 1.49 s\n",
      "Wall time: 7.08 s\n"
     ]
    }
   ],
   "source": [
    "%%time\n",
    "popular_words = []\n",
    "for book in books:\n",
    "    popular_words.append(WordCount(book))\n",
    "    \n",
    "words_df = reduceWords(popular_words)"
   ]
  },
  {
   "cell_type": "code",
   "execution_count": 10,
   "metadata": {},
   "outputs": [
    {
     "name": "stdout",
     "output_type": "stream",
     "text": [
      "CPU times: user 224 ms, sys: 68.2 ms, total: 293 ms\n",
      "Wall time: 3.02 s\n"
     ]
    }
   ],
   "source": [
    "%%time\n",
    "with mp.Pool() as pool:\n",
    "    popular_words = pool.map(WordCount, books)   \n",
    "words_df = reduceWords(popular_words)"
   ]
  },
  {
   "cell_type": "code",
   "execution_count": 11,
   "metadata": {},
   "outputs": [],
   "source": [
    "words_df.sort_values(by=['count'], inplace=True, ascending=False)"
   ]
  },
  {
   "cell_type": "code",
   "execution_count": 12,
   "metadata": {},
   "outputs": [
    {
     "data": {
      "image/png": "[encoded data removed]",
      "text/plain": [
       "<Figure size 1152x720 with 1 Axes>"
      ]
     },
     "metadata": {
      "needs_background": "light"
     },
     "output_type": "display_data"
    }
   ],
   "source": [
    "words_df.head(25).plot.bar(x='word', y='count', rot=0,figsize=(16,10))\n",
    "plt.show()"
   ]
  },
  {
   "cell_type": "code",
   "execution_count": 13,
   "metadata": {},
   "outputs": [
    {
     "data": {
      "text/html": [
       "<div>\n",
       "<style scoped>\n",
       "    .dataframe tbody tr th:only-of-type {\n",
       "        vertical-align: middle;\n",
       "    }\n",
       "\n",
       "    .dataframe tbody tr th {\n",
       "        vertical-align: top;\n",
       "    }\n",
       "\n",
       "    .dataframe thead th {\n",
       "        text-align: right;\n",
       "    }\n",
       "</style>\n",
       "<table border=\"1\" class=\"dataframe\">\n",
       "  <thead>\n",
       "    <tr style=\"text-align: right;\">\n",
       "      <th></th>\n",
       "      <th>count</th>\n",
       "      <th>word</th>\n",
       "    </tr>\n",
       "  </thead>\n",
       "  <tbody>\n",
       "    <tr>\n",
       "      <th>b'fancy'</th>\n",
       "      <td>223</td>\n",
       "      <td>fancy</td>\n",
       "    </tr>\n",
       "    <tr>\n",
       "      <th>b'MESSENGER'</th>\n",
       "      <td>223</td>\n",
       "      <td>MESSENGER</td>\n",
       "    </tr>\n",
       "    <tr>\n",
       "      <th>b'USE'</th>\n",
       "      <td>223</td>\n",
       "      <td>USE</td>\n",
       "    </tr>\n",
       "    <tr>\n",
       "      <th>b'Christian'</th>\n",
       "      <td>222</td>\n",
       "      <td>Christian</td>\n",
       "    </tr>\n",
       "    <tr>\n",
       "      <th>b'horses'</th>\n",
       "      <td>222</td>\n",
       "      <td>horses</td>\n",
       "    </tr>\n",
       "    <tr>\n",
       "      <th>b'Antony'</th>\n",
       "      <td>222</td>\n",
       "      <td>Antony</td>\n",
       "    </tr>\n",
       "    <tr>\n",
       "      <th>b'DISTRIBUTION'</th>\n",
       "      <td>221</td>\n",
       "      <td>DISTRIBUTION</td>\n",
       "    </tr>\n",
       "    <tr>\n",
       "      <th>b'SERVICE'</th>\n",
       "      <td>221</td>\n",
       "      <td>SERVICE</td>\n",
       "    </tr>\n",
       "    <tr>\n",
       "      <th>b'COMMERCIALLY'</th>\n",
       "      <td>221</td>\n",
       "      <td>COMMERCIALLY</td>\n",
       "    </tr>\n",
       "    <tr>\n",
       "      <th>b'INC'</th>\n",
       "      <td>221</td>\n",
       "      <td>INC</td>\n",
       "    </tr>\n",
       "  </tbody>\n",
       "</table>\n",
       "</div>"
      ],
      "text/plain": [
       "                 count          word\n",
       "b'fancy'           223         fancy\n",
       "b'MESSENGER'       223     MESSENGER\n",
       "b'USE'             223           USE\n",
       "b'Christian'       222     Christian\n",
       "b'horses'          222        horses\n",
       "b'Antony'          222        Antony\n",
       "b'DISTRIBUTION'    221  DISTRIBUTION\n",
       "b'SERVICE'         221       SERVICE\n",
       "b'COMMERCIALLY'    221  COMMERCIALLY\n",
       "b'INC'             221           INC"
      ]
     },
     "execution_count": 13,
     "metadata": {},
     "output_type": "execute_result"
    }
   ],
   "source": [
    "words_df.head(1000).tail(10)"
   ]
  },
  {
   "cell_type": "markdown",
   "metadata": {},
   "source": [
    "## Example 1: Matrix Multiplication\n",
    "\n",
    "#### Matrix Multiplication\n",
    "\n",
    "Let's write a function to multiply 2 square (NxN) matrices together. \n",
    "\n",
    "First is out niave wave following the way we would do it by hand.\n",
    "\n",
    "\\begin{equation}\n",
    "A =\\begin{pmatrix}\n",
    " a_{11} & a_{12} & \\cdots & a_{1m} \\\\\n",
    " a_{21} & a_{22} & \\cdots & a_{2m} \\\\\n",
    "\\vdots & \\vdots & \\ddots & \\vdots \\\\\n",
    " a_{n1} & a_{n2} & \\cdots & a_{nm} \\\\\n",
    "\\end{pmatrix}\n",
    "\\end{equation}\n",
    "\n",
    "\\begin{equation}\n",
    "B=\\begin{pmatrix}\n",
    " b_{11} & b_{12} & \\cdots & b_{1p} \\\\\n",
    " b_{21} & b_{22} & \\cdots & b_{2p} \\\\\n",
    "\\vdots & \\vdots & \\ddots & \\vdots \\\\\n",
    " b_{m1} & b_{m2} & \\cdots & b_{mp} \\\\\n",
    "\\end{pmatrix}\n",
    "\\end{equation}\n",
    "\n",
    "\\begin{equation}\n",
    "C = AB\n",
    "\\end{equation}\n",
    "\n",
    "\\begin{equation}\n",
    "C=\\begin{pmatrix}\n",
    " c_{11} & c_{12} & \\cdots & c_{1p} \\\\\n",
    " c_{21} & c_{22} & \\cdots & c_{2p} \\\\\n",
    "\\vdots & \\vdots & \\ddots & \\vdots \\\\\n",
    " c_{n1} & c_{n2} & \\cdots & c_{np} \\\\\n",
    "\\end{pmatrix}\n",
    "\\end{equation}\n",
    "\n",
    "\\begin{equation}\n",
    "c_{ij} = a_{i1}b_{1j} + ... + a_{im}b_{mj} = \\sum_{k=1}^m a_{ik}b_{kj}\n",
    "\\end{equation}"
   ]
  },
  {
   "cell_type": "code",
   "execution_count": 14,
   "metadata": {},
   "outputs": [],
   "source": [
    "def mat_mul_py(A, B):\n",
    "    # Make a NxN matrix C, Filled with 0.0\n",
    "    C = [[0.0 for i in range(len(A))] for j in range(len(A))]\n",
    "    # Loop over columns of A, and Rows of B\n",
    "    for i in range(len(A)):\n",
    "        # Loop over rows of A, and columns of B\n",
    "        for j in range(len(A)):\n",
    "            # Do final summation of each element\n",
    "            for k in range(len(A)):\n",
    "                C[i][j] += A[i][k] * B[k][j]\n",
    "    return C"
   ]
  },
  {
   "cell_type": "code",
   "execution_count": 15,
   "metadata": {},
   "outputs": [
    {
     "name": "stdout",
     "output_type": "stream",
     "text": [
      "CPU times: user 19 s, sys: 18.5 ms, total: 19 s\n",
      "Wall time: 19 s\n"
     ]
    }
   ],
   "source": [
    "size = 256\n",
    "# Create two random matrix of size NxN (265x265)\n",
    "A = np.random.random((size,size))\n",
    "B = np.random.random((size,size))\n",
    "%time x = mat_mul_py(A,B)"
   ]
  },
  {
   "cell_type": "markdown",
   "metadata": {},
   "source": [
    "### Now lets just add the cython magic line and see what happens"
   ]
  },
  {
   "cell_type": "code",
   "execution_count": 16,
   "metadata": {},
   "outputs": [],
   "source": [
    "%%cython\n",
    "# ^ This is the only thing we added\n",
    "\n",
    "def mat_mul_cy(A, B):\n",
    "    # Make a NxN matrix C, Filled with 0.0\n",
    "    C = [[0.0 for i in range(len(A))] for j in range(len(A))]\n",
    "    # Loop over columns of A, and Rows of B\n",
    "    for i in range(len(A)):\n",
    "        # Loop over rows of A, and columns of B\n",
    "        for j in range(len(A)):\n",
    "            # Do final summation of each element\n",
    "            for k in range(len(A)):\n",
    "                C[i][j] += A[i][k] * B[k][j]\n",
    "    return C"
   ]
  },
  {
   "cell_type": "code",
   "execution_count": 17,
   "metadata": {},
   "outputs": [
    {
     "name": "stdout",
     "output_type": "stream",
     "text": [
      "CPU times: user 12.2 s, sys: 43 ms, total: 12.2 s\n",
      "Wall time: 12.2 s\n"
     ]
    }
   ],
   "source": [
    "A = np.random.random((size,size))\n",
    "B = np.random.random((size,size))\n",
    "%time x = mat_mul_cy(A,B)"
   ]
  },
  {
   "cell_type": "markdown",
   "metadata": {},
   "source": [
    "#### Let's anotate the code to see where we can speed it up. \n",
    "\n",
    "##### More yellow means more generated C code. The less the C code the faster the code will be."
   ]
  },
  {
   "cell_type": "code",
   "execution_count": null,
   "metadata": {},
   "outputs": [],
   "source": [
    "%%cython -a\n",
    "\n",
    "def mat_mul_cy_fast(A, B):\n",
    "    C = [[0.0 for i in range(len(A))] for j in range(len(A))]\n",
    "    for i in range(len(A)):\n",
    "        for j in range(len(A)):\n",
    "            for k in range(len(A)):\n",
    "                C[i][j] += A[i][k] * B[k][j]\n",
    "    return C"
   ]
  },
  {
   "cell_type": "markdown",
   "metadata": {},
   "source": [
    "## 1) Give types to all of the variables"
   ]
  },
  {
   "cell_type": "code",
   "execution_count": null,
   "metadata": {},
   "outputs": [],
   "source": [
    "%%cython -a\n",
    "\n",
    "# Arrays can be defined by the type and then [:] for 1d arrays\n",
    "# 2d [:,:], 3d [:,:,:], etc.\n",
    "def mat_mul_cy_fast(double [:,:] A, double [:,:] B):\n",
    "    # The loop variables and the size of the array are boths ints\n",
    "    cdef int i,j,k = 0\n",
    "    # c arrays have a new way to get lengths, shape\n",
    "    cdef int size = A.shape[0]\n",
    "    C = [[0.0 for i in range(size)] for j in range(size)]\n",
    "    for i in range(size):\n",
    "        for j in range(size):\n",
    "            for k in range(size):\n",
    "                C[i][j] += A[i][k] * B[k][j]\n",
    "    return C"
   ]
  },
  {
   "cell_type": "code",
   "execution_count": null,
   "metadata": {},
   "outputs": [],
   "source": [
    "A = np.random.random((size,size))\n",
    "B = np.random.random((size,size))\n",
    "%time x = mat_mul_cy_fast(A, B)"
   ]
  },
  {
   "cell_type": "markdown",
   "metadata": {},
   "source": [
    "## 2) Turn off some python features"
   ]
  },
  {
   "cell_type": "code",
   "execution_count": null,
   "metadata": {},
   "outputs": [],
   "source": [
    "%%cython -a\n",
    "\n",
    "cimport cython\n",
    "\n",
    "# Turn off the bounds checking and wrapping of python arrays\n",
    "# NOTE: Now it is up to you to check to make sure you're not going past the length of the arrays\n",
    "@cython.boundscheck(False)\n",
    "@cython.wraparound(False)\n",
    "def mat_mul_cy_fast(double [:,:] A, double [:,:] B):\n",
    "    cdef int i,j,k = 0\n",
    "    cdef int size = A.shape[0]\n",
    "    C = [[0.0 for i in range(size)] for j in range(size)]\n",
    "    for i in range(size):\n",
    "        for j in range(size):\n",
    "            for k in range(size):\n",
    "                C[i][j] += A[i, k] * B[k, j]\n",
    "    return C"
   ]
  },
  {
   "cell_type": "code",
   "execution_count": null,
   "metadata": {},
   "outputs": [],
   "source": [
    "A = np.random.random((size,size))\n",
    "B = np.random.random((size,size))\n",
    "%time x = mat_mul_cy_fast(A,B)"
   ]
  },
  {
   "cell_type": "markdown",
   "metadata": {},
   "source": [
    "## 3) Make the output array a c array as well"
   ]
  },
  {
   "cell_type": "code",
   "execution_count": null,
   "metadata": {},
   "outputs": [],
   "source": [
    "%%cython -a\n",
    "\n",
    "cimport cython\n",
    "import numpy as np\n",
    "cimport numpy as np\n",
    "# A special type to make c style arrays\n",
    "from cython.view cimport array\n",
    "\n",
    "@cython.boundscheck(False)\n",
    "@cython.wraparound(False)\n",
    "def mat_mul_cy_fast(double [:,:] A, double [:,:] B):\n",
    "    cdef int i,j,k = 0\n",
    "    cdef int size = A.shape[0]\n",
    "    # Define the output array as a c style array\n",
    "    cdef double [:,:] C = array(shape=(size,size), itemsize=sizeof(double), format=\"d\")\n",
    "    C[:,:] = 0.0\n",
    "    for i in range(size):\n",
    "        for j in range(size):\n",
    "            for k in range(size):\n",
    "                C[i, j] += A[i, k] * B[k, j]\n",
    "    return np.asarray(C)"
   ]
  },
  {
   "cell_type": "code",
   "execution_count": null,
   "metadata": {},
   "outputs": [],
   "source": [
    "A = np.random.random((size,size))\n",
    "B = np.random.random((size,size))\n",
    "%time x = mat_mul_cy_fast(A,B)"
   ]
  },
  {
   "cell_type": "markdown",
   "metadata": {},
   "source": [
    "## Extra Credit: Why is this one faster? What did I change??"
   ]
  },
  {
   "cell_type": "code",
   "execution_count": null,
   "metadata": {},
   "outputs": [],
   "source": [
    "%%cython -a\n",
    "\n",
    "cimport cython\n",
    "import numpy as np\n",
    "cimport numpy as np\n",
    "\n",
    "from cython.view cimport array\n",
    "\n",
    "@cython.boundscheck(False)\n",
    "@cython.wraparound(False)\n",
    "def mat_mul_cy_fast(double [:,:] A, double [:,:] B):\n",
    "    cdef int i,j,k = 0\n",
    "    cdef int size = A.shape[0]\n",
    "    cdef double [:,:] C = array(shape=(size,size), itemsize=sizeof(double), format=\"d\")\n",
    "    C[:,:] = 0.0\n",
    "    for i in range(size):\n",
    "        for k in range(size):\n",
    "            for j in range(size):\n",
    "                C[i, j] += A[i, k] * B[k, j]\n",
    "    return np.asarray(C)\n",
    "\n",
    "# Hint: Look at the loop indexes\n",
    "# Further reading: https://courses.engr.illinois.edu/cs232/sp2009/lectures/X18.pdf\n",
    "# For anyone interested in optimization for how computers work"
   ]
  },
  {
   "cell_type": "code",
   "execution_count": null,
   "metadata": {},
   "outputs": [],
   "source": [
    "A = np.random.random((size,size))\n",
    "B = np.random.random((size,size))\n",
    "%time x = mat_mul_cy_fast(A,B)"
   ]
  },
  {
   "cell_type": "markdown",
   "metadata": {},
   "source": [
    "### For simple operations though it's not always worth doing"
   ]
  },
  {
   "cell_type": "code",
   "execution_count": null,
   "metadata": {},
   "outputs": [],
   "source": [
    "A = np.random.random((size,size))\n",
    "B = np.random.random((size,size))\n",
    "%time x1 = mat_mul_cy_fast(A, B)\n",
    "%time x2 = np.matmul(A, B)"
   ]
  },
  {
   "cell_type": "markdown",
   "metadata": {},
   "source": [
    "# Example 2: Wave Propogation\n",
    "\n",
    "Let's try something more complex that doesn't have a function written for it already.\n",
    "\n",
    "In this example we'll look at a 2d grid describing a pressure. In the center of the grid there is a forcing function taking the pressure values to $\\,\\pm$initial_P. This pressure propogated away from the center as the wave spreads out in all 4 directions (up,down,left,right). For each step we will calcuate the velocity of the wave in each direction and then the new pressure at each point. \n",
    "\n",
    "```python\n",
    "for each step:\n",
    "    # Calculate the pressure at the center for this stwp\n",
    "    presure_at_center = initial_P * sin(omega * step)\n",
    "    # Loop over rows\n",
    "    for x in size_x:\n",
    "        # Loop over columns\n",
    "        for y in size_y\n",
    "            # The velocity at each point is the difference between \n",
    "            # the pressure at the point and it's neighbor in a direction\n",
    "            velocity_up[x][y]    += pressure[x][y] - pressure[x - 1][y]\n",
    "            velocity_down[x][y]  += pressure[x][y] - pressure[x][y + 1]\n",
    "            velocity_left[x][y]  += pressure[x][y] - pressure[x + 1][y]\n",
    "            velocity_right[x][y] += pressure[x][y] - pressure[x][y - 1]\n",
    "    # Now we recalculate the pressure for each point \n",
    "    # based on how pressure was lost to the velocities\n",
    "    for x in size_x:\n",
    "        for y in size_y\n",
    "            pressure[x][y] -= sum(velocities)\n",
    "```\n",
    "\n",
    "\n",
    "It's ok if you don't totally understand the algorithm. We can take the same approach as we have before to try to speed up our code."
   ]
  },
  {
   "cell_type": "code",
   "execution_count": null,
   "metadata": {},
   "outputs": [],
   "source": [
    "num_steps = 100\n",
    "scale = 50\n",
    "damping= 0.25\n",
    "initial_P = 250\n",
    "stop_step = 100"
   ]
  },
  {
   "cell_type": "code",
   "execution_count": null,
   "metadata": {},
   "outputs": [],
   "source": [
    "def wave_propogation(num_steps, scale, damping, initial_P, stop_step):\n",
    "    from math import pi, sin\n",
    "    omega = 3 / (2 * pi)\n",
    "    \n",
    "    size_x = 2 * scale + 1\n",
    "    size_y = 2 * scale + 1\n",
    "\n",
    "    # V velocity\n",
    "    # P presure\n",
    "    # Initialization\n",
    "    P = [[0.0 for x in range(size_x)] for y in range(size_y)]\n",
    "    V = [[[0.0, 0.0, 0.0, 0.0] for x in range(size_x)] for y in range(size_y)]\n",
    "    P[scale][scale] = initial_P\n",
    "    for step in range(num_steps):\n",
    "        if step <= stop_step:\n",
    "            P[scale][scale] = initial_P * sin(omega * step)\n",
    "        for i in range(size_y):\n",
    "            for j in range(size_x):\n",
    "                V[i][j][0] = V[i][j][0] + P[i][j] - P[i - 1][j] if i > 0 else P[i][j]\n",
    "                V[i][j][1] = (V[i][j][1] + P[i][j] - P[i][j + 1] if j < size_x - 1 else P[i][j])\n",
    "                V[i][j][2] = (V[i][j][2] + P[i][j] - P[i + 1][j] if i < size_y - 1 else P[i][j])\n",
    "                V[i][j][3] = V[i][j][3] + P[i][j] - P[i][j - 1] if j > 0 else P[i][j]\n",
    "\n",
    "        for i in range(size_y):\n",
    "            for j in range(size_x):\n",
    "                P[i][j] -= 0.5 * damping * sum(V[i][j])\n",
    "    return P"
   ]
  },
  {
   "cell_type": "code",
   "execution_count": null,
   "metadata": {},
   "outputs": [],
   "source": [
    "plt.figure(figsize=(10,10))\n",
    "start = time.time()\n",
    "pressure = wave_propogation(num_steps,scale,damping,initial_P,stop_step)\n",
    "stop = time.time()\n",
    "print(f\"{stop - start:.2f} Sec, {num_steps / (stop - start):.2f} Hz\")\n",
    "plt.imshow(pressure,cmap='viridis_r',interpolation='bilinear')"
   ]
  },
  {
   "cell_type": "markdown",
   "metadata": {},
   "source": [
    "### What if my code is already in c/c++?\n",
    "\n",
    "#### Cython can take also take functions written in c/c++ and wrap them for use in python. Here is the same algorithm but now written in c++. \n",
    "\n",
    "Let's assume someone gave you this code or you found it online and you want to use it in your python program.\n",
    "\n",
    "\n",
    "More details and the build systems for these examples are in the cython_tutorials folder."
   ]
  },
  {
   "cell_type": "markdown",
   "metadata": {},
   "source": [
    "### wp.cpp\n",
    "\n",
    "<pre class=\"hljs\" style=\"display: block; overflow-x: auto; background: rgb(32, 39, 70); color: rgb(151, 157, 180); padding: 0.5em;\"><span class=\"hljs-meta\" style=\"color: rgb(199, 107, 41);\">#<span class=\"hljs-meta-keyword\">include</span> <span class=\"hljs-string\" style=\"color: rgb(172, 151, 57);\">\"wp.hpp\"</span></span>\n",
    "\n",
    "<span class=\"hljs-function\"><span class=\"hljs-keyword\" style=\"color: rgb(102, 121, 204);\">void</span> <span class=\"hljs-title\" style=\"color: rgb(61, 143, 209);\">wave_propogation_single_core</span><span class=\"hljs-params\" style=\"color: rgb(199, 107, 41);\">(<span class=\"hljs-keyword\" style=\"color: rgb(102, 121, 204);\">int</span> num_steps, <span class=\"hljs-keyword\" style=\"color: rgb(102, 121, 204);\">int</span> scale, <span class=\"hljs-keyword\" style=\"color: rgb(102, 121, 204);\">float</span> damping,\n",
    "                                  <span class=\"hljs-keyword\" style=\"color: rgb(102, 121, 204);\">float</span> initial_P, <span class=\"hljs-keyword\" style=\"color: rgb(102, 121, 204);\">int</span> stop_step, <span class=\"hljs-keyword\" style=\"color: rgb(102, 121, 204);\">float</span> *_P)</span> </span>{\n",
    "\n",
    "  <span class=\"hljs-keyword\" style=\"color: rgb(102, 121, 204);\">float</span> omega = <span class=\"hljs-number\" style=\"color: rgb(199, 107, 41);\">3.0</span> / (<span class=\"hljs-number\" style=\"color: rgb(199, 107, 41);\">2.0</span> * M_PI);\n",
    "  <span class=\"hljs-keyword\" style=\"color: rgb(102, 121, 204);\">int</span> size_x = <span class=\"hljs-number\" style=\"color: rgb(199, 107, 41);\">2</span> * scale + <span class=\"hljs-number\" style=\"color: rgb(199, 107, 41);\">1</span>;\n",
    "  <span class=\"hljs-keyword\" style=\"color: rgb(102, 121, 204);\">int</span> size_y = <span class=\"hljs-number\" style=\"color: rgb(199, 107, 41);\">2</span> * scale + <span class=\"hljs-number\" style=\"color: rgb(199, 107, 41);\">1</span>;\n",
    "\n",
    "  <span class=\"hljs-keyword\" style=\"color: rgb(102, 121, 204);\">int</span> i = <span class=\"hljs-number\" style=\"color: rgb(199, 107, 41);\">0</span>;\n",
    "  <span class=\"hljs-keyword\" style=\"color: rgb(102, 121, 204);\">int</span> j = <span class=\"hljs-number\" style=\"color: rgb(199, 107, 41);\">0</span>;\n",
    "  <span class=\"hljs-keyword\" style=\"color: rgb(102, 121, 204);\">int</span> k = <span class=\"hljs-number\" style=\"color: rgb(199, 107, 41);\">0</span>;\n",
    "  <span class=\"hljs-keyword\" style=\"color: rgb(102, 121, 204);\">int</span> step = <span class=\"hljs-number\" style=\"color: rgb(199, 107, 41);\">0</span>;\n",
    "  <span class=\"hljs-keyword\" style=\"color: rgb(102, 121, 204);\">float</span> P[size_x][size_y];\n",
    "\n",
    "  <span class=\"hljs-keyword\" style=\"color: rgb(102, 121, 204);\">float</span> V[size_x][size_y][<span class=\"hljs-number\" style=\"color: rgb(199, 107, 41);\">4</span>];\n",
    "\n",
    "  <span class=\"hljs-keyword\" style=\"color: rgb(102, 121, 204);\">for</span> (i = <span class=\"hljs-number\" style=\"color: rgb(199, 107, 41);\">0</span>; i &lt; size_x; i++) {\n",
    "    <span class=\"hljs-keyword\" style=\"color: rgb(102, 121, 204);\">for</span> (j = <span class=\"hljs-number\" style=\"color: rgb(199, 107, 41);\">0</span>; j &lt; size_y; j++) {\n",
    "      P[i][j] = <span class=\"hljs-number\" style=\"color: rgb(199, 107, 41);\">0.0</span>;\n",
    "      <span class=\"hljs-keyword\" style=\"color: rgb(102, 121, 204);\">for</span> (k = <span class=\"hljs-number\" style=\"color: rgb(199, 107, 41);\">0</span>; k &lt; <span class=\"hljs-number\" style=\"color: rgb(199, 107, 41);\">4</span>; k++)\n",
    "        V[i][j][k] = <span class=\"hljs-number\" style=\"color: rgb(199, 107, 41);\">0.0</span>;\n",
    "    }\n",
    "  }\n",
    "\n",
    "  P[scale][scale] = initial_P;\n",
    "  <span class=\"hljs-keyword\" style=\"color: rgb(102, 121, 204);\">for</span> (step = <span class=\"hljs-number\" style=\"color: rgb(199, 107, 41);\">0</span>; step &lt; num_steps; step++) {\n",
    "    <span class=\"hljs-keyword\" style=\"color: rgb(102, 121, 204);\">if</span> (step &lt;= stop_step)\n",
    "      P[scale][scale] = initial_P * <span class=\"hljs-built_in\" style=\"color: rgb(199, 107, 41);\">sin</span>(omega * step);\n",
    "    <span class=\"hljs-keyword\" style=\"color: rgb(102, 121, 204);\">for</span> (i = <span class=\"hljs-number\" style=\"color: rgb(199, 107, 41);\">0</span>; i &lt; size_x; i++) {\n",
    "      <span class=\"hljs-keyword\" style=\"color: rgb(102, 121, 204);\">for</span> (j = <span class=\"hljs-number\" style=\"color: rgb(199, 107, 41);\">0</span>; j &lt; size_y; j++) {\n",
    "        V[i][j][<span class=\"hljs-number\" style=\"color: rgb(199, 107, 41);\">0</span>] = (i &gt; <span class=\"hljs-number\" style=\"color: rgb(199, 107, 41);\">0</span> ? V[i][j][<span class=\"hljs-number\" style=\"color: rgb(199, 107, 41);\">0</span>] + P[i][j] - P[i - <span class=\"hljs-number\" style=\"color: rgb(199, 107, 41);\">1</span>][j] : P[i][j]);\n",
    "        V[i][j][<span class=\"hljs-number\" style=\"color: rgb(199, 107, 41);\">1</span>] = (j &lt; size_x - <span class=\"hljs-number\" style=\"color: rgb(199, 107, 41);\">1</span> ? V[i][j][<span class=\"hljs-number\" style=\"color: rgb(199, 107, 41);\">1</span>] + P[i][j] - P[i][j + <span class=\"hljs-number\" style=\"color: rgb(199, 107, 41);\">1</span>] : P[i][j]);\n",
    "        V[i][j][<span class=\"hljs-number\" style=\"color: rgb(199, 107, 41);\">2</span>] = (i &lt; size_y - <span class=\"hljs-number\" style=\"color: rgb(199, 107, 41);\">1</span> ? V[i][j][<span class=\"hljs-number\" style=\"color: rgb(199, 107, 41);\">2</span>] + P[i][j] - P[i + <span class=\"hljs-number\" style=\"color: rgb(199, 107, 41);\">1</span>][j] : P[i][j]);\n",
    "        V[i][j][<span class=\"hljs-number\" style=\"color: rgb(199, 107, 41);\">3</span>] = (j &gt; <span class=\"hljs-number\" style=\"color: rgb(199, 107, 41);\">0</span> ? V[i][j][<span class=\"hljs-number\" style=\"color: rgb(199, 107, 41);\">3</span>] + P[i][j] - P[i][j - <span class=\"hljs-number\" style=\"color: rgb(199, 107, 41);\">1</span>] : P[i][j]);\n",
    "      }\n",
    "    }\n",
    "\n",
    "    <span class=\"hljs-keyword\" style=\"color: rgb(102, 121, 204);\">for</span> (i = <span class=\"hljs-number\" style=\"color: rgb(199, 107, 41);\">0</span>; i &lt; size_x; i++) {\n",
    "      <span class=\"hljs-keyword\" style=\"color: rgb(102, 121, 204);\">for</span> (j = <span class=\"hljs-number\" style=\"color: rgb(199, 107, 41);\">0</span>; j &lt; size_y; j++) {\n",
    "        P[i][j] -= <span class=\"hljs-number\" style=\"color: rgb(199, 107, 41);\">0.5</span> * damping * (V[i][j][<span class=\"hljs-number\" style=\"color: rgb(199, 107, 41);\">0</span>] + V[i][j][<span class=\"hljs-number\" style=\"color: rgb(199, 107, 41);\">1</span>] + V[i][j][<span class=\"hljs-number\" style=\"color: rgb(199, 107, 41);\">2</span>] + V[i][j][<span class=\"hljs-number\" style=\"color: rgb(199, 107, 41);\">3</span>]);\n",
    "      }\n",
    "    }\n",
    "  }\n",
    "\n",
    "  <span class=\"hljs-comment\" style=\"color: rgb(137, 142, 164);\">// Then we copy from out array P into out output pointer _P</span>\n",
    "  <span class=\"hljs-keyword\" style=\"color: rgb(102, 121, 204);\">for</span> (i = <span class=\"hljs-number\" style=\"color: rgb(199, 107, 41);\">0</span>; i &lt; size_x; i++) {\n",
    "    <span class=\"hljs-keyword\" style=\"color: rgb(102, 121, 204);\">for</span> (j = <span class=\"hljs-number\" style=\"color: rgb(199, 107, 41);\">0</span>; j &lt; size_y; j++) {\n",
    "      _P[i * size_x + j] = P[i][j];\n",
    "    }\n",
    "  }\n",
    "\n",
    "}</pre>\n",
    "\n",
    "\n",
    "#### Now we can just write a wrapper in cython.\n",
    "\n",
    "\n",
    "### wave_propogation.pyx\n",
    "\n",
    "\n",
    "<pre class=\"hljs\" style=\"display: block; overflow-x: auto; background: rgb(32, 39, 70); color: rgb(151, 157, 180); padding: 0.5em;\"><span class=\"hljs-keyword\" style=\"color: rgb(102, 121, 204);\">from</span> libc.stdlib cimport malloc, free\n",
    "<span class=\"hljs-keyword\" style=\"color: rgb(102, 121, 204);\">from</span> cpython.mem cimport PyMem_Malloc\n",
    "<span class=\"hljs-keyword\" style=\"color: rgb(102, 121, 204);\">import</span> numpy <span class=\"hljs-keyword\" style=\"color: rgb(102, 121, 204);\">as</span> np\n",
    "<span class=\"hljs-keyword\" style=\"color: rgb(102, 121, 204);\">import</span> time\n",
    "cimport cython\n",
    "<span class=\"hljs-keyword\" style=\"color: rgb(102, 121, 204);\">from</span> cython.view cimport array <span class=\"hljs-keyword\" style=\"color: rgb(102, 121, 204);\">as</span> cvarray\n",
    "\n",
    "cdef extern <span class=\"hljs-keyword\" style=\"color: rgb(102, 121, 204);\">from</span> <span class=\"hljs-string\" style=\"color: rgb(172, 151, 57);\">\"wp.hpp\"</span>:\n",
    "  void wave_propogation_single_core(int, int, float, float, int, float*)\n",
    "\n",
    "<span class=\"hljs-meta\" style=\"color: rgb(199, 107, 41);\">@cython.boundscheck(False)</span>\n",
    "<span class=\"hljs-meta\" style=\"color: rgb(199, 107, 41);\">@cython.cdivision(True)</span>\n",
    "<span class=\"hljs-meta\" style=\"color: rgb(199, 107, 41);\">@cython.wraparound(False)</span>\n",
    "<span class=\"hljs-meta\" style=\"color: rgb(199, 107, 41);\">@cython.infer_types(False)</span>\n",
    "<span class=\"hljs-function\"><span class=\"hljs-keyword\" style=\"color: rgb(102, 121, 204);\">def</span> <span class=\"hljs-title\" style=\"color: rgb(61, 143, 209);\">wave_propogation</span><span class=\"hljs-params\" style=\"color: rgb(199, 107, 41);\">(int num_steps, int scale, float damping, float initial_P, int stop_step)</span>:</span>\n",
    "  cdef int size_x = <span class=\"hljs-number\" style=\"color: rgb(199, 107, 41);\">2</span> * scale + <span class=\"hljs-number\" style=\"color: rgb(199, 107, 41);\">1</span>\n",
    "  cdef int size_y = <span class=\"hljs-number\" style=\"color: rgb(199, 107, 41);\">2</span> * scale + <span class=\"hljs-number\" style=\"color: rgb(199, 107, 41);\">1</span>\n",
    "  cdef int i = <span class=\"hljs-number\" style=\"color: rgb(199, 107, 41);\">0</span>\n",
    "  cdef int j = <span class=\"hljs-number\" style=\"color: rgb(199, 107, 41);\">0</span>\n",
    "  cdef float *array = &lt;float *&gt; malloc(sizeof(float) * size_x * size_y)\n",
    "  wave_propogation_single_core(num_steps, scale, damping, initial_P, stop_step, array)\n",
    "  P = [[<span class=\"hljs-number\" style=\"color: rgb(199, 107, 41);\">0.0</span> <span class=\"hljs-keyword\" style=\"color: rgb(102, 121, 204);\">for</span> x <span class=\"hljs-keyword\" style=\"color: rgb(102, 121, 204);\">in</span> range(size_x)] <span class=\"hljs-keyword\" style=\"color: rgb(102, 121, 204);\">for</span> y <span class=\"hljs-keyword\" style=\"color: rgb(102, 121, 204);\">in</span> range(size_y)]\n",
    "\n",
    "  <span class=\"hljs-keyword\" style=\"color: rgb(102, 121, 204);\">for</span> i <span class=\"hljs-keyword\" style=\"color: rgb(102, 121, 204);\">in</span> range(size_x):\n",
    "    <span class=\"hljs-keyword\" style=\"color: rgb(102, 121, 204);\">for</span> j <span class=\"hljs-keyword\" style=\"color: rgb(102, 121, 204);\">in</span> range(size_y):\n",
    "      P[i][j] = array[i*size_x+j] <span class=\"hljs-keyword\" style=\"color: rgb(102, 121, 204);\">if</span> <span class=\"hljs-keyword\" style=\"color: rgb(102, 121, 204);\">not</span> np.isnan(array[i*size_x+j]) <span class=\"hljs-keyword\" style=\"color: rgb(102, 121, 204);\">else</span> <span class=\"hljs-number\" style=\"color: rgb(199, 107, 41);\">0.0</span>\n",
    "  <span class=\"hljs-keyword\" style=\"color: rgb(102, 121, 204);\">return</span> P</pre>"
   ]
  },
  {
   "cell_type": "code",
   "execution_count": null,
   "metadata": {},
   "outputs": [],
   "source": [
    "# And then build it\n",
    "!cd src/cpp && rm -rf build && mkdir build && cd build && cmake .. && make -j2"
   ]
  },
  {
   "cell_type": "code",
   "execution_count": null,
   "metadata": {},
   "outputs": [],
   "source": [
    "# Then import it just like a regular python module\n",
    "# The extra .'s are because the module is built in the folder cython_tutorial/chapter_3_cpp/build\n",
    "# If you place the wave_propogation.so file in your python path you can import with:\n",
    "# import wave_propogation\n",
    "import src.cpp.build.wave_propogation as wave_propogation\n",
    "\n",
    "plt.figure(figsize=(10,10))\n",
    "start = time.time()\n",
    "pressure = wave_propogation.wave_propogation(num_steps,scale,damping,initial_P,stop_step)\n",
    "stop = time.time()\n",
    "print(f\"{stop - start:.2f} Sec, {num_steps / (stop - start):.2f} Hz\")\n",
    "plt.imshow(pressure,cmap='viridis_r',interpolation='bilinear')"
   ]
  },
  {
   "cell_type": "markdown",
   "metadata": {},
   "source": [
    "## And similarly with fortran...\n",
    "\n",
    "\n",
    "<pre class=\"hljs\" style=\"display: block; overflow-x: auto; background: rgb(32, 39, 70); color: rgb(151, 157, 180); padding: 0.5em;\"><span class=\"hljs-function\"><span class=\"hljs-keyword\" style=\"color: rgb(102, 121, 204);\">SUBROUTINE</span></span> wave_propogation(num_steps, <span class=\"hljs-built_in\" style=\"color: rgb(199, 107, 41);\">scale</span>, damping, initial_P, stop_step, P)\n",
    "  <span class=\"hljs-keyword\" style=\"color: rgb(102, 121, 204);\">IMPLICIT</span> <span class=\"hljs-keyword\" style=\"color: rgb(102, 121, 204);\">NONE</span>\n",
    "  <span class=\"hljs-keyword\" style=\"color: rgb(102, 121, 204);\">INTEGER</span> size_x,size_Y,i,j,k,step\n",
    "  <span class=\"hljs-keyword\" style=\"color: rgb(102, 121, 204);\">REAL</span> PI, omega\n",
    "  <span class=\"hljs-keyword\" style=\"color: rgb(102, 121, 204);\">INTEGER</span>, <span class=\"hljs-keyword\" style=\"color: rgb(102, 121, 204);\">INTENT</span>(<span class=\"hljs-keyword\" style=\"color: rgb(102, 121, 204);\">in</span>)  :: num_steps, <span class=\"hljs-built_in\" style=\"color: rgb(199, 107, 41);\">scale</span>, stop_step <span class=\"hljs-comment\" style=\"color: rgb(137, 142, 164);\">!input</span>\n",
    "  <span class=\"hljs-keyword\" style=\"color: rgb(102, 121, 204);\">REAL</span>, <span class=\"hljs-keyword\" style=\"color: rgb(102, 121, 204);\">INTENT</span>(<span class=\"hljs-keyword\" style=\"color: rgb(102, 121, 204);\">in</span>) :: damping, initial_P <span class=\"hljs-comment\" style=\"color: rgb(137, 142, 164);\">!input</span>\n",
    "  <span class=\"hljs-keyword\" style=\"color: rgb(102, 121, 204);\">REAL</span>, <span class=\"hljs-keyword\" style=\"color: rgb(102, 121, 204);\">INTENT</span>(<span class=\"hljs-keyword\" style=\"color: rgb(102, 121, 204);\">out</span>) :: P(<span class=\"hljs-number\" style=\"color: rgb(199, 107, 41);\">2</span> * <span class=\"hljs-built_in\" style=\"color: rgb(199, 107, 41);\">scale</span> + <span class=\"hljs-number\" style=\"color: rgb(199, 107, 41);\">1</span>,<span class=\"hljs-number\" style=\"color: rgb(199, 107, 41);\">2</span> * <span class=\"hljs-built_in\" style=\"color: rgb(199, 107, 41);\">scale</span> + <span class=\"hljs-number\" style=\"color: rgb(199, 107, 41);\">1</span>) <span class=\"hljs-comment\" style=\"color: rgb(137, 142, 164);\">! output</span>\n",
    "  <span class=\"hljs-keyword\" style=\"color: rgb(102, 121, 204);\">REAL</span>, <span class=\"hljs-keyword\" style=\"color: rgb(102, 121, 204);\">DIMENSION</span>(<span class=\"hljs-number\" style=\"color: rgb(199, 107, 41);\">2</span> * <span class=\"hljs-built_in\" style=\"color: rgb(199, 107, 41);\">scale</span> + <span class=\"hljs-number\" style=\"color: rgb(199, 107, 41);\">1</span>,<span class=\"hljs-number\" style=\"color: rgb(199, 107, 41);\">2</span> * <span class=\"hljs-built_in\" style=\"color: rgb(199, 107, 41);\">scale</span> + <span class=\"hljs-number\" style=\"color: rgb(199, 107, 41);\">1</span>,<span class=\"hljs-number\" style=\"color: rgb(199, 107, 41);\">4</span>) :: V\n",
    "\n",
    "  size_x = <span class=\"hljs-number\" style=\"color: rgb(199, 107, 41);\">2</span> * <span class=\"hljs-built_in\" style=\"color: rgb(199, 107, 41);\">scale</span> + <span class=\"hljs-number\" style=\"color: rgb(199, 107, 41);\">1</span>\n",
    "  size_Y = <span class=\"hljs-number\" style=\"color: rgb(199, 107, 41);\">2</span> * <span class=\"hljs-built_in\" style=\"color: rgb(199, 107, 41);\">scale</span> + <span class=\"hljs-number\" style=\"color: rgb(199, 107, 41);\">1</span>\n",
    "\n",
    "  PI = <span class=\"hljs-number\" style=\"color: rgb(199, 107, 41);\">3.14159</span>\n",
    "  omega = <span class=\"hljs-number\" style=\"color: rgb(199, 107, 41);\">3.0</span> / (<span class=\"hljs-number\" style=\"color: rgb(199, 107, 41);\">2.0</span> * PI)\n",
    "\n",
    "  <span class=\"hljs-keyword\" style=\"color: rgb(102, 121, 204);\">DO</span> k=<span class=\"hljs-number\" style=\"color: rgb(199, 107, 41);\">1</span>,<span class=\"hljs-number\" style=\"color: rgb(199, 107, 41);\">4</span>\n",
    "     <span class=\"hljs-keyword\" style=\"color: rgb(102, 121, 204);\">DO</span> j=<span class=\"hljs-number\" style=\"color: rgb(199, 107, 41);\">1</span>,size_x\n",
    "        <span class=\"hljs-keyword\" style=\"color: rgb(102, 121, 204);\">DO</span> i=<span class=\"hljs-number\" style=\"color: rgb(199, 107, 41);\">1</span>,size_x\n",
    "           P(i,j) = <span class=\"hljs-number\" style=\"color: rgb(199, 107, 41);\">0.0</span>\n",
    "           V(i,j,k) = <span class=\"hljs-number\" style=\"color: rgb(199, 107, 41);\">0.0</span>\n",
    "        <span class=\"hljs-keyword\" style=\"color: rgb(102, 121, 204);\">END</span> <span class=\"hljs-keyword\" style=\"color: rgb(102, 121, 204);\">DO</span>\n",
    "     <span class=\"hljs-keyword\" style=\"color: rgb(102, 121, 204);\">END</span> <span class=\"hljs-keyword\" style=\"color: rgb(102, 121, 204);\">DO</span>\n",
    "  <span class=\"hljs-keyword\" style=\"color: rgb(102, 121, 204);\">END</span> <span class=\"hljs-keyword\" style=\"color: rgb(102, 121, 204);\">DO</span>\n",
    "\n",
    "  P(<span class=\"hljs-built_in\" style=\"color: rgb(199, 107, 41);\">scale</span>,<span class=\"hljs-built_in\" style=\"color: rgb(199, 107, 41);\">scale</span>) = initial_P\n",
    "\n",
    "  <span class=\"hljs-keyword\" style=\"color: rgb(102, 121, 204);\">DO</span> step = <span class=\"hljs-number\" style=\"color: rgb(199, 107, 41);\">1</span>,num_steps\n",
    "     <span class=\"hljs-keyword\" style=\"color: rgb(102, 121, 204);\">IF</span>(step &lt;= stop_step) <span class=\"hljs-keyword\" style=\"color: rgb(102, 121, 204);\">THEN</span>\n",
    "        P(<span class=\"hljs-built_in\" style=\"color: rgb(199, 107, 41);\">scale</span>,<span class=\"hljs-built_in\" style=\"color: rgb(199, 107, 41);\">scale</span>) = initial_P * <span class=\"hljs-built_in\" style=\"color: rgb(199, 107, 41);\">SIN</span>(omega * step)\n",
    "     <span class=\"hljs-keyword\" style=\"color: rgb(102, 121, 204);\">ENDIF</span>\n",
    "\n",
    "     <span class=\"hljs-keyword\" style=\"color: rgb(102, 121, 204);\">DO</span> j=<span class=\"hljs-number\" style=\"color: rgb(199, 107, 41);\">1</span>,size_x\n",
    "        <span class=\"hljs-keyword\" style=\"color: rgb(102, 121, 204);\">DO</span> i=<span class=\"hljs-number\" style=\"color: rgb(199, 107, 41);\">1</span>,size_x\n",
    "           V(i,j,<span class=\"hljs-number\" style=\"color: rgb(199, 107, 41);\">1</span>) = <span class=\"hljs-built_in\" style=\"color: rgb(199, 107, 41);\">MERGE</span>(V(i,j,<span class=\"hljs-number\" style=\"color: rgb(199, 107, 41);\">1</span>) + P(i,j) - P(i - <span class=\"hljs-number\" style=\"color: rgb(199, 107, 41);\">1</span>,j), P(i,j), i &gt; <span class=\"hljs-number\" style=\"color: rgb(199, 107, 41);\">1</span>)\n",
    "           V(i,j,<span class=\"hljs-number\" style=\"color: rgb(199, 107, 41);\">2</span>) = <span class=\"hljs-built_in\" style=\"color: rgb(199, 107, 41);\">MERGE</span>(V(i,j,<span class=\"hljs-number\" style=\"color: rgb(199, 107, 41);\">2</span>) + P(i,j) - P(i,j + <span class=\"hljs-number\" style=\"color: rgb(199, 107, 41);\">1</span>), P(i,j), j &lt; size_x - <span class=\"hljs-number\" style=\"color: rgb(199, 107, 41);\">1</span>)\n",
    "           V(i,j,<span class=\"hljs-number\" style=\"color: rgb(199, 107, 41);\">3</span>) = <span class=\"hljs-built_in\" style=\"color: rgb(199, 107, 41);\">MERGE</span>(V(i,j,<span class=\"hljs-number\" style=\"color: rgb(199, 107, 41);\">3</span>) + P(i,j) - P(i + <span class=\"hljs-number\" style=\"color: rgb(199, 107, 41);\">1</span>,j), P(i,j), i &lt; size_y - <span class=\"hljs-number\" style=\"color: rgb(199, 107, 41);\">1</span>)\n",
    "           V(i,j,<span class=\"hljs-number\" style=\"color: rgb(199, 107, 41);\">4</span>) = <span class=\"hljs-built_in\" style=\"color: rgb(199, 107, 41);\">MERGE</span>(V(i,j,<span class=\"hljs-number\" style=\"color: rgb(199, 107, 41);\">4</span>) + P(i,j) - P(i,j - <span class=\"hljs-number\" style=\"color: rgb(199, 107, 41);\">1</span>), P(i,j), j &gt; <span class=\"hljs-number\" style=\"color: rgb(199, 107, 41);\">1</span>)\n",
    "        <span class=\"hljs-keyword\" style=\"color: rgb(102, 121, 204);\">END</span> <span class=\"hljs-keyword\" style=\"color: rgb(102, 121, 204);\">DO</span>\n",
    "     <span class=\"hljs-keyword\" style=\"color: rgb(102, 121, 204);\">END</span> <span class=\"hljs-keyword\" style=\"color: rgb(102, 121, 204);\">DO</span>\n",
    "\n",
    "     <span class=\"hljs-keyword\" style=\"color: rgb(102, 121, 204);\">DO</span> j=<span class=\"hljs-number\" style=\"color: rgb(199, 107, 41);\">1</span>,size_x\n",
    "        <span class=\"hljs-keyword\" style=\"color: rgb(102, 121, 204);\">DO</span> i=<span class=\"hljs-number\" style=\"color: rgb(199, 107, 41);\">1</span>,size_x\n",
    "           P(i,j) = P(i,j) - <span class=\"hljs-number\" style=\"color: rgb(199, 107, 41);\">0.5</span> * damping * (V(i,j,<span class=\"hljs-number\" style=\"color: rgb(199, 107, 41);\">1</span>) + V(i,j,<span class=\"hljs-number\" style=\"color: rgb(199, 107, 41);\">2</span>) + V(i,j,<span class=\"hljs-number\" style=\"color: rgb(199, 107, 41);\">3</span>) + V(i,j,<span class=\"hljs-number\" style=\"color: rgb(199, 107, 41);\">4</span>))\n",
    "        <span class=\"hljs-keyword\" style=\"color: rgb(102, 121, 204);\">END</span> <span class=\"hljs-keyword\" style=\"color: rgb(102, 121, 204);\">DO</span>\n",
    "     <span class=\"hljs-keyword\" style=\"color: rgb(102, 121, 204);\">END</span> <span class=\"hljs-keyword\" style=\"color: rgb(102, 121, 204);\">DO</span>\n",
    "  <span class=\"hljs-keyword\" style=\"color: rgb(102, 121, 204);\">END</span> <span class=\"hljs-keyword\" style=\"color: rgb(102, 121, 204);\">DO</span>\n",
    "\n",
    "<span class=\"hljs-keyword\" style=\"color: rgb(102, 121, 204);\">END</span> <span class=\"hljs-function\"><span class=\"hljs-keyword\" style=\"color: rgb(102, 121, 204);\">SUBROUTINE</span></span> wave_propogation</pre>\n",
    "\n",
    "\n",
    "\n",
    "\n",
    "\n",
    "<pre class=\"hljs\" style=\"display: block; overflow-x: auto; background: rgb(32, 39, 70); color: rgb(151, 157, 180); padding: 0.5em;\"><span class=\"hljs-keyword\" style=\"color: rgb(102, 121, 204);\">from</span> libc.stdlib cimport malloc, free\n",
    "<span class=\"hljs-keyword\" style=\"color: rgb(102, 121, 204);\">from</span> cpython.mem cimport PyMem_Malloc\n",
    "<span class=\"hljs-keyword\" style=\"color: rgb(102, 121, 204);\">import</span> numpy <span class=\"hljs-keyword\" style=\"color: rgb(102, 121, 204);\">as</span> np\n",
    "<span class=\"hljs-keyword\" style=\"color: rgb(102, 121, 204);\">import</span> time\n",
    "cimport cython\n",
    "<span class=\"hljs-keyword\" style=\"color: rgb(102, 121, 204);\">from</span> cython.view cimport array <span class=\"hljs-keyword\" style=\"color: rgb(102, 121, 204);\">as</span> cvarray\n",
    "\n",
    "cdef extern <span class=\"hljs-keyword\" style=\"color: rgb(102, 121, 204);\">from</span> <span class=\"hljs-string\" style=\"color: rgb(172, 151, 57);\">\"wp.hpp\"</span>:\n",
    "  void wave_propogation_(int*, int*, float*, float*, int*, float*)\n",
    "\n",
    "<span class=\"hljs-meta\" style=\"color: rgb(199, 107, 41);\">@cython.boundscheck(False)</span>\n",
    "<span class=\"hljs-meta\" style=\"color: rgb(199, 107, 41);\">@cython.cdivision(True)</span>\n",
    "<span class=\"hljs-meta\" style=\"color: rgb(199, 107, 41);\">@cython.wraparound(False)</span>\n",
    "<span class=\"hljs-meta\" style=\"color: rgb(199, 107, 41);\">@cython.infer_types(False)</span>\n",
    "<span class=\"hljs-function\"><span class=\"hljs-keyword\" style=\"color: rgb(102, 121, 204);\">def</span> <span class=\"hljs-title\" style=\"color: rgb(61, 143, 209);\">wave_propogation</span><span class=\"hljs-params\" style=\"color: rgb(199, 107, 41);\">(int num_steps, int scale=<span class=\"hljs-number\" style=\"color: rgb(199, 107, 41);\">100</span>,float damping=<span class=\"hljs-number\" style=\"color: rgb(199, 107, 41);\">0.25</span>, float initial_P=<span class=\"hljs-number\" style=\"color: rgb(199, 107, 41);\">250.0</span>, int stop_step=<span class=\"hljs-number\" style=\"color: rgb(199, 107, 41);\">100</span>)</span>:</span>\n",
    "  cdef int size_x = <span class=\"hljs-number\" style=\"color: rgb(199, 107, 41);\">2</span> * scale + <span class=\"hljs-number\" style=\"color: rgb(199, 107, 41);\">1</span>\n",
    "  cdef int size_y = <span class=\"hljs-number\" style=\"color: rgb(199, 107, 41);\">2</span> * scale + <span class=\"hljs-number\" style=\"color: rgb(199, 107, 41);\">1</span>\n",
    "  cdef int *_num_steps=&amp;num_steps\n",
    "  cdef int *_scale=&amp;scale\n",
    "  cdef float *_damping=&amp;damping\n",
    "  cdef float *_initial_P=&amp;initial_P\n",
    "  cdef int *_stop_step=&amp;stop_step\n",
    "\n",
    "  cdef float *array = &lt;float *&gt; malloc(sizeof(float) * size_x * size_y)\n",
    "  wave_propogation_(_num_steps, _scale, _damping, _initial_P, _stop_step, array)\n",
    "  P = [[<span class=\"hljs-number\" style=\"color: rgb(199, 107, 41);\">0.0</span> <span class=\"hljs-keyword\" style=\"color: rgb(102, 121, 204);\">for</span> x <span class=\"hljs-keyword\" style=\"color: rgb(102, 121, 204);\">in</span> range(size_x)] <span class=\"hljs-keyword\" style=\"color: rgb(102, 121, 204);\">for</span> y <span class=\"hljs-keyword\" style=\"color: rgb(102, 121, 204);\">in</span> range(size_y)]\n",
    "  <span class=\"hljs-keyword\" style=\"color: rgb(102, 121, 204);\">for</span> i <span class=\"hljs-keyword\" style=\"color: rgb(102, 121, 204);\">in</span> range(size_x):\n",
    "    <span class=\"hljs-keyword\" style=\"color: rgb(102, 121, 204);\">for</span> j <span class=\"hljs-keyword\" style=\"color: rgb(102, 121, 204);\">in</span> range(size_y):\n",
    "      P[i][j] = array[i*size_x+j] <span class=\"hljs-keyword\" style=\"color: rgb(102, 121, 204);\">if</span> <span class=\"hljs-keyword\" style=\"color: rgb(102, 121, 204);\">not</span> np.isnan(array[i*size_x+j]) <span class=\"hljs-keyword\" style=\"color: rgb(102, 121, 204);\">else</span> <span class=\"hljs-number\" style=\"color: rgb(199, 107, 41);\">0.0</span>\n",
    "  <span class=\"hljs-keyword\" style=\"color: rgb(102, 121, 204);\">return</span> P</pre>"
   ]
  },
  {
   "cell_type": "code",
   "execution_count": null,
   "metadata": {},
   "outputs": [],
   "source": [
    "# And then build it\n",
    "!cd src/fortran && rm -rf build && mkdir build && cd build && cmake .. && make -j2"
   ]
  },
  {
   "cell_type": "code",
   "execution_count": null,
   "metadata": {},
   "outputs": [],
   "source": [
    "# Then import it just like a regular python module\n",
    "import src.fortran.build.wave_propogation as wave_propogation\n",
    "\n",
    "plt.figure(figsize=(10,10))\n",
    "start = time.time()\n",
    "pressure = wave_propogation.wave_propogation(num_steps,scale,damping,initial_P,stop_step)\n",
    "stop = time.time()\n",
    "print(f\"{stop - start:.2f} Sec, {num_steps / (stop - start):.2f} Hz\")\n",
    "plt.imshow(pressure,cmap='viridis_r',interpolation='bilinear')"
   ]
  },
  {
   "cell_type": "markdown",
   "metadata": {},
   "source": [
    "Further reading on getting C/C++/Fortran working can be found at: https://github.com/tylern4/cython_tutorial\n",
    "\n",
    "There are instructions and build files in each folder for how to get each sections working individually."
   ]
  }
 ],
 "metadata": {
  "kernelspec": {
   "display_name": "Python 3",
   "language": "python",
   "name": "python3"
  },
  "language_info": {
   "codemirror_mode": {
    "name": "ipython",
    "version": 3
   },
   "file_extension": ".py",
   "mimetype": "text/x-python",
   "name": "python",
   "nbconvert_exporter": "python",
   "pygments_lexer": "ipython3",
   "version": "3.7.2"
  }
 },
 "nbformat": 4,
 "nbformat_minor": 2
}