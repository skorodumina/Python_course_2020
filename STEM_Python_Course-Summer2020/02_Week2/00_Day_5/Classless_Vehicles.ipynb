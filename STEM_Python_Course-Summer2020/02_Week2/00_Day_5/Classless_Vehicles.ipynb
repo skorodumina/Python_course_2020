{
 "cells": [
  {
   "cell_type": "code",
   "execution_count": 4,
   "metadata": {},
   "outputs": [
    {
     "name": "stdout",
     "output_type": "stream",
     "text": [
      "True\n",
      "False\n",
      "False\n",
      "True\n"
     ]
    }
   ],
   "source": [
    "Boat1 = {\n",
    "    'classname': 'boat',\n",
    "    'name': 'santa maria',\n",
    "    'width': 30,\n",
    "    'length': 70,\n",
    "    'doorcount': 0,\n",
    "    }\n",
    "\n",
    "Boat2 = {\n",
    "    'classname': 'boat',\n",
    "    'name': 'pinta',\n",
    "    'width': 30,\n",
    "    'length': 70,\n",
    "    'doorcount': 0,\n",
    "    }\n",
    "\n",
    "Automobile1 =     {\n",
    "    'classname': 'Automobile',\n",
    "    'name': 'dadcar',\n",
    "    'width': 6,\n",
    "    'length': 12,\n",
    "    'doorcount': 4,\n",
    "    'Automobilebrand': 'toyota',\n",
    "    'Automobilemodel': 'camry',\n",
    "    'year': 2019,\n",
    "    }\n",
    "\n",
    "\n",
    "#Does it quack like a duck? Does it look like a duck?  --> then its ducktyped as a duck\n",
    "def IsBoatCheck( BoatCandidate ):\n",
    "    Result = True\n",
    "    BoatKeys = [ 'classname', 'name', 'width', 'length','doorcount',]\n",
    "    ExtraKeys   =  set(BoatCandidate.keys() ) - set(BoatKeys)\n",
    "    MissingKeys =  set(BoatKeys)              - set(BoatCandidate.keys() ) \n",
    "    if len(ExtraKeys) != 0: \n",
    "        Result = False\n",
    "    if len(MissingKeys) != 0:\n",
    "        Result = False\n",
    "    if BoatCandidate['classname'] != 'boat':\n",
    "        return False\n",
    "    return Result\n",
    "\n",
    "\n",
    "def IsAutomobileCheck( AutomobileCandidate ):\n",
    "    Result = True\n",
    "    AutomobileKeys = [ 'classname', 'name', 'width', 'length','doorcount','Automobilebrand','Automobilemodel', 'year']\n",
    "    ExtraKeys   =  set(AutomobileCandidate.keys() ) - set(AutomobileKeys)\n",
    "    MissingKeys =  set(AutomobileKeys)              - set(AutomobileCandidate.keys() ) \n",
    "    if len(ExtraKeys) != 0: \n",
    "        Result = False\n",
    "    if len(MissingKeys) != 0:\n",
    "        Result = False\n",
    "    if AutomobileCandidate['classname'] != 'Automobile':\n",
    "        return False\n",
    "    return Result\n",
    "\n",
    "\n",
    "print ( IsBoatCheck( Boat1 ) )\n",
    "print ( IsBoatCheck( Automobile1 ) )\n",
    "\n",
    "\n",
    "print ( IsAutomobileCheck( Boat1 ) )\n",
    "print ( IsAutomobileCheck( Automobile1 ) )"
   ]
  },
  {
   "cell_type": "code",
   "execution_count": null,
   "metadata": {},
   "outputs": [],
   "source": []
  }
 ],
 "metadata": {
  "kernelspec": {
   "display_name": "Python 3",
   "language": "python",
   "name": "python3"
  }
 },
 "nbformat": 4,
 "nbformat_minor": 2
}
