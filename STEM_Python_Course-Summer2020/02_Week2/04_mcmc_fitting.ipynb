{
 "cells": [
  {
   "cell_type": "code",
   "execution_count": 3,
   "metadata": {},
   "outputs": [],
   "source": [
    "# import all packages\n",
    "import corner,emcee\n",
    "import pandas\n",
    "import matplotlib.pyplot as plt\n",
    "import numpy as np"
   ]
  },
  {
   "cell_type": "code",
   "execution_count": null,
   "metadata": {},
   "outputs": [],
   "source": [
    "###INSERT YOUR CHI-SQUARE RESULTS HERE: (Should be an array of length 3)\n",
    "chisq_result=np.array([ , , ])"
   ]
  },
  {
   "cell_type": "code",
   "execution_count": 4,
   "metadata": {},
   "outputs": [
    {
     "name": "stdout",
     "output_type": "stream",
     "text": [
      "          x          y      error\n",
      "0  0.585921  13.648840  10.321681\n",
      "1  0.664152   7.321433  12.307353\n",
      "2  0.666299   8.691450  11.459853\n",
      "3  0.717126  -7.759708  14.261307\n",
      "4  0.828552   8.019604  11.597092\n"
     ]
    }
   ],
   "source": [
    "# read in some data we created for this example (.dat is a generic filename, it's just a text file)\n",
    "example_data_1D = pandas.read_csv('1D_intro_examples.dat',sep=' ',header=0)#this file is separated by spaces and its first line contains the names of the columns (header) \n",
    "print(example_data_1D.head())"
   ]
  },
  {
   "cell_type": "code",
   "execution_count": 5,
   "metadata": {},
   "outputs": [
    {
     "data": {
      "image/png": "[encoded data removed]",
      "text/plain": [
       "<Figure size 432x288 with 1 Axes>"
      ]
     },
     "metadata": {
      "needs_background": "light"
     },
     "output_type": "display_data"
    }
   ],
   "source": [
    "#Let's plot the data, with error bars, that we read from file (See Day 2)\n",
    "plt.errorbar(example_data_1D['x'], #x,y,and error are the column names\n",
    "             example_data_1D['y'], \n",
    "             yerr=example_data_1D['error'],#yerr denotes an error in the y-direction for plotting\n",
    "             fmt='.') #fmt is \"format\", saying that I want data marked by \"points\"\n",
    "plt.xlabel('x') #set the x-axis label \n",
    "plt.ylabel('y') #set the y-axis label\n",
    "plt.show()"
   ]
  },
  {
   "cell_type": "code",
   "execution_count": 6,
   "metadata": {},
   "outputs": [],
   "source": [
    "#The data were generated with a simple quadratic equation:\n",
    "#ax^2+bx+c. The true model values are:\n",
    "a_true=2\n",
    "b_true=1.3\n",
    "c_true=6\n",
    "def my_model(x,a,b,c): #We define the model described above\n",
    "    return(a*x**2+b*x+c)"
   ]
  },
  {
   "cell_type": "code",
   "execution_count": 7,
   "metadata": {},
   "outputs": [
    {
     "ename": "NameError",
     "evalue": "name 'result' is not defined",
     "output_type": "error",
     "traceback": [
      "\u001b[0;31m---------------------------------------------------------------------------\u001b[0m",
      "\u001b[0;31mNameError\u001b[0m                                 Traceback (most recent call last)",
      "\u001b[0;32m<ipython-input-7-477052eb0db4>\u001b[0m in \u001b[0;36m<module>\u001b[0;34m\u001b[0m\n\u001b[1;32m     25\u001b[0m \u001b[0;31m#Set up the MCMC to sample the full parameter space\u001b[0m\u001b[0;34m\u001b[0m\u001b[0;34m\u001b[0m\u001b[0;34m\u001b[0m\u001b[0m\n\u001b[1;32m     26\u001b[0m \u001b[0mndim\u001b[0m\u001b[0;34m,\u001b[0m \u001b[0mnwalkers\u001b[0m \u001b[0;34m=\u001b[0m \u001b[0;36m3\u001b[0m\u001b[0;34m,\u001b[0m \u001b[0;36m100\u001b[0m \u001b[0;31m#number of parameters to fit (3); number of individual \"walkers\" that randomly sample the space. Choose any number, the higher the slower.\u001b[0m\u001b[0;34m\u001b[0m\u001b[0;34m\u001b[0m\u001b[0m\n\u001b[0;32m---> 27\u001b[0;31m \u001b[0mstarting_positions\u001b[0m \u001b[0;34m=\u001b[0m \u001b[0;34m[\u001b[0m\u001b[0mresult\u001b[0m\u001b[0;34m[\u001b[0m\u001b[0;34m\"x\"\u001b[0m\u001b[0;34m]\u001b[0m \u001b[0;34m+\u001b[0m \u001b[0;36m0.1\u001b[0m\u001b[0;34m*\u001b[0m\u001b[0mnp\u001b[0m\u001b[0;34m.\u001b[0m\u001b[0mrandom\u001b[0m\u001b[0;34m.\u001b[0m\u001b[0mrandn\u001b[0m\u001b[0;34m(\u001b[0m\u001b[0mndim\u001b[0m\u001b[0;34m)\u001b[0m \u001b[0;32mfor\u001b[0m \u001b[0mi\u001b[0m \u001b[0;32min\u001b[0m \u001b[0mrange\u001b[0m\u001b[0;34m(\u001b[0m\u001b[0mnwalkers\u001b[0m\u001b[0;34m)\u001b[0m\u001b[0;34m]\u001b[0m \u001b[0;31m#Start the walkers in a random (small) gaussian near the result from the chi-square fit\u001b[0m\u001b[0;34m\u001b[0m\u001b[0;34m\u001b[0m\u001b[0m\n\u001b[0m\u001b[1;32m     28\u001b[0m \u001b[0;34m\u001b[0m\u001b[0m\n\u001b[1;32m     29\u001b[0m \u001b[0;31m#Let's just look at where walkers are starting in the a-b parameter space\u001b[0m\u001b[0;34m\u001b[0m\u001b[0;34m\u001b[0m\u001b[0;34m\u001b[0m\u001b[0m\n",
      "\u001b[0;32m<ipython-input-7-477052eb0db4>\u001b[0m in \u001b[0;36m<listcomp>\u001b[0;34m(.0)\u001b[0m\n\u001b[1;32m     25\u001b[0m \u001b[0;31m#Set up the MCMC to sample the full parameter space\u001b[0m\u001b[0;34m\u001b[0m\u001b[0;34m\u001b[0m\u001b[0;34m\u001b[0m\u001b[0m\n\u001b[1;32m     26\u001b[0m \u001b[0mndim\u001b[0m\u001b[0;34m,\u001b[0m \u001b[0mnwalkers\u001b[0m \u001b[0;34m=\u001b[0m \u001b[0;36m3\u001b[0m\u001b[0;34m,\u001b[0m \u001b[0;36m100\u001b[0m \u001b[0;31m#number of parameters to fit (3); number of individual \"walkers\" that randomly sample the space. Choose any number, the higher the slower.\u001b[0m\u001b[0;34m\u001b[0m\u001b[0;34m\u001b[0m\u001b[0m\n\u001b[0;32m---> 27\u001b[0;31m \u001b[0mstarting_positions\u001b[0m \u001b[0;34m=\u001b[0m \u001b[0;34m[\u001b[0m\u001b[0mresult\u001b[0m\u001b[0;34m[\u001b[0m\u001b[0;34m\"x\"\u001b[0m\u001b[0;34m]\u001b[0m \u001b[0;34m+\u001b[0m \u001b[0;36m0.1\u001b[0m\u001b[0;34m*\u001b[0m\u001b[0mnp\u001b[0m\u001b[0;34m.\u001b[0m\u001b[0mrandom\u001b[0m\u001b[0;34m.\u001b[0m\u001b[0mrandn\u001b[0m\u001b[0;34m(\u001b[0m\u001b[0mndim\u001b[0m\u001b[0;34m)\u001b[0m \u001b[0;32mfor\u001b[0m \u001b[0mi\u001b[0m \u001b[0;32min\u001b[0m \u001b[0mrange\u001b[0m\u001b[0;34m(\u001b[0m\u001b[0mnwalkers\u001b[0m\u001b[0;34m)\u001b[0m\u001b[0;34m]\u001b[0m \u001b[0;31m#Start the walkers in a random (small) gaussian near the result from the chi-square fit\u001b[0m\u001b[0;34m\u001b[0m\u001b[0;34m\u001b[0m\u001b[0m\n\u001b[0m\u001b[1;32m     28\u001b[0m \u001b[0;34m\u001b[0m\u001b[0m\n\u001b[1;32m     29\u001b[0m \u001b[0;31m#Let's just look at where walkers are starting in the a-b parameter space\u001b[0m\u001b[0;34m\u001b[0m\u001b[0;34m\u001b[0m\u001b[0;34m\u001b[0m\u001b[0m\n",
      "\u001b[0;31mNameError\u001b[0m: name 'result' is not defined"
     ]
    }
   ],
   "source": [
    "# We can combine a likelihood function with a prior function.\n",
    "\n",
    "# Create a log-prior function. \n",
    "def lnprior(theta):#accepts the model parameters (theta)\n",
    "    a,b,c = theta #set a,b,c (see above)\n",
    "    \n",
    "    #give the following bounds: a=(0,5),b=(-5,5),c=(0,10)\n",
    "    if 0 < a < 5. and -5 < b < 5 and 0 < c < 10: #we are assuming a \"uniform prior\" on all parameters, which is the same as just giving each parameter bounds.\n",
    "        return 0.0 #if you try parameters inside the bounds, return a probability of 1 (log(1)=0)\n",
    "    return -np.inf #if you try parameters outside the bounds, return 0 (log(0)=-inf)\n",
    "\n",
    "# This is a log-likelihood function, which is commonly used.\n",
    "def lnprob(theta, x, y, yerr,mod): #accepts theta (the model parameters), and the same x,y,yerr, and mod from above\n",
    "    lp = lnprior(theta) #get the probability from the prior function\n",
    "    if not np.isfinite(lp): \n",
    "        return -np.inf #return a probability of negative infinity if the prior is negative infinity\n",
    "\n",
    "    #the chisq_likelihood function returns a chi-square, \n",
    "    #which you want to be as small as possible. We are \n",
    "    #maximizing the likelihood here, so we take\n",
    "    #the negative of the chi-square function.\n",
    "    return lp - chisq_likelihood(theta, [x, y, yerr,mod]) #the total likelihood is the product of the prior and the likelihood (or the sum of the log-prior and log-likelihood)\n",
    "\n",
    "\n",
    "#Set up the MCMC to sample the full parameter space\n",
    "ndim, nwalkers = 3, 100 #number of parameters to fit (3); number of individual \"walkers\" that randomly sample the space. Choose any number, the higher the slower.\n",
    "starting_positions = [chisq_result + 0.1*np.random.randn(ndim) for i in range(nwalkers)] #Start the walkers in a random (small) gaussian near the result from the chi-square fit\n",
    "\n",
    "#Let's just look at where walkers are starting in the a-b parameter space\n",
    "#(Doesn't need to be included in your own code)\n",
    "#Notice we get a random sampling near our previous result to start. \n",
    "plt.scatter([x[0] for x in starting_positions],#get the \"a\" parameter locations\n",
    "            [x[1] for x in starting_positions])#get the \"b\" parameter locations\n",
    "plt.scatter(chisq_result[0],chisq_result[1],color='r')#the chi-square result\n",
    "plt.xlabel('a')\n",
    "plt.ylabel('b')\n",
    "plt.show()\n"
   ]
  },
  {
   "cell_type": "code",
   "execution_count": null,
   "metadata": {},
   "outputs": [],
   "source": []
  }
 ],
 "metadata": {
  "kernelspec": {
   "display_name": "Python 3",
   "language": "python",
   "name": "python3"
  },
  "language_info": {
   "codemirror_mode": {
    "name": "ipython",
    "version": 3
   },
   "file_extension": ".py",
   "mimetype": "text/x-python",
   "name": "python",
   "nbconvert_exporter": "python",
   "pygments_lexer": "ipython3",
   "version": "3.6.8"
  }
 },
 "nbformat": 4,
 "nbformat_minor": 2
}
